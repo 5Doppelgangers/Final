{
 "cells": [
  {
   "cell_type": "markdown",
   "metadata": {},
   "source": [
    "### Salary Predictions Based on College Attributes\n",
    "\n",
    "##### The purpose of this project is to make accurate salary predictions that are based on existing known salaries so students can make informed decisions when making their college choice. This model will help the colleges in marketing their school to future students as a reason to attend.\n",
    "\n",
    "##### Data transformation and machine learning will be used to create a model that will predict a salary based upon region and school type. \n",
    "\n",
    "##### The data for this model is relatively simplified as it has very few missing areas. The raw data consists of a dataset with the features listed above and their corresponding salaries. Twenty percent of this dataset was split into a test dataset with corresponding salaries so accuracy and error of the model can be determined.\n",
    "\n",
    "##### The features in this data set are described as below:\n",
    "\n",
    "##### Region: What area of the country the school is located in\n",
    "##### School Type: Party, Engineering, State, Liberal Arts, or Ivy League"
   ]
  },
  {
   "cell_type": "code",
   "execution_count": 36,
   "metadata": {},
   "outputs": [],
   "source": [
    "#import required libraries\n",
    "import pandas as pd\n",
    "import sklearn as sk\n",
    "import numpy as np\n",
    "import seaborn as sns\n",
    "import matplotlib.pyplot as plt\n",
    "%matplotlib inline \n",
    "import warnings\n",
    "warnings.filterwarnings('ignore')\n",
    "\n",
    "from scipy.stats import norm\n",
    "from sklearn.model_selection import train_test_split\n",
    "from sklearn.model_selection import cross_val_score\n",
    "from sklearn.model_selection import cross_val_predict\n",
    "from sklearn.model_selection import StratifiedKFold\n",
    "from sklearn.metrics import mean_squared_error\n",
    "from sklearn.linear_model import LinearRegression"
   ]
  },
  {
   "cell_type": "markdown",
   "metadata": {},
   "source": [
    "### Data Preparation\n",
    "#### Define relevant functions needed in the span of the project"
   ]
  },
  {
   "cell_type": "code",
   "execution_count": 219,
   "metadata": {},
   "outputs": [],
   "source": [
    "#function to load the data into a Pandas Dataframe\n",
    "def load_f(file):\n",
    "    return pd.read_csv(file)\n",
    "\n",
    "#clean the data - remove duplicates and salaries that are $0\n",
    "def clean_d(original_df):\n",
    "    clean_d = original_df.drop_duplicates(subset='School Name')\n",
    "    clean_d = original_df[original_df.Salary>0]\n",
    "    return clean_d\n",
    "\n",
    "#distribution plots \n",
    "def dis_data(Rfunction, Bfunction, Rname, Bname, title):\n",
    "    plt.figure(figsize=(10,6))\n",
    "    ax1 = sns.distplot(Rfunction, hist = False, color = 'r', label = Rname)\n",
    "    ax1 = sns.distplot(Bfunction, hist = False, color = 'b', label = Bname)\n",
    "    plt.gca().xaxis.set_major_formatter(plt.matplotlib.ticker.StrMethodFormatter('{x:,.0f}'))\n",
    "    plt.title(title)\n",
    "    plt.legend()\n",
    "    plt.show()\n",
    "    plt.close()"
   ]
  },
  {
   "cell_type": "code",
   "execution_count": 178,
   "metadata": {},
   "outputs": [
    {
     "name": "stdout",
     "output_type": "stream",
     "text": [
      "Loading data..\n"
     ]
    },
    {
     "data": {
      "text/html": [
       "<div>\n",
       "<style scoped>\n",
       "    .dataframe tbody tr th:only-of-type {\n",
       "        vertical-align: middle;\n",
       "    }\n",
       "\n",
       "    .dataframe tbody tr th {\n",
       "        vertical-align: top;\n",
       "    }\n",
       "\n",
       "    .dataframe thead th {\n",
       "        text-align: right;\n",
       "    }\n",
       "</style>\n",
       "<table border=\"1\" class=\"dataframe\">\n",
       "  <thead>\n",
       "    <tr style=\"text-align: right;\">\n",
       "      <th></th>\n",
       "      <th>School Name</th>\n",
       "      <th>School Type</th>\n",
       "      <th>Starting Median Salary</th>\n",
       "      <th>Mid-Career Median Salary</th>\n",
       "      <th>Mid-Career 10th Percentile Salary</th>\n",
       "      <th>Mid-Career 25th Percentile Salary</th>\n",
       "      <th>Mid-Career 75th Percentile Salary</th>\n",
       "      <th>Mid-Career 90th Percentile Salary</th>\n",
       "    </tr>\n",
       "  </thead>\n",
       "  <tbody>\n",
       "    <tr>\n",
       "      <th>0</th>\n",
       "      <td>Massachusetts Institute of Technology (MIT)</td>\n",
       "      <td>Engineering</td>\n",
       "      <td>$72,200.00</td>\n",
       "      <td>$126,000.00</td>\n",
       "      <td>$76,800.00</td>\n",
       "      <td>$99,200.00</td>\n",
       "      <td>$168,000.00</td>\n",
       "      <td>$220,000.00</td>\n",
       "    </tr>\n",
       "    <tr>\n",
       "      <th>1</th>\n",
       "      <td>California Institute of Technology (CIT)</td>\n",
       "      <td>Engineering</td>\n",
       "      <td>$75,500.00</td>\n",
       "      <td>$123,000.00</td>\n",
       "      <td>NaN</td>\n",
       "      <td>$104,000.00</td>\n",
       "      <td>$161,000.00</td>\n",
       "      <td>NaN</td>\n",
       "    </tr>\n",
       "    <tr>\n",
       "      <th>2</th>\n",
       "      <td>Harvey Mudd College</td>\n",
       "      <td>Engineering</td>\n",
       "      <td>$71,800.00</td>\n",
       "      <td>$122,000.00</td>\n",
       "      <td>NaN</td>\n",
       "      <td>$96,000.00</td>\n",
       "      <td>$180,000.00</td>\n",
       "      <td>NaN</td>\n",
       "    </tr>\n",
       "    <tr>\n",
       "      <th>3</th>\n",
       "      <td>Polytechnic University of New York, Brooklyn</td>\n",
       "      <td>Engineering</td>\n",
       "      <td>$62,400.00</td>\n",
       "      <td>$114,000.00</td>\n",
       "      <td>$66,800.00</td>\n",
       "      <td>$94,300.00</td>\n",
       "      <td>$143,000.00</td>\n",
       "      <td>$190,000.00</td>\n",
       "    </tr>\n",
       "    <tr>\n",
       "      <th>4</th>\n",
       "      <td>Cooper Union</td>\n",
       "      <td>Engineering</td>\n",
       "      <td>$62,200.00</td>\n",
       "      <td>$114,000.00</td>\n",
       "      <td>NaN</td>\n",
       "      <td>$80,200.00</td>\n",
       "      <td>$142,000.00</td>\n",
       "      <td>NaN</td>\n",
       "    </tr>\n",
       "  </tbody>\n",
       "</table>\n",
       "</div>"
      ],
      "text/plain": [
       "                                    School Name  School Type  \\\n",
       "0   Massachusetts Institute of Technology (MIT)  Engineering   \n",
       "1      California Institute of Technology (CIT)  Engineering   \n",
       "2                           Harvey Mudd College  Engineering   \n",
       "3  Polytechnic University of New York, Brooklyn  Engineering   \n",
       "4                                  Cooper Union  Engineering   \n",
       "\n",
       "  Starting Median Salary Mid-Career Median Salary  \\\n",
       "0             $72,200.00              $126,000.00   \n",
       "1             $75,500.00              $123,000.00   \n",
       "2             $71,800.00              $122,000.00   \n",
       "3             $62,400.00              $114,000.00   \n",
       "4             $62,200.00              $114,000.00   \n",
       "\n",
       "  Mid-Career 10th Percentile Salary Mid-Career 25th Percentile Salary  \\\n",
       "0                        $76,800.00                        $99,200.00   \n",
       "1                               NaN                       $104,000.00   \n",
       "2                               NaN                        $96,000.00   \n",
       "3                        $66,800.00                        $94,300.00   \n",
       "4                               NaN                        $80,200.00   \n",
       "\n",
       "  Mid-Career 75th Percentile Salary Mid-Career 90th Percentile Salary  \n",
       "0                       $168,000.00                       $220,000.00  \n",
       "1                       $161,000.00                               NaN  \n",
       "2                       $180,000.00                               NaN  \n",
       "3                       $143,000.00                       $190,000.00  \n",
       "4                       $142,000.00                               NaN  "
      ]
     },
     "execution_count": 178,
     "metadata": {},
     "output_type": "execute_result"
    }
   ],
   "source": [
    "#load data\n",
    "print(\"Loading data..\")\n",
    "college_df = load_f('salaries-by-college-type.csv')\n",
    "region_df = load_f('salaries-by-region.csv')\n",
    "major_df = load_f('degrees-that-pay-back.csv')\n",
    "\n",
    "#define the variables\n",
    "cat_vars = ['Type', 'Region']\n",
    "num_vars = ['Starting Median Salary', 'Mid-Career Median Salary', 'Mid-Career 10th Percentile Salary', 'Mid-Career 75th Percentile Salary', 'Mid-Career 90th Percentile Salary', 'Percent change from Starting Salary to Mid-Career Salary']\n",
    "tar = 'Starting Median Salary'\n",
    "\n",
    "#verify data is laoded \n",
    "college_df.head()"
   ]
  },
  {
   "cell_type": "code",
   "execution_count": 39,
   "metadata": {},
   "outputs": [
    {
     "data": {
      "text/html": [
       "<div>\n",
       "<style scoped>\n",
       "    .dataframe tbody tr th:only-of-type {\n",
       "        vertical-align: middle;\n",
       "    }\n",
       "\n",
       "    .dataframe tbody tr th {\n",
       "        vertical-align: top;\n",
       "    }\n",
       "\n",
       "    .dataframe thead th {\n",
       "        text-align: right;\n",
       "    }\n",
       "</style>\n",
       "<table border=\"1\" class=\"dataframe\">\n",
       "  <thead>\n",
       "    <tr style=\"text-align: right;\">\n",
       "      <th></th>\n",
       "      <th>School Name</th>\n",
       "      <th>Region</th>\n",
       "      <th>Starting Median Salary</th>\n",
       "      <th>Mid-Career Median Salary</th>\n",
       "      <th>Mid-Career 10th Percentile Salary</th>\n",
       "      <th>Mid-Career 25th Percentile Salary</th>\n",
       "      <th>Mid-Career 75th Percentile Salary</th>\n",
       "      <th>Mid-Career 90th Percentile Salary</th>\n",
       "    </tr>\n",
       "  </thead>\n",
       "  <tbody>\n",
       "    <tr>\n",
       "      <th>0</th>\n",
       "      <td>Stanford University</td>\n",
       "      <td>California</td>\n",
       "      <td>$70,400.00</td>\n",
       "      <td>$129,000.00</td>\n",
       "      <td>$68,400.00</td>\n",
       "      <td>$93,100.00</td>\n",
       "      <td>$184,000.00</td>\n",
       "      <td>$257,000.00</td>\n",
       "    </tr>\n",
       "    <tr>\n",
       "      <th>1</th>\n",
       "      <td>California Institute of Technology (CIT)</td>\n",
       "      <td>California</td>\n",
       "      <td>$75,500.00</td>\n",
       "      <td>$123,000.00</td>\n",
       "      <td>NaN</td>\n",
       "      <td>$104,000.00</td>\n",
       "      <td>$161,000.00</td>\n",
       "      <td>NaN</td>\n",
       "    </tr>\n",
       "    <tr>\n",
       "      <th>2</th>\n",
       "      <td>Harvey Mudd College</td>\n",
       "      <td>California</td>\n",
       "      <td>$71,800.00</td>\n",
       "      <td>$122,000.00</td>\n",
       "      <td>NaN</td>\n",
       "      <td>$96,000.00</td>\n",
       "      <td>$180,000.00</td>\n",
       "      <td>NaN</td>\n",
       "    </tr>\n",
       "    <tr>\n",
       "      <th>3</th>\n",
       "      <td>University of California, Berkeley</td>\n",
       "      <td>California</td>\n",
       "      <td>$59,900.00</td>\n",
       "      <td>$112,000.00</td>\n",
       "      <td>$59,500.00</td>\n",
       "      <td>$81,000.00</td>\n",
       "      <td>$149,000.00</td>\n",
       "      <td>$201,000.00</td>\n",
       "    </tr>\n",
       "    <tr>\n",
       "      <th>4</th>\n",
       "      <td>Occidental College</td>\n",
       "      <td>California</td>\n",
       "      <td>$51,900.00</td>\n",
       "      <td>$105,000.00</td>\n",
       "      <td>NaN</td>\n",
       "      <td>$54,800.00</td>\n",
       "      <td>$157,000.00</td>\n",
       "      <td>NaN</td>\n",
       "    </tr>\n",
       "  </tbody>\n",
       "</table>\n",
       "</div>"
      ],
      "text/plain": [
       "                                School Name      Region  \\\n",
       "0                       Stanford University  California   \n",
       "1  California Institute of Technology (CIT)  California   \n",
       "2                       Harvey Mudd College  California   \n",
       "3        University of California, Berkeley  California   \n",
       "4                        Occidental College  California   \n",
       "\n",
       "  Starting Median Salary Mid-Career Median Salary  \\\n",
       "0             $70,400.00              $129,000.00   \n",
       "1             $75,500.00              $123,000.00   \n",
       "2             $71,800.00              $122,000.00   \n",
       "3             $59,900.00              $112,000.00   \n",
       "4             $51,900.00              $105,000.00   \n",
       "\n",
       "  Mid-Career 10th Percentile Salary Mid-Career 25th Percentile Salary  \\\n",
       "0                        $68,400.00                        $93,100.00   \n",
       "1                               NaN                       $104,000.00   \n",
       "2                               NaN                        $96,000.00   \n",
       "3                        $59,500.00                        $81,000.00   \n",
       "4                               NaN                        $54,800.00   \n",
       "\n",
       "  Mid-Career 75th Percentile Salary Mid-Career 90th Percentile Salary  \n",
       "0                       $184,000.00                       $257,000.00  \n",
       "1                       $161,000.00                               NaN  \n",
       "2                       $180,000.00                               NaN  \n",
       "3                       $149,000.00                       $201,000.00  \n",
       "4                       $157,000.00                               NaN  "
      ]
     },
     "execution_count": 39,
     "metadata": {},
     "output_type": "execute_result"
    }
   ],
   "source": [
    "#verify data is loaded - \n",
    "region_df.head()"
   ]
  },
  {
   "cell_type": "markdown",
   "metadata": {},
   "source": [
    "#### See lengths and dtypes of the loaded data frames"
   ]
  },
  {
   "cell_type": "code",
   "execution_count": 40,
   "metadata": {},
   "outputs": [
    {
     "name": "stdout",
     "output_type": "stream",
     "text": [
      "<class 'pandas.core.frame.DataFrame'>\n",
      "RangeIndex: 269 entries, 0 to 268\n",
      "Data columns (total 8 columns):\n",
      " #   Column                             Non-Null Count  Dtype \n",
      "---  ------                             --------------  ----- \n",
      " 0   School Name                        269 non-null    object\n",
      " 1   School Type                        269 non-null    object\n",
      " 2   Starting Median Salary             269 non-null    object\n",
      " 3   Mid-Career Median Salary           269 non-null    object\n",
      " 4   Mid-Career 10th Percentile Salary  231 non-null    object\n",
      " 5   Mid-Career 25th Percentile Salary  269 non-null    object\n",
      " 6   Mid-Career 75th Percentile Salary  269 non-null    object\n",
      " 7   Mid-Career 90th Percentile Salary  231 non-null    object\n",
      "dtypes: object(8)\n",
      "memory usage: 16.9+ KB\n"
     ]
    }
   ],
   "source": [
    "college_df.info()"
   ]
  },
  {
   "cell_type": "code",
   "execution_count": 41,
   "metadata": {},
   "outputs": [
    {
     "name": "stdout",
     "output_type": "stream",
     "text": [
      "<class 'pandas.core.frame.DataFrame'>\n",
      "RangeIndex: 320 entries, 0 to 319\n",
      "Data columns (total 8 columns):\n",
      " #   Column                             Non-Null Count  Dtype \n",
      "---  ------                             --------------  ----- \n",
      " 0   School Name                        320 non-null    object\n",
      " 1   Region                             320 non-null    object\n",
      " 2   Starting Median Salary             320 non-null    object\n",
      " 3   Mid-Career Median Salary           320 non-null    object\n",
      " 4   Mid-Career 10th Percentile Salary  273 non-null    object\n",
      " 5   Mid-Career 25th Percentile Salary  320 non-null    object\n",
      " 6   Mid-Career 75th Percentile Salary  320 non-null    object\n",
      " 7   Mid-Career 90th Percentile Salary  273 non-null    object\n",
      "dtypes: object(8)\n",
      "memory usage: 20.1+ KB\n"
     ]
    }
   ],
   "source": [
    "region_df.info()"
   ]
  },
  {
   "cell_type": "markdown",
   "metadata": {},
   "source": [
    "#### Check the shape of the dataframes"
   ]
  },
  {
   "cell_type": "code",
   "execution_count": 199,
   "metadata": {},
   "outputs": [
    {
     "name": "stdout",
     "output_type": "stream",
     "text": [
      "(269, 8)\n",
      "(320, 8)\n"
     ]
    }
   ],
   "source": [
    "#shape of the data\n",
    "print(college_df.shape)\n",
    "print(region_df.shape)"
   ]
  },
  {
   "cell_type": "markdown",
   "metadata": {},
   "source": [
    "#### The data in the college_df has the Starting Median Salary, i.e the target variable along with School Name that corresponds with the School Name in the region_df. We will merge the two in a single dataframe."
   ]
  },
  {
   "cell_type": "code",
   "execution_count": 107,
   "metadata": {},
   "outputs": [],
   "source": [
    "#merge training data with features and training data with salary - store in train_df\n",
    "train_df = pd.merge(college_df,region_df, on = 'School Name')"
   ]
  },
  {
   "cell_type": "code",
   "execution_count": 108,
   "metadata": {},
   "outputs": [
    {
     "data": {
      "text/html": [
       "<div>\n",
       "<style scoped>\n",
       "    .dataframe tbody tr th:only-of-type {\n",
       "        vertical-align: middle;\n",
       "    }\n",
       "\n",
       "    .dataframe tbody tr th {\n",
       "        vertical-align: top;\n",
       "    }\n",
       "\n",
       "    .dataframe thead th {\n",
       "        text-align: right;\n",
       "    }\n",
       "</style>\n",
       "<table border=\"1\" class=\"dataframe\">\n",
       "  <thead>\n",
       "    <tr style=\"text-align: right;\">\n",
       "      <th></th>\n",
       "      <th>School Name</th>\n",
       "      <th>School Type</th>\n",
       "      <th>Starting Median Salary_x</th>\n",
       "      <th>Mid-Career Median Salary_x</th>\n",
       "      <th>Mid-Career 10th Percentile Salary_x</th>\n",
       "      <th>Mid-Career 25th Percentile Salary_x</th>\n",
       "      <th>Mid-Career 75th Percentile Salary_x</th>\n",
       "      <th>Mid-Career 90th Percentile Salary_x</th>\n",
       "      <th>Region</th>\n",
       "      <th>Starting Median Salary_y</th>\n",
       "      <th>Mid-Career Median Salary_y</th>\n",
       "      <th>Mid-Career 10th Percentile Salary_y</th>\n",
       "      <th>Mid-Career 25th Percentile Salary_y</th>\n",
       "      <th>Mid-Career 75th Percentile Salary_y</th>\n",
       "      <th>Mid-Career 90th Percentile Salary_y</th>\n",
       "    </tr>\n",
       "  </thead>\n",
       "  <tbody>\n",
       "    <tr>\n",
       "      <th>0</th>\n",
       "      <td>Massachusetts Institute of Technology (MIT)</td>\n",
       "      <td>Engineering</td>\n",
       "      <td>$72,200.00</td>\n",
       "      <td>$126,000.00</td>\n",
       "      <td>$76,800.00</td>\n",
       "      <td>$99,200.00</td>\n",
       "      <td>$168,000.00</td>\n",
       "      <td>$220,000.00</td>\n",
       "      <td>Northeastern</td>\n",
       "      <td>$72,200.00</td>\n",
       "      <td>$126,000.00</td>\n",
       "      <td>$76,800.00</td>\n",
       "      <td>$99,200.00</td>\n",
       "      <td>$168,000.00</td>\n",
       "      <td>$220,000.00</td>\n",
       "    </tr>\n",
       "    <tr>\n",
       "      <th>1</th>\n",
       "      <td>California Institute of Technology (CIT)</td>\n",
       "      <td>Engineering</td>\n",
       "      <td>$75,500.00</td>\n",
       "      <td>$123,000.00</td>\n",
       "      <td>NaN</td>\n",
       "      <td>$104,000.00</td>\n",
       "      <td>$161,000.00</td>\n",
       "      <td>NaN</td>\n",
       "      <td>California</td>\n",
       "      <td>$75,500.00</td>\n",
       "      <td>$123,000.00</td>\n",
       "      <td>NaN</td>\n",
       "      <td>$104,000.00</td>\n",
       "      <td>$161,000.00</td>\n",
       "      <td>NaN</td>\n",
       "    </tr>\n",
       "    <tr>\n",
       "      <th>2</th>\n",
       "      <td>Harvey Mudd College</td>\n",
       "      <td>Engineering</td>\n",
       "      <td>$71,800.00</td>\n",
       "      <td>$122,000.00</td>\n",
       "      <td>NaN</td>\n",
       "      <td>$96,000.00</td>\n",
       "      <td>$180,000.00</td>\n",
       "      <td>NaN</td>\n",
       "      <td>California</td>\n",
       "      <td>$71,800.00</td>\n",
       "      <td>$122,000.00</td>\n",
       "      <td>NaN</td>\n",
       "      <td>$96,000.00</td>\n",
       "      <td>$180,000.00</td>\n",
       "      <td>NaN</td>\n",
       "    </tr>\n",
       "    <tr>\n",
       "      <th>3</th>\n",
       "      <td>Polytechnic University of New York, Brooklyn</td>\n",
       "      <td>Engineering</td>\n",
       "      <td>$62,400.00</td>\n",
       "      <td>$114,000.00</td>\n",
       "      <td>$66,800.00</td>\n",
       "      <td>$94,300.00</td>\n",
       "      <td>$143,000.00</td>\n",
       "      <td>$190,000.00</td>\n",
       "      <td>Northeastern</td>\n",
       "      <td>$62,400.00</td>\n",
       "      <td>$114,000.00</td>\n",
       "      <td>$66,800.00</td>\n",
       "      <td>$94,300.00</td>\n",
       "      <td>$143,000.00</td>\n",
       "      <td>$190,000.00</td>\n",
       "    </tr>\n",
       "    <tr>\n",
       "      <th>4</th>\n",
       "      <td>Cooper Union</td>\n",
       "      <td>Engineering</td>\n",
       "      <td>$62,200.00</td>\n",
       "      <td>$114,000.00</td>\n",
       "      <td>NaN</td>\n",
       "      <td>$80,200.00</td>\n",
       "      <td>$142,000.00</td>\n",
       "      <td>NaN</td>\n",
       "      <td>Northeastern</td>\n",
       "      <td>$62,200.00</td>\n",
       "      <td>$114,000.00</td>\n",
       "      <td>NaN</td>\n",
       "      <td>$80,200.00</td>\n",
       "      <td>$142,000.00</td>\n",
       "      <td>NaN</td>\n",
       "    </tr>\n",
       "  </tbody>\n",
       "</table>\n",
       "</div>"
      ],
      "text/plain": [
       "                                    School Name  School Type  \\\n",
       "0   Massachusetts Institute of Technology (MIT)  Engineering   \n",
       "1      California Institute of Technology (CIT)  Engineering   \n",
       "2                           Harvey Mudd College  Engineering   \n",
       "3  Polytechnic University of New York, Brooklyn  Engineering   \n",
       "4                                  Cooper Union  Engineering   \n",
       "\n",
       "  Starting Median Salary_x Mid-Career Median Salary_x  \\\n",
       "0               $72,200.00                $126,000.00   \n",
       "1               $75,500.00                $123,000.00   \n",
       "2               $71,800.00                $122,000.00   \n",
       "3               $62,400.00                $114,000.00   \n",
       "4               $62,200.00                $114,000.00   \n",
       "\n",
       "  Mid-Career 10th Percentile Salary_x Mid-Career 25th Percentile Salary_x  \\\n",
       "0                          $76,800.00                          $99,200.00   \n",
       "1                                 NaN                         $104,000.00   \n",
       "2                                 NaN                          $96,000.00   \n",
       "3                          $66,800.00                          $94,300.00   \n",
       "4                                 NaN                          $80,200.00   \n",
       "\n",
       "  Mid-Career 75th Percentile Salary_x Mid-Career 90th Percentile Salary_x  \\\n",
       "0                         $168,000.00                         $220,000.00   \n",
       "1                         $161,000.00                                 NaN   \n",
       "2                         $180,000.00                                 NaN   \n",
       "3                         $143,000.00                         $190,000.00   \n",
       "4                         $142,000.00                                 NaN   \n",
       "\n",
       "         Region Starting Median Salary_y Mid-Career Median Salary_y  \\\n",
       "0  Northeastern               $72,200.00                $126,000.00   \n",
       "1    California               $75,500.00                $123,000.00   \n",
       "2    California               $71,800.00                $122,000.00   \n",
       "3  Northeastern               $62,400.00                $114,000.00   \n",
       "4  Northeastern               $62,200.00                $114,000.00   \n",
       "\n",
       "  Mid-Career 10th Percentile Salary_y Mid-Career 25th Percentile Salary_y  \\\n",
       "0                          $76,800.00                          $99,200.00   \n",
       "1                                 NaN                         $104,000.00   \n",
       "2                                 NaN                          $96,000.00   \n",
       "3                          $66,800.00                          $94,300.00   \n",
       "4                                 NaN                          $80,200.00   \n",
       "\n",
       "  Mid-Career 75th Percentile Salary_y Mid-Career 90th Percentile Salary_y  \n",
       "0                         $168,000.00                         $220,000.00  \n",
       "1                         $161,000.00                                 NaN  \n",
       "2                         $180,000.00                                 NaN  \n",
       "3                         $143,000.00                         $190,000.00  \n",
       "4                         $142,000.00                                 NaN  "
      ]
     },
     "execution_count": 108,
     "metadata": {},
     "output_type": "execute_result"
    }
   ],
   "source": [
    "#verify features on merged data\n",
    "train_df.head()"
   ]
  },
  {
   "cell_type": "code",
   "execution_count": 109,
   "metadata": {},
   "outputs": [
    {
     "name": "stdout",
     "output_type": "stream",
     "text": [
      "(268, 15)\n"
     ]
    }
   ],
   "source": [
    "#verify shape of the merged data-\n",
    "print(train_df.shape)"
   ]
  },
  {
   "cell_type": "markdown",
   "metadata": {},
   "source": [
    "#### The dataframes merged correctly as we see the shape and the features are correct.  We will now delete the unneeded columns, rename the Starting Median Salary column, and check for missing values."
   ]
  },
  {
   "cell_type": "code",
   "execution_count": 110,
   "metadata": {},
   "outputs": [],
   "source": [
    "#Remove the fields from the data set that we don't want to include in our model\n",
    "\n",
    "del train_df['Mid-Career 10th Percentile Salary_x']\n",
    "del train_df['Mid-Career 25th Percentile Salary_x']\n",
    "del train_df['Mid-Career 75th Percentile Salary_x']\n",
    "del train_df['Mid-Career 90th Percentile Salary_x']\n",
    "del train_df['Mid-Career Median Salary_x']\n",
    "del train_df['Mid-Career Median Salary_y']\n",
    "del train_df['Mid-Career 10th Percentile Salary_y']\n",
    "del train_df['Mid-Career 25th Percentile Salary_y']\n",
    "del train_df['Mid-Career 75th Percentile Salary_y']\n",
    "del train_df['Mid-Career 90th Percentile Salary_y']\n",
    "del train_df['Starting Median Salary_y']"
   ]
  },
  {
   "cell_type": "code",
   "execution_count": 166,
   "metadata": {},
   "outputs": [],
   "source": [
    "#Rename the Starting Median Salary Column\n",
    "train_df.rename(columns = {'Starting Median Salary_x':'Salary'}, inplace=True)\n",
    "train_df.rename(columns = {'School Type':'Type'}, inplace = True)"
   ]
  },
  {
   "cell_type": "code",
   "execution_count": 167,
   "metadata": {},
   "outputs": [
    {
     "name": "stdout",
     "output_type": "stream",
     "text": [
      "(268, 4)\n"
     ]
    }
   ],
   "source": [
    "#verify shape of the remaining data-\n",
    "print(train_df.shape)"
   ]
  },
  {
   "cell_type": "code",
   "execution_count": 168,
   "metadata": {},
   "outputs": [
    {
     "data": {
      "text/plain": [
       "School Name    0\n",
       "Type           0\n",
       "Salary         0\n",
       "Region         0\n",
       "dtype: int64"
      ]
     },
     "execution_count": 168,
     "metadata": {},
     "output_type": "execute_result"
    }
   ],
   "source": [
    "#store the sum of missing values in each column - \n",
    "missing_val = train_df.isnull().sum()\n",
    "missing_val"
   ]
  },
  {
   "cell_type": "markdown",
   "metadata": {},
   "source": [
    "#### There are no missing values.  Now we will clean the data."
   ]
  },
  {
   "cell_type": "code",
   "execution_count": 169,
   "metadata": {},
   "outputs": [],
   "source": [
    "train_df['Salary']=(train_df['Salary'].replace( '[\\$,)]','', regex=True )\n",
    "                   .replace( '[(]','-',   regex=True ).astype(float))"
   ]
  },
  {
   "cell_type": "code",
   "execution_count": 170,
   "metadata": {},
   "outputs": [
    {
     "data": {
      "text/html": [
       "<div>\n",
       "<style scoped>\n",
       "    .dataframe tbody tr th:only-of-type {\n",
       "        vertical-align: middle;\n",
       "    }\n",
       "\n",
       "    .dataframe tbody tr th {\n",
       "        vertical-align: top;\n",
       "    }\n",
       "\n",
       "    .dataframe thead th {\n",
       "        text-align: right;\n",
       "    }\n",
       "</style>\n",
       "<table border=\"1\" class=\"dataframe\">\n",
       "  <thead>\n",
       "    <tr style=\"text-align: right;\">\n",
       "      <th></th>\n",
       "      <th>School Name</th>\n",
       "      <th>Type</th>\n",
       "      <th>Salary</th>\n",
       "      <th>Region</th>\n",
       "    </tr>\n",
       "  </thead>\n",
       "  <tbody>\n",
       "  </tbody>\n",
       "</table>\n",
       "</div>"
      ],
      "text/plain": [
       "Empty DataFrame\n",
       "Columns: [School Name, Type, Salary, Region]\n",
       "Index: []"
      ]
     },
     "execution_count": 170,
     "metadata": {},
     "output_type": "execute_result"
    }
   ],
   "source": [
    "#store the the salaries in the training data which are less than or equal to 0\n",
    "zero_sal = train_df['Salary']<=0\n",
    "inval = train_df[zero_sal]\n",
    "inval"
   ]
  },
  {
   "cell_type": "code",
   "execution_count": 171,
   "metadata": {},
   "outputs": [],
   "source": [
    "#clean the data i.e, remove duplicates and remove the salaries that are invalid or not useful for predictions like salary<=0\n",
    "#calling the function\n",
    "clean_train_df = clean_d(train_df)"
   ]
  },
  {
   "cell_type": "code",
   "execution_count": 172,
   "metadata": {},
   "outputs": [],
   "source": [
    "#Remove the fields from the data set that we don't want to include in our model\n",
    "del clean_train_df['School Name']"
   ]
  },
  {
   "cell_type": "code",
   "execution_count": 173,
   "metadata": {},
   "outputs": [
    {
     "name": "stdout",
     "output_type": "stream",
     "text": [
      "(268, 3)\n"
     ]
    }
   ],
   "source": [
    "print(clean_train_df.shape)"
   ]
  },
  {
   "cell_type": "code",
   "execution_count": 174,
   "metadata": {},
   "outputs": [
    {
     "data": {
      "text/html": [
       "<div>\n",
       "<style scoped>\n",
       "    .dataframe tbody tr th:only-of-type {\n",
       "        vertical-align: middle;\n",
       "    }\n",
       "\n",
       "    .dataframe tbody tr th {\n",
       "        vertical-align: top;\n",
       "    }\n",
       "\n",
       "    .dataframe thead th {\n",
       "        text-align: right;\n",
       "    }\n",
       "</style>\n",
       "<table border=\"1\" class=\"dataframe\">\n",
       "  <thead>\n",
       "    <tr style=\"text-align: right;\">\n",
       "      <th></th>\n",
       "      <th>Type</th>\n",
       "      <th>Salary</th>\n",
       "      <th>Region</th>\n",
       "    </tr>\n",
       "  </thead>\n",
       "  <tbody>\n",
       "    <tr>\n",
       "      <th>263</th>\n",
       "      <td>State</td>\n",
       "      <td>37700.0</td>\n",
       "      <td>Southern</td>\n",
       "    </tr>\n",
       "    <tr>\n",
       "      <th>264</th>\n",
       "      <td>State</td>\n",
       "      <td>40400.0</td>\n",
       "      <td>Midwestern</td>\n",
       "    </tr>\n",
       "    <tr>\n",
       "      <th>265</th>\n",
       "      <td>State</td>\n",
       "      <td>41900.0</td>\n",
       "      <td>Western</td>\n",
       "    </tr>\n",
       "    <tr>\n",
       "      <th>266</th>\n",
       "      <td>State</td>\n",
       "      <td>37900.0</td>\n",
       "      <td>Western</td>\n",
       "    </tr>\n",
       "    <tr>\n",
       "      <th>267</th>\n",
       "      <td>State</td>\n",
       "      <td>35300.0</td>\n",
       "      <td>Midwestern</td>\n",
       "    </tr>\n",
       "  </tbody>\n",
       "</table>\n",
       "</div>"
      ],
      "text/plain": [
       "      Type   Salary      Region\n",
       "263  State  37700.0    Southern\n",
       "264  State  40400.0  Midwestern\n",
       "265  State  41900.0     Western\n",
       "266  State  37900.0     Western\n",
       "267  State  35300.0  Midwestern"
      ]
     },
     "execution_count": 174,
     "metadata": {},
     "output_type": "execute_result"
    }
   ],
   "source": [
    "#Reset the index values after dropping the invalid values \n",
    "clean_train_df.reset_index(drop = True)\n",
    "clean_train_df.tail()"
   ]
  },
  {
   "cell_type": "markdown",
   "metadata": {},
   "source": [
    "#### Next, we will check the data types to be sure they are appropriate for the columns."
   ]
  },
  {
   "cell_type": "code",
   "execution_count": 175,
   "metadata": {},
   "outputs": [
    {
     "name": "stdout",
     "output_type": "stream",
     "text": [
      "Type       object\n",
      "Salary    float64\n",
      "Region     object\n",
      "dtype: object\n"
     ]
    }
   ],
   "source": [
    "print(clean_train_df.dtypes)"
   ]
  },
  {
   "cell_type": "markdown",
   "metadata": {},
   "source": [
    "### Exploratory Data Analysis\n",
    "#### Quantitative Data Descriptive Statistics"
   ]
  },
  {
   "cell_type": "code",
   "execution_count": 176,
   "metadata": {},
   "outputs": [
    {
     "data": {
      "text/html": [
       "<div>\n",
       "<style scoped>\n",
       "    .dataframe tbody tr th:only-of-type {\n",
       "        vertical-align: middle;\n",
       "    }\n",
       "\n",
       "    .dataframe tbody tr th {\n",
       "        vertical-align: top;\n",
       "    }\n",
       "\n",
       "    .dataframe thead th {\n",
       "        text-align: right;\n",
       "    }\n",
       "</style>\n",
       "<table border=\"1\" class=\"dataframe\">\n",
       "  <thead>\n",
       "    <tr style=\"text-align: right;\">\n",
       "      <th></th>\n",
       "      <th>Salary</th>\n",
       "    </tr>\n",
       "  </thead>\n",
       "  <tbody>\n",
       "    <tr>\n",
       "      <th>count</th>\n",
       "      <td>268.000000</td>\n",
       "    </tr>\n",
       "    <tr>\n",
       "      <th>mean</th>\n",
       "      <td>46043.656716</td>\n",
       "    </tr>\n",
       "    <tr>\n",
       "      <th>std</th>\n",
       "      <td>6411.734098</td>\n",
       "    </tr>\n",
       "    <tr>\n",
       "      <th>min</th>\n",
       "      <td>34800.000000</td>\n",
       "    </tr>\n",
       "    <tr>\n",
       "      <th>25%</th>\n",
       "      <td>42000.000000</td>\n",
       "    </tr>\n",
       "    <tr>\n",
       "      <th>50%</th>\n",
       "      <td>44700.000000</td>\n",
       "    </tr>\n",
       "    <tr>\n",
       "      <th>75%</th>\n",
       "      <td>48150.000000</td>\n",
       "    </tr>\n",
       "    <tr>\n",
       "      <th>max</th>\n",
       "      <td>75500.000000</td>\n",
       "    </tr>\n",
       "  </tbody>\n",
       "</table>\n",
       "</div>"
      ],
      "text/plain": [
       "             Salary\n",
       "count    268.000000\n",
       "mean   46043.656716\n",
       "std     6411.734098\n",
       "min    34800.000000\n",
       "25%    42000.000000\n",
       "50%    44700.000000\n",
       "75%    48150.000000\n",
       "max    75500.000000"
      ]
     },
     "execution_count": 176,
     "metadata": {},
     "output_type": "execute_result"
    }
   ],
   "source": [
    "clean_train_df.describe()"
   ]
  },
  {
   "cell_type": "markdown",
   "metadata": {},
   "source": [
    "#### In looking at the above, the count, min, and max look correct for the salary data. The mean and standard deviation don't provide any indication that something is with the salary data."
   ]
  },
  {
   "cell_type": "code",
   "execution_count": 179,
   "metadata": {},
   "outputs": [
    {
     "name": "stdout",
     "output_type": "stream",
     "text": [
      "State           175\n",
      "Liberal Arts     47\n",
      "Party            20\n",
      "Engineering      18\n",
      "Ivy League        8\n",
      "Name: Type, dtype: int64\n",
      "Northeastern    70\n",
      "Southern        68\n",
      "Midwestern      64\n",
      "Western         39\n",
      "California      27\n",
      "Name: Region, dtype: int64\n"
     ]
    }
   ],
   "source": [
    "#count of unique values in categorical data\n",
    "for cat in cat_vars:\n",
    "    if cat != 'Salary':\n",
    "       print(clean_train_df[cat].value_counts())"
   ]
  },
  {
   "cell_type": "code",
   "execution_count": 180,
   "metadata": {},
   "outputs": [
    {
     "data": {
      "text/plain": [
       "Type        5\n",
       "Salary    145\n",
       "Region      5\n",
       "dtype: int64"
      ]
     },
     "execution_count": 180,
     "metadata": {},
     "output_type": "execute_result"
    }
   ],
   "source": [
    "# unique values in clean_train_df data -\n",
    "clean_train_df.nunique()"
   ]
  },
  {
   "cell_type": "code",
   "execution_count": 181,
   "metadata": {},
   "outputs": [
    {
     "name": "stdout",
     "output_type": "stream",
     "text": [
      "Salary Skewness: 1.5322161789586024\n",
      "Salary Kurtosis: 3.3167694686433755\n",
      "\n",
      "\n"
     ]
    }
   ],
   "source": [
    "#compute the kurtosis and skewness of salary\n",
    "print('Salary Skewness:', clean_train_df['Salary'].skew())\n",
    "print('Salary Kurtosis:', clean_train_df['Salary'].kurt())\n",
    "print('\\n')"
   ]
  },
  {
   "cell_type": "markdown",
   "metadata": {},
   "source": [
    "#### The Salary Skewness is greater than +1, this is an indication of a substaintially positively skewed distribution.  For kurtosis, the general guideline is that if the number is greater than +1, the distribution is too peaked.  Our number of 3.316 indicates a distribution that is more peaked than a normal distribution (kurtosis of 0)."
   ]
  },
  {
   "cell_type": "markdown",
   "metadata": {},
   "source": [
    "### Visualize target variable (Salary)"
   ]
  },
  {
   "cell_type": "code",
   "execution_count": 182,
   "metadata": {},
   "outputs": [
    {
     "name": "stdout",
     "output_type": "stream",
     "text": [
      "The upper and lower bounds for suspected outliers are 57375.0 and 32775.0.\n"
     ]
    }
   ],
   "source": [
    "#We use IQR to identify potential outliers \n",
    "\n",
    "stats = clean_train_df['Salary'].describe()\n",
    "IQR = stats['75%'] - stats['25%']\n",
    "upper_bound = stats['75%'] + 1.5 * IQR\n",
    "lower_bound = stats['25%'] - 1.5 * IQR\n",
    "print('The upper and lower bounds for suspected outliers are {} and {}.'.format(upper_bound, lower_bound))"
   ]
  },
  {
   "cell_type": "code",
   "execution_count": 202,
   "metadata": {},
   "outputs": [
    {
     "data": {
      "image/png": "[encoded data removed]",
      "text/plain": [
       "<Figure size 1008x432 with 2 Axes>"
      ]
     },
     "metadata": {
      "needs_background": "light"
     },
     "output_type": "display_data"
    }
   ],
   "source": [
    "plt.figure(figsize=(14,6))\n",
    "plt.subplot(1,2,1)\n",
    "sns.boxplot(clean_train_df['Salary'])\n",
    "plt.gca().xaxis.set_major_formatter(plt.matplotlib.ticker.StrMethodFormatter('{x:,.0f}'))\n",
    "plt.subplot(1,2,2)\n",
    "sns.distplot(clean_train_df['Salary'], bins = 10)\n",
    "plt.gca().xaxis.set_major_formatter(plt.matplotlib.ticker.StrMethodFormatter('{x:,.0f}'))\n",
    "plt.show()"
   ]
  },
  {
   "cell_type": "code",
   "execution_count": 184,
   "metadata": {},
   "outputs": [
    {
     "data": {
      "text/html": [
       "<div>\n",
       "<style scoped>\n",
       "    .dataframe tbody tr th:only-of-type {\n",
       "        vertical-align: middle;\n",
       "    }\n",
       "\n",
       "    .dataframe tbody tr th {\n",
       "        vertical-align: top;\n",
       "    }\n",
       "\n",
       "    .dataframe thead th {\n",
       "        text-align: right;\n",
       "    }\n",
       "</style>\n",
       "<table border=\"1\" class=\"dataframe\">\n",
       "  <thead>\n",
       "    <tr style=\"text-align: right;\">\n",
       "      <th></th>\n",
       "      <th>Type</th>\n",
       "      <th>Salary</th>\n",
       "      <th>Region</th>\n",
       "    </tr>\n",
       "  </thead>\n",
       "  <tbody>\n",
       "  </tbody>\n",
       "</table>\n",
       "</div>"
      ],
      "text/plain": [
       "Empty DataFrame\n",
       "Columns: [Type, Salary, Region]\n",
       "Index: []"
      ]
     },
     "execution_count": 184,
     "metadata": {},
     "output_type": "execute_result"
    }
   ],
   "source": [
    "# Examine the outliers below the lower bound- \n",
    "clean_train_df[clean_train_df['Salary'] < 32775.0]"
   ]
  },
  {
   "cell_type": "code",
   "execution_count": 186,
   "metadata": {},
   "outputs": [
    {
     "data": {
      "text/plain": [
       "Engineering    11\n",
       "Ivy League      7\n",
       "State           1\n",
       "Name: Type, dtype: int64"
      ]
     },
     "execution_count": 186,
     "metadata": {},
     "output_type": "execute_result"
    }
   ],
   "source": [
    "#Examine potential outliers above the upper bound - \n",
    "clean_train_df.loc[clean_train_df['Salary'] > 57375.0, 'Type'].value_counts()"
   ]
  },
  {
   "cell_type": "code",
   "execution_count": 187,
   "metadata": {},
   "outputs": [
    {
     "data": {
      "text/plain": [
       "Northeastern    14\n",
       "California       3\n",
       "Southern         1\n",
       "Western          1\n",
       "Name: Region, dtype: int64"
      ]
     },
     "execution_count": 187,
     "metadata": {},
     "output_type": "execute_result"
    }
   ],
   "source": [
    "#Examine potential outliers above the upper bound - \n",
    "clean_train_df.loc[clean_train_df['Salary'] > 57375.0, 'Region'].value_counts()"
   ]
  },
  {
   "cell_type": "markdown",
   "metadata": {},
   "source": [
    "####  It looks like the outliers are all attributed to engineering school types or the northeastern region.  Engineering School Type produced the highest salaries in the data set and Ivy League Schools are located in the Northeastern Region.  This seems appropriate so we will keep the data."
   ]
  },
  {
   "cell_type": "markdown",
   "metadata": {},
   "source": [
    "### Relationships with categorical features-"
   ]
  },
  {
   "cell_type": "markdown",
   "metadata": {},
   "source": [
    "####  We will visualize the categorical features to see which features could be good predictors of salary.  Below are violin plots showing the mean and interquartile ranges in addition to the shape of the distribution curve. "
   ]
  },
  {
   "cell_type": "code",
   "execution_count": 188,
   "metadata": {},
   "outputs": [
    {
     "data": {
      "image/png": "[encoded data removed]",
      "text/plain": [
       "<Figure size 432x288 with 1 Axes>"
      ]
     },
     "metadata": {
      "needs_background": "light"
     },
     "output_type": "display_data"
    }
   ],
   "source": [
    "sns.violinplot(x = clean_train_df.Region, y = clean_train_df['Salary'], data = clean_train_df, scale = 'count', inner = 'quartile')\n",
    "plt.xticks(rotation = 70)\n",
    "plt.ylabel('Salaries in $')\n",
    "plt.gca().yaxis.set_major_formatter(plt.matplotlib.ticker.StrMethodFormatter('{x:,.0f}'))\n",
    "plt.show()"
   ]
  },
  {
   "cell_type": "markdown",
   "metadata": {},
   "source": [
    "#### We can see that the California region had the highest salary, followed closely by the Northeastern region. Distributions appear normal "
   ]
  },
  {
   "cell_type": "code",
   "execution_count": 191,
   "metadata": {},
   "outputs": [
    {
     "data": {
      "image/png": "[encoded data removed]",
      "text/plain": [
       "<Figure size 432x288 with 1 Axes>"
      ]
     },
     "metadata": {
      "needs_background": "light"
     },
     "output_type": "display_data"
    }
   ],
   "source": [
    "sns.violinplot(x = clean_train_df.Type, y = clean_train_df['Salary'], data = clean_train_df, scale = 'count', inner = 'quartile')\n",
    "plt.xticks(rotation = 70)\n",
    "plt.ylabel('Salaries in $')\n",
    "plt.gca().yaxis.set_major_formatter(plt.matplotlib.ticker.StrMethodFormatter('{x:,.0f}'))\n",
    "plt.show()"
   ]
  },
  {
   "cell_type": "markdown",
   "metadata": {},
   "source": [
    "#### We can see that Ivy League and Engineering are the highest starting salary school types."
   ]
  },
  {
   "cell_type": "markdown",
   "metadata": {},
   "source": [
    "#### We will now assigning dummy variables to the categorical data (\"get dummies\") so it can be used in the machine learning model. "
   ]
  },
  {
   "cell_type": "code",
   "execution_count": 192,
   "metadata": {},
   "outputs": [],
   "source": [
    "## One-hot encode categorical data in clean_train_df dataset\n",
    "clean_train_df = pd.get_dummies(clean_train_df)"
   ]
  },
  {
   "cell_type": "code",
   "execution_count": 193,
   "metadata": {},
   "outputs": [
    {
     "data": {
      "text/html": [
       "<div>\n",
       "<style scoped>\n",
       "    .dataframe tbody tr th:only-of-type {\n",
       "        vertical-align: middle;\n",
       "    }\n",
       "\n",
       "    .dataframe tbody tr th {\n",
       "        vertical-align: top;\n",
       "    }\n",
       "\n",
       "    .dataframe thead th {\n",
       "        text-align: right;\n",
       "    }\n",
       "</style>\n",
       "<table border=\"1\" class=\"dataframe\">\n",
       "  <thead>\n",
       "    <tr style=\"text-align: right;\">\n",
       "      <th></th>\n",
       "      <th>Salary</th>\n",
       "      <th>Type_Engineering</th>\n",
       "      <th>Type_Ivy League</th>\n",
       "      <th>Type_Liberal Arts</th>\n",
       "      <th>Type_Party</th>\n",
       "      <th>Type_State</th>\n",
       "      <th>Region_California</th>\n",
       "      <th>Region_Midwestern</th>\n",
       "      <th>Region_Northeastern</th>\n",
       "      <th>Region_Southern</th>\n",
       "      <th>Region_Western</th>\n",
       "    </tr>\n",
       "  </thead>\n",
       "  <tbody>\n",
       "    <tr>\n",
       "      <th>0</th>\n",
       "      <td>72200.0</td>\n",
       "      <td>1</td>\n",
       "      <td>0</td>\n",
       "      <td>0</td>\n",
       "      <td>0</td>\n",
       "      <td>0</td>\n",
       "      <td>0</td>\n",
       "      <td>0</td>\n",
       "      <td>1</td>\n",
       "      <td>0</td>\n",
       "      <td>0</td>\n",
       "    </tr>\n",
       "    <tr>\n",
       "      <th>1</th>\n",
       "      <td>75500.0</td>\n",
       "      <td>1</td>\n",
       "      <td>0</td>\n",
       "      <td>0</td>\n",
       "      <td>0</td>\n",
       "      <td>0</td>\n",
       "      <td>1</td>\n",
       "      <td>0</td>\n",
       "      <td>0</td>\n",
       "      <td>0</td>\n",
       "      <td>0</td>\n",
       "    </tr>\n",
       "    <tr>\n",
       "      <th>2</th>\n",
       "      <td>71800.0</td>\n",
       "      <td>1</td>\n",
       "      <td>0</td>\n",
       "      <td>0</td>\n",
       "      <td>0</td>\n",
       "      <td>0</td>\n",
       "      <td>1</td>\n",
       "      <td>0</td>\n",
       "      <td>0</td>\n",
       "      <td>0</td>\n",
       "      <td>0</td>\n",
       "    </tr>\n",
       "    <tr>\n",
       "      <th>3</th>\n",
       "      <td>62400.0</td>\n",
       "      <td>1</td>\n",
       "      <td>0</td>\n",
       "      <td>0</td>\n",
       "      <td>0</td>\n",
       "      <td>0</td>\n",
       "      <td>0</td>\n",
       "      <td>0</td>\n",
       "      <td>1</td>\n",
       "      <td>0</td>\n",
       "      <td>0</td>\n",
       "    </tr>\n",
       "    <tr>\n",
       "      <th>4</th>\n",
       "      <td>62200.0</td>\n",
       "      <td>1</td>\n",
       "      <td>0</td>\n",
       "      <td>0</td>\n",
       "      <td>0</td>\n",
       "      <td>0</td>\n",
       "      <td>0</td>\n",
       "      <td>0</td>\n",
       "      <td>1</td>\n",
       "      <td>0</td>\n",
       "      <td>0</td>\n",
       "    </tr>\n",
       "  </tbody>\n",
       "</table>\n",
       "</div>"
      ],
      "text/plain": [
       "    Salary  Type_Engineering  Type_Ivy League  Type_Liberal Arts  Type_Party  \\\n",
       "0  72200.0                 1                0                  0           0   \n",
       "1  75500.0                 1                0                  0           0   \n",
       "2  71800.0                 1                0                  0           0   \n",
       "3  62400.0                 1                0                  0           0   \n",
       "4  62200.0                 1                0                  0           0   \n",
       "\n",
       "   Type_State  Region_California  Region_Midwestern  Region_Northeastern  \\\n",
       "0           0                  0                  0                    1   \n",
       "1           0                  1                  0                    0   \n",
       "2           0                  1                  0                    0   \n",
       "3           0                  0                  0                    1   \n",
       "4           0                  0                  0                    1   \n",
       "\n",
       "   Region_Southern  Region_Western  \n",
       "0                0               0  \n",
       "1                0               0  \n",
       "2                0               0  \n",
       "3                0               0  \n",
       "4                0               0  "
      ]
     },
     "execution_count": 193,
     "metadata": {},
     "output_type": "execute_result"
    }
   ],
   "source": [
    "clean_train_df.head()"
   ]
  },
  {
   "cell_type": "markdown",
   "metadata": {},
   "source": [
    "### Correlation between all the features "
   ]
  },
  {
   "cell_type": "markdown",
   "metadata": {},
   "source": [
    "#### We can now see the correlation between all features."
   ]
  },
  {
   "cell_type": "code",
   "execution_count": 198,
   "metadata": {},
   "outputs": [
    {
     "data": {
      "text/plain": [
       "<AxesSubplot:>"
      ]
     },
     "execution_count": 198,
     "metadata": {},
     "output_type": "execute_result"
    },
    {
     "data": {
      "image/png": "[encoded data removed]",
      "text/plain": [
       "<Figure size 2160x1440 with 2 Axes>"
      ]
     },
     "metadata": {
      "needs_background": "light"
     },
     "output_type": "display_data"
    }
   ],
   "source": [
    "# Plot heatmap of all data with correlation coefficients visible\n",
    "clean_train_df_corr = clean_train_df.corr()\n",
    "plt.subplots(figsize=(30,20))\n",
    "sns.heatmap(clean_train_df_corr, cmap = 'BuGn', linewidth =.005, annot = True)"
   ]
  },
  {
   "cell_type": "markdown",
   "metadata": {},
   "source": [
    "#### Engineering School Type has the highest correlation with salary followed closely by Ivy League School Type."
   ]
  },
  {
   "cell_type": "markdown",
   "metadata": {},
   "source": [
    "#### Next we will create a basic linear regression model.  Twenty percent of the training data will be split into testing data that we can use to test the model with data for the salaries that are already known."
   ]
  },
  {
   "cell_type": "code",
   "execution_count": 203,
   "metadata": {},
   "outputs": [],
   "source": [
    "#Split the data and assign 'salary' to 'sal_df' and the rest of the features to 'feat_df'. \n",
    "feat_df = clean_train_df[clean_train_df.loc[ :, clean_train_df.columns != 'Salary'].columns]\n",
    "sal_df = clean_train_df['Salary']\n",
    "feat_train, feat_test, sal_train, sal_test = train_test_split(feat_df, sal_df, test_size = 0.2, random_state = 1)"
   ]
  },
  {
   "cell_type": "code",
   "execution_count": 204,
   "metadata": {},
   "outputs": [
    {
     "data": {
      "text/html": [
       "<div>\n",
       "<style scoped>\n",
       "    .dataframe tbody tr th:only-of-type {\n",
       "        vertical-align: middle;\n",
       "    }\n",
       "\n",
       "    .dataframe tbody tr th {\n",
       "        vertical-align: top;\n",
       "    }\n",
       "\n",
       "    .dataframe thead th {\n",
       "        text-align: right;\n",
       "    }\n",
       "</style>\n",
       "<table border=\"1\" class=\"dataframe\">\n",
       "  <thead>\n",
       "    <tr style=\"text-align: right;\">\n",
       "      <th></th>\n",
       "      <th>Type_Engineering</th>\n",
       "      <th>Type_Ivy League</th>\n",
       "      <th>Type_Liberal Arts</th>\n",
       "      <th>Type_Party</th>\n",
       "      <th>Type_State</th>\n",
       "      <th>Region_California</th>\n",
       "      <th>Region_Midwestern</th>\n",
       "      <th>Region_Northeastern</th>\n",
       "      <th>Region_Southern</th>\n",
       "      <th>Region_Western</th>\n",
       "    </tr>\n",
       "  </thead>\n",
       "  <tbody>\n",
       "    <tr>\n",
       "      <th>18</th>\n",
       "      <td>0</td>\n",
       "      <td>0</td>\n",
       "      <td>0</td>\n",
       "      <td>1</td>\n",
       "      <td>0</td>\n",
       "      <td>0</td>\n",
       "      <td>1</td>\n",
       "      <td>0</td>\n",
       "      <td>0</td>\n",
       "      <td>0</td>\n",
       "    </tr>\n",
       "    <tr>\n",
       "      <th>73</th>\n",
       "      <td>0</td>\n",
       "      <td>0</td>\n",
       "      <td>1</td>\n",
       "      <td>0</td>\n",
       "      <td>0</td>\n",
       "      <td>0</td>\n",
       "      <td>0</td>\n",
       "      <td>1</td>\n",
       "      <td>0</td>\n",
       "      <td>0</td>\n",
       "    </tr>\n",
       "    <tr>\n",
       "      <th>180</th>\n",
       "      <td>0</td>\n",
       "      <td>0</td>\n",
       "      <td>0</td>\n",
       "      <td>0</td>\n",
       "      <td>1</td>\n",
       "      <td>0</td>\n",
       "      <td>0</td>\n",
       "      <td>0</td>\n",
       "      <td>1</td>\n",
       "      <td>0</td>\n",
       "    </tr>\n",
       "    <tr>\n",
       "      <th>252</th>\n",
       "      <td>0</td>\n",
       "      <td>0</td>\n",
       "      <td>0</td>\n",
       "      <td>0</td>\n",
       "      <td>1</td>\n",
       "      <td>0</td>\n",
       "      <td>1</td>\n",
       "      <td>0</td>\n",
       "      <td>0</td>\n",
       "      <td>0</td>\n",
       "    </tr>\n",
       "    <tr>\n",
       "      <th>140</th>\n",
       "      <td>0</td>\n",
       "      <td>0</td>\n",
       "      <td>0</td>\n",
       "      <td>0</td>\n",
       "      <td>1</td>\n",
       "      <td>0</td>\n",
       "      <td>0</td>\n",
       "      <td>1</td>\n",
       "      <td>0</td>\n",
       "      <td>0</td>\n",
       "    </tr>\n",
       "  </tbody>\n",
       "</table>\n",
       "</div>"
      ],
      "text/plain": [
       "     Type_Engineering  Type_Ivy League  Type_Liberal Arts  Type_Party  \\\n",
       "18                  0                0                  0           1   \n",
       "73                  0                0                  1           0   \n",
       "180                 0                0                  0           0   \n",
       "252                 0                0                  0           0   \n",
       "140                 0                0                  0           0   \n",
       "\n",
       "     Type_State  Region_California  Region_Midwestern  Region_Northeastern  \\\n",
       "18            0                  0                  1                    0   \n",
       "73            0                  0                  0                    1   \n",
       "180           1                  0                  0                    0   \n",
       "252           1                  0                  1                    0   \n",
       "140           1                  0                  0                    1   \n",
       "\n",
       "     Region_Southern  Region_Western  \n",
       "18                 0               0  \n",
       "73                 0               0  \n",
       "180                1               0  \n",
       "252                0               0  \n",
       "140                0               0  "
      ]
     },
     "execution_count": 204,
     "metadata": {},
     "output_type": "execute_result"
    }
   ],
   "source": [
    "#View inputs and outputs of training model\n",
    "feat_train.head()"
   ]
  },
  {
   "cell_type": "code",
   "execution_count": 205,
   "metadata": {},
   "outputs": [
    {
     "data": {
      "text/plain": [
       "18     52900.0\n",
       "73     47200.0\n",
       "180    44500.0\n",
       "252    38900.0\n",
       "140    43900.0\n",
       "Name: Salary, dtype: float64"
      ]
     },
     "execution_count": 205,
     "metadata": {},
     "output_type": "execute_result"
    }
   ],
   "source": [
    "sal_train.head()"
   ]
  },
  {
   "cell_type": "markdown",
   "metadata": {},
   "source": [
    "####  We are using linear regression as salary is a continuous variable.  We will establish a baseline model by applying Linear Regression to feat_train, sal_train. "
   ]
  },
  {
   "cell_type": "code",
   "execution_count": 206,
   "metadata": {},
   "outputs": [
    {
     "data": {
      "text/plain": [
       "LinearRegression()"
      ]
     },
     "execution_count": 206,
     "metadata": {},
     "output_type": "execute_result"
    }
   ],
   "source": [
    "#Create Linear Regression Object and fit the model\n",
    "reg = LinearRegression()\n",
    "reg.fit(feat_train,sal_train)\n",
    "reg"
   ]
  },
  {
   "cell_type": "markdown",
   "metadata": {},
   "source": [
    "####  Next we will show the coefficients and intercept of our model.  In linear regression, coefficients are the values that multiply the predictor values.  The sign of each coefficient indicates the direction of the relationship between a predictor variable and the response variable.  A positive sign indicates that as the predictor variable increases, the response variable also increases.  A negative sign indicates that as the predictor variable increases, the response variable decreases.  The coefficient value represents the mean change in the response given a one unit change in the predictor. For example, if a coefficient is 1.83, the mean response value increases by 1.83 for every one unit change in the predictor."
   ]
  },
  {
   "cell_type": "code",
   "execution_count": 207,
   "metadata": {},
   "outputs": [
    {
     "name": "stdout",
     "output_type": "stream",
     "text": [
      "-7.991850944928823e+17\n",
      "[1.82224276e+17 1.82224276e+17 1.82224276e+17 1.82224276e+17\n",
      " 1.82224276e+17 6.16960818e+17 6.16960818e+17 6.16960818e+17\n",
      " 6.16960818e+17 6.16960818e+17]\n"
     ]
    }
   ],
   "source": [
    "#View coeff of Linear Regression object \n",
    "print(reg.intercept_)\n",
    "print(reg.coef_)"
   ]
  },
  {
   "cell_type": "markdown",
   "metadata": {},
   "source": [
    "####  After creating the baseline model, we can predict the salaries.  The variable pred_sal is used to store the predictions using the training data. "
   ]
  },
  {
   "cell_type": "code",
   "execution_count": 209,
   "metadata": {},
   "outputs": [
    {
     "name": "stdout",
     "output_type": "stream",
     "text": [
      "First five predictions: [45312. 46592. 43136. 43136. 44800.]\n"
     ]
    }
   ],
   "source": [
    "#predict salary using training data\n",
    "pred_sal = reg.predict(feat_train)\n",
    "\n",
    "#View first five predictions -\n",
    "print ('First five predictions:' , pred_sal[0:5])"
   ]
  },
  {
   "cell_type": "markdown",
   "metadata": {},
   "source": [
    "#### Mean squared error (MSE) will be evaluated along with accuracy and r-squared to evaluate the baseline model's performance and to determine if the subsequent models improve over the established baseline model. "
   ]
  },
  {
   "cell_type": "code",
   "execution_count": 211,
   "metadata": {},
   "outputs": [
    {
     "name": "stdout",
     "output_type": "stream",
     "text": [
      "Mean Squared Error of our prediction model is 18556839.028037384\n"
     ]
    }
   ],
   "source": [
    "#print MSE - \n",
    "print ('Mean Squared Error of our prediction model is', mean_squared_error(sal_train, pred_sal))"
   ]
  },
  {
   "cell_type": "markdown",
   "metadata": {},
   "source": [
    "#### K-Fold Cross Validation\n",
    "##### Cross-validation is a procedure used to avoid overfitting and estimate the skill of the model on new data. The value for k is chosen such that each train/test group of data samples is large enough to be statistically representative of the broader dataset.  K-Fold Cross Validation is used because it ensures that every observation from the original dataset has the chance of appearing in training and test set. "
   ]
  },
  {
   "cell_type": "code",
   "execution_count": 212,
   "metadata": {},
   "outputs": [
    {
     "name": "stdout",
     "output_type": "stream",
     "text": [
      "5-Cross Validation accuracy 0.49880374275058453 0.13815231446486412\n"
     ]
    }
   ],
   "source": [
    "# accurace of the baseline model using 5-cross validation method -\n",
    "score = cross_val_score(reg, feat_train, sal_train, cv = 5)\n",
    "print ('5-Cross Validation accuracy', (np.mean(score)), (np.std(score)))"
   ]
  },
  {
   "cell_type": "code",
   "execution_count": 220,
   "metadata": {},
   "outputs": [
    {
     "data": {
      "image/png": "[encoded data removed]",
      "text/plain": [
       "<Figure size 720x432 with 1 Axes>"
      ]
     },
     "metadata": {
      "needs_background": "light"
     },
     "output_type": "display_data"
    }
   ],
   "source": [
    "#distribution plot \n",
    "#Calling the function\n",
    "Title = 'Distribution Plot of Actual Values vs Predicted Values'\n",
    "dis_data(sal_train, pred_sal, 'Actual Values(train data)', 'Predicted Values(train data)', Title)"
   ]
  },
  {
   "cell_type": "markdown",
   "metadata": {},
   "source": [
    "#### We can see that the actual values and predicted values are  different. The range of the predicted values is lower, however, the mean doesn't look drastically different.   Next, we do the same for the 20% test data to see if the outcome is similar."
   ]
  },
  {
   "cell_type": "code",
   "execution_count": 221,
   "metadata": {},
   "outputs": [
    {
     "name": "stdout",
     "output_type": "stream",
     "text": [
      "First five predictions(test data) [60032. 45312. 42752. 42752. 43136.]\n"
     ]
    }
   ],
   "source": [
    "#store test set predictions in yhat_test \n",
    "pred_sal_test = reg.predict(feat_test)\n",
    "\n",
    "#view first five predictions - \n",
    "print ('First five predictions(test data)', pred_sal_test[0:5])"
   ]
  },
  {
   "cell_type": "code",
   "execution_count": 223,
   "metadata": {},
   "outputs": [
    {
     "name": "stdout",
     "output_type": "stream",
     "text": [
      "Mean Squared Error of test data  12961199.111111112\n"
     ]
    }
   ],
   "source": [
    "#MSE of test data - \n",
    "print ('Mean Squared Error of test data ', mean_squared_error(sal_test, pred_sal_test))"
   ]
  },
  {
   "cell_type": "markdown",
   "metadata": {},
   "source": [
    "#### We can see that Mean squared error of the training data and test data differs by almost six million."
   ]
  },
  {
   "cell_type": "code",
   "execution_count": 224,
   "metadata": {},
   "outputs": [
    {
     "name": "stdout",
     "output_type": "stream",
     "text": [
      "5-cross validation accuracy(test data) 0.29752240225822324 0.3637386305354092\n"
     ]
    }
   ],
   "source": [
    "#accuracy of test data using 5-cross validation method - \n",
    "score = cross_val_score(reg, feat_test, sal_test, cv = 5)\n",
    "print ('5-cross validation accuracy(test data)', (np.mean(score)), (np.std(score)))"
   ]
  },
  {
   "cell_type": "code",
   "execution_count": 226,
   "metadata": {},
   "outputs": [
    {
     "data": {
      "image/png": "[encoded data removed]",
      "text/plain": [
       "<Figure size 720x432 with 1 Axes>"
      ]
     },
     "metadata": {
      "needs_background": "light"
     },
     "output_type": "display_data"
    }
   ],
   "source": [
    "#Distribution plot \n",
    "Title = 'Distribution Plot of Predicted values of test data vs Actual values of test data'\n",
    "dis_data(sal_test, pred_sal_test, 'Actual Values(test)', 'Predicted Values(test)', title = Title)"
   ]
  },
  {
   "cell_type": "markdown",
   "metadata": {},
   "source": [
    "####  The distribution is not very different when comparing the training data and test data."
   ]
  },
  {
   "cell_type": "code",
   "execution_count": null,
   "metadata": {},
   "outputs": [],
   "source": []
  }
 ],
 "metadata": {
  "kernelspec": {
   "display_name": "mlenv",
   "language": "python",
   "name": "mlenv"
  },
  "language_info": {
   "codemirror_mode": {
    "name": "ipython",
    "version": 3
   },
   "file_extension": ".py",
   "mimetype": "text/x-python",
   "name": "python",
   "nbconvert_exporter": "python",
   "pygments_lexer": "ipython3",
   "version": "3.7.9"
  }
 },
 "nbformat": 4,
 "nbformat_minor": 4
}
