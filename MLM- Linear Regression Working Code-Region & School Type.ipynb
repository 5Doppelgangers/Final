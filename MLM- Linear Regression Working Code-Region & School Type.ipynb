{
 "cells": [
  {
   "cell_type": "code",
   "execution_count": 129,
   "metadata": {},
   "outputs": [],
   "source": [
    "#Import dependencies\n",
    "\n",
    "import pandas as pd # data processing, CSV file I/O (e.g. pd.read_csv)\n",
    "import sklearn as sk\n",
    "import numpy as np #very efficient array and linear algebra functions\n",
    "from pathlib import Path\n",
    "import matplotlib.pyplot as plt\n",
    "%matplotlib inline\n",
    "import warnings\n",
    "warnings.filterwarnings('ignore')\n",
    "import statsmodels.api as sm\n",
    "import seaborn as sns\n",
    "\n",
    "from scipy.stats import norm\n",
    "from sklearn.linear_model import LinearRegression #Scikit-learn machine learning library for Python\n",
    "from sklearn import ensemble\n",
    "from sklearn.ensemble import GradientBoostingRegressor\n",
    "from sklearn.metrics import confusion_matrix, accuracy_score, classification_report\n",
    "from sklearn.preprocessing import OneHotEncoder, StandardScaler\n",
    "from sklearn.metrics import mean_absolute_error\n",
    "from sklearn.metrics import r2_score\n",
    "from sklearn.model_selection import cross_val_score\n",
    "from sklearn.model_selection import cross_val_predict\n",
    "from sklearn.model_selection import StratifiedKFold\n",
    "from sklearn.model_selection import train_test_split\n",
    "from sklearn.preprocessing import PolynomialFeatures\n",
    "from sklearn.ensemble import RandomForestRegressor"
   ]
  },
  {
   "cell_type": "markdown",
   "metadata": {},
   "source": [
    "## Read the CSV and Perform Basic Data Cleaning"
   ]
  },
  {
   "cell_type": "markdown",
   "metadata": {},
   "source": [
    "### Target variable is starting salary.  Goal of multiple linear regression model is to predict a person's starting salary based on school type and location"
   ]
  },
  {
   "cell_type": "markdown",
   "metadata": {},
   "source": [
    "Potential Features = X = School Name, School Type, Mid-Career Median Salary, Mid-Career 10th Percentile Salary, Mid-Career 25th Percentil Salary, Mid-Career 75th Percentile Salary, Mid-Career 90th Percentile Salary\n",
    "\n",
    "Value to Predict = Y = Starting Median Salary"
   ]
  },
  {
   "cell_type": "code",
   "execution_count": 76,
   "metadata": {},
   "outputs": [
    {
     "data": {
      "text/html": [
       "<div>\n",
       "<style scoped>\n",
       "    .dataframe tbody tr th:only-of-type {\n",
       "        vertical-align: middle;\n",
       "    }\n",
       "\n",
       "    .dataframe tbody tr th {\n",
       "        vertical-align: top;\n",
       "    }\n",
       "\n",
       "    .dataframe thead th {\n",
       "        text-align: right;\n",
       "    }\n",
       "</style>\n",
       "<table border=\"1\" class=\"dataframe\">\n",
       "  <thead>\n",
       "    <tr style=\"text-align: right;\">\n",
       "      <th></th>\n",
       "      <th>School Name</th>\n",
       "      <th>School Type</th>\n",
       "      <th>Starting Median Salary</th>\n",
       "      <th>Mid-Career Median Salary</th>\n",
       "      <th>Mid-Career 10th Percentile Salary</th>\n",
       "      <th>Mid-Career 25th Percentile Salary</th>\n",
       "      <th>Mid-Career 75th Percentile Salary</th>\n",
       "      <th>Mid-Career 90th Percentile Salary</th>\n",
       "    </tr>\n",
       "  </thead>\n",
       "  <tbody>\n",
       "    <tr>\n",
       "      <th>0</th>\n",
       "      <td>Massachusetts Institute of Technology (MIT)</td>\n",
       "      <td>Engineering</td>\n",
       "      <td>$72,200.00</td>\n",
       "      <td>$126,000.00</td>\n",
       "      <td>$76,800.00</td>\n",
       "      <td>$99,200.00</td>\n",
       "      <td>$168,000.00</td>\n",
       "      <td>$220,000.00</td>\n",
       "    </tr>\n",
       "    <tr>\n",
       "      <th>1</th>\n",
       "      <td>California Institute of Technology (CIT)</td>\n",
       "      <td>Engineering</td>\n",
       "      <td>$75,500.00</td>\n",
       "      <td>$123,000.00</td>\n",
       "      <td>NaN</td>\n",
       "      <td>$104,000.00</td>\n",
       "      <td>$161,000.00</td>\n",
       "      <td>NaN</td>\n",
       "    </tr>\n",
       "    <tr>\n",
       "      <th>2</th>\n",
       "      <td>Harvey Mudd College</td>\n",
       "      <td>Engineering</td>\n",
       "      <td>$71,800.00</td>\n",
       "      <td>$122,000.00</td>\n",
       "      <td>NaN</td>\n",
       "      <td>$96,000.00</td>\n",
       "      <td>$180,000.00</td>\n",
       "      <td>NaN</td>\n",
       "    </tr>\n",
       "    <tr>\n",
       "      <th>3</th>\n",
       "      <td>Polytechnic University of New York, Brooklyn</td>\n",
       "      <td>Engineering</td>\n",
       "      <td>$62,400.00</td>\n",
       "      <td>$114,000.00</td>\n",
       "      <td>$66,800.00</td>\n",
       "      <td>$94,300.00</td>\n",
       "      <td>$143,000.00</td>\n",
       "      <td>$190,000.00</td>\n",
       "    </tr>\n",
       "    <tr>\n",
       "      <th>4</th>\n",
       "      <td>Cooper Union</td>\n",
       "      <td>Engineering</td>\n",
       "      <td>$62,200.00</td>\n",
       "      <td>$114,000.00</td>\n",
       "      <td>NaN</td>\n",
       "      <td>$80,200.00</td>\n",
       "      <td>$142,000.00</td>\n",
       "      <td>NaN</td>\n",
       "    </tr>\n",
       "  </tbody>\n",
       "</table>\n",
       "</div>"
      ],
      "text/plain": [
       "                                    School Name  School Type  \\\n",
       "0   Massachusetts Institute of Technology (MIT)  Engineering   \n",
       "1      California Institute of Technology (CIT)  Engineering   \n",
       "2                           Harvey Mudd College  Engineering   \n",
       "3  Polytechnic University of New York, Brooklyn  Engineering   \n",
       "4                                  Cooper Union  Engineering   \n",
       "\n",
       "  Starting Median Salary Mid-Career Median Salary  \\\n",
       "0             $72,200.00              $126,000.00   \n",
       "1             $75,500.00              $123,000.00   \n",
       "2             $71,800.00              $122,000.00   \n",
       "3             $62,400.00              $114,000.00   \n",
       "4             $62,200.00              $114,000.00   \n",
       "\n",
       "  Mid-Career 10th Percentile Salary Mid-Career 25th Percentile Salary  \\\n",
       "0                        $76,800.00                        $99,200.00   \n",
       "1                               NaN                       $104,000.00   \n",
       "2                               NaN                        $96,000.00   \n",
       "3                        $66,800.00                        $94,300.00   \n",
       "4                               NaN                        $80,200.00   \n",
       "\n",
       "  Mid-Career 75th Percentile Salary Mid-Career 90th Percentile Salary  \n",
       "0                       $168,000.00                       $220,000.00  \n",
       "1                       $161,000.00                               NaN  \n",
       "2                       $180,000.00                               NaN  \n",
       "3                       $143,000.00                       $190,000.00  \n",
       "4                       $142,000.00                               NaN  "
      ]
     },
     "execution_count": 76,
     "metadata": {},
     "output_type": "execute_result"
    }
   ],
   "source": [
    "#Load the CSV file as a Pandas DataFrame and preview the DataFrame\n",
    "df = pd.read_csv(\"salaries-by-college-type.csv\")\n",
    "df.head()"
   ]
  },
  {
   "cell_type": "code",
   "execution_count": 77,
   "metadata": {},
   "outputs": [
    {
     "data": {
      "text/html": [
       "<div>\n",
       "<style scoped>\n",
       "    .dataframe tbody tr th:only-of-type {\n",
       "        vertical-align: middle;\n",
       "    }\n",
       "\n",
       "    .dataframe tbody tr th {\n",
       "        vertical-align: top;\n",
       "    }\n",
       "\n",
       "    .dataframe thead th {\n",
       "        text-align: right;\n",
       "    }\n",
       "</style>\n",
       "<table border=\"1\" class=\"dataframe\">\n",
       "  <thead>\n",
       "    <tr style=\"text-align: right;\">\n",
       "      <th></th>\n",
       "      <th>School Name</th>\n",
       "      <th>Region</th>\n",
       "      <th>Starting Median Salary</th>\n",
       "      <th>Mid-Career Median Salary</th>\n",
       "      <th>Mid-Career 10th Percentile Salary</th>\n",
       "      <th>Mid-Career 25th Percentile Salary</th>\n",
       "      <th>Mid-Career 75th Percentile Salary</th>\n",
       "      <th>Mid-Career 90th Percentile Salary</th>\n",
       "    </tr>\n",
       "  </thead>\n",
       "  <tbody>\n",
       "    <tr>\n",
       "      <th>0</th>\n",
       "      <td>Stanford University</td>\n",
       "      <td>California</td>\n",
       "      <td>$70,400.00</td>\n",
       "      <td>$129,000.00</td>\n",
       "      <td>$68,400.00</td>\n",
       "      <td>$93,100.00</td>\n",
       "      <td>$184,000.00</td>\n",
       "      <td>$257,000.00</td>\n",
       "    </tr>\n",
       "    <tr>\n",
       "      <th>1</th>\n",
       "      <td>California Institute of Technology (CIT)</td>\n",
       "      <td>California</td>\n",
       "      <td>$75,500.00</td>\n",
       "      <td>$123,000.00</td>\n",
       "      <td>NaN</td>\n",
       "      <td>$104,000.00</td>\n",
       "      <td>$161,000.00</td>\n",
       "      <td>NaN</td>\n",
       "    </tr>\n",
       "    <tr>\n",
       "      <th>2</th>\n",
       "      <td>Harvey Mudd College</td>\n",
       "      <td>California</td>\n",
       "      <td>$71,800.00</td>\n",
       "      <td>$122,000.00</td>\n",
       "      <td>NaN</td>\n",
       "      <td>$96,000.00</td>\n",
       "      <td>$180,000.00</td>\n",
       "      <td>NaN</td>\n",
       "    </tr>\n",
       "    <tr>\n",
       "      <th>3</th>\n",
       "      <td>University of California, Berkeley</td>\n",
       "      <td>California</td>\n",
       "      <td>$59,900.00</td>\n",
       "      <td>$112,000.00</td>\n",
       "      <td>$59,500.00</td>\n",
       "      <td>$81,000.00</td>\n",
       "      <td>$149,000.00</td>\n",
       "      <td>$201,000.00</td>\n",
       "    </tr>\n",
       "    <tr>\n",
       "      <th>4</th>\n",
       "      <td>Occidental College</td>\n",
       "      <td>California</td>\n",
       "      <td>$51,900.00</td>\n",
       "      <td>$105,000.00</td>\n",
       "      <td>NaN</td>\n",
       "      <td>$54,800.00</td>\n",
       "      <td>$157,000.00</td>\n",
       "      <td>NaN</td>\n",
       "    </tr>\n",
       "  </tbody>\n",
       "</table>\n",
       "</div>"
      ],
      "text/plain": [
       "                                School Name      Region  \\\n",
       "0                       Stanford University  California   \n",
       "1  California Institute of Technology (CIT)  California   \n",
       "2                       Harvey Mudd College  California   \n",
       "3        University of California, Berkeley  California   \n",
       "4                        Occidental College  California   \n",
       "\n",
       "  Starting Median Salary Mid-Career Median Salary  \\\n",
       "0             $70,400.00              $129,000.00   \n",
       "1             $75,500.00              $123,000.00   \n",
       "2             $71,800.00              $122,000.00   \n",
       "3             $59,900.00              $112,000.00   \n",
       "4             $51,900.00              $105,000.00   \n",
       "\n",
       "  Mid-Career 10th Percentile Salary Mid-Career 25th Percentile Salary  \\\n",
       "0                        $68,400.00                        $93,100.00   \n",
       "1                               NaN                       $104,000.00   \n",
       "2                               NaN                        $96,000.00   \n",
       "3                        $59,500.00                        $81,000.00   \n",
       "4                               NaN                        $54,800.00   \n",
       "\n",
       "  Mid-Career 75th Percentile Salary Mid-Career 90th Percentile Salary  \n",
       "0                       $184,000.00                       $257,000.00  \n",
       "1                       $161,000.00                               NaN  \n",
       "2                       $180,000.00                               NaN  \n",
       "3                       $149,000.00                       $201,000.00  \n",
       "4                       $157,000.00                               NaN  "
      ]
     },
     "execution_count": 77,
     "metadata": {},
     "output_type": "execute_result"
    }
   ],
   "source": [
    "#Load the CSV file as a Pandas DataFrame and preview the DataFrame\n",
    "region_df = pd.read_csv(\"salaries-by-region.csv\")\n",
    "region_df.head()"
   ]
  },
  {
   "cell_type": "markdown",
   "metadata": {},
   "source": [
    "# Cleaning Data"
   ]
  },
  {
   "cell_type": "code",
   "execution_count": 78,
   "metadata": {},
   "outputs": [],
   "source": [
    "#Remove the fields from the data set that we don't want to include in our model\n",
    "\n",
    "del df['Mid-Career Median Salary']\n",
    "del df['Mid-Career 10th Percentile Salary']\n",
    "del df['Mid-Career 25th Percentile Salary']\n",
    "del df['Mid-Career 75th Percentile Salary']\n",
    "del df['Mid-Career 90th Percentile Salary']"
   ]
  },
  {
   "cell_type": "code",
   "execution_count": 79,
   "metadata": {},
   "outputs": [
    {
     "data": {
      "text/html": [
       "<div>\n",
       "<style scoped>\n",
       "    .dataframe tbody tr th:only-of-type {\n",
       "        vertical-align: middle;\n",
       "    }\n",
       "\n",
       "    .dataframe tbody tr th {\n",
       "        vertical-align: top;\n",
       "    }\n",
       "\n",
       "    .dataframe thead th {\n",
       "        text-align: right;\n",
       "    }\n",
       "</style>\n",
       "<table border=\"1\" class=\"dataframe\">\n",
       "  <thead>\n",
       "    <tr style=\"text-align: right;\">\n",
       "      <th></th>\n",
       "      <th>School Name</th>\n",
       "      <th>School Type</th>\n",
       "      <th>Starting Median Salary</th>\n",
       "    </tr>\n",
       "  </thead>\n",
       "  <tbody>\n",
       "    <tr>\n",
       "      <th>0</th>\n",
       "      <td>Massachusetts Institute of Technology (MIT)</td>\n",
       "      <td>Engineering</td>\n",
       "      <td>$72,200.00</td>\n",
       "    </tr>\n",
       "    <tr>\n",
       "      <th>1</th>\n",
       "      <td>California Institute of Technology (CIT)</td>\n",
       "      <td>Engineering</td>\n",
       "      <td>$75,500.00</td>\n",
       "    </tr>\n",
       "    <tr>\n",
       "      <th>2</th>\n",
       "      <td>Harvey Mudd College</td>\n",
       "      <td>Engineering</td>\n",
       "      <td>$71,800.00</td>\n",
       "    </tr>\n",
       "    <tr>\n",
       "      <th>3</th>\n",
       "      <td>Polytechnic University of New York, Brooklyn</td>\n",
       "      <td>Engineering</td>\n",
       "      <td>$62,400.00</td>\n",
       "    </tr>\n",
       "    <tr>\n",
       "      <th>4</th>\n",
       "      <td>Cooper Union</td>\n",
       "      <td>Engineering</td>\n",
       "      <td>$62,200.00</td>\n",
       "    </tr>\n",
       "  </tbody>\n",
       "</table>\n",
       "</div>"
      ],
      "text/plain": [
       "                                    School Name  School Type  \\\n",
       "0   Massachusetts Institute of Technology (MIT)  Engineering   \n",
       "1      California Institute of Technology (CIT)  Engineering   \n",
       "2                           Harvey Mudd College  Engineering   \n",
       "3  Polytechnic University of New York, Brooklyn  Engineering   \n",
       "4                                  Cooper Union  Engineering   \n",
       "\n",
       "  Starting Median Salary  \n",
       "0             $72,200.00  \n",
       "1             $75,500.00  \n",
       "2             $71,800.00  \n",
       "3             $62,400.00  \n",
       "4             $62,200.00  "
      ]
     },
     "execution_count": 79,
     "metadata": {},
     "output_type": "execute_result"
    }
   ],
   "source": [
    "df.head()"
   ]
  },
  {
   "cell_type": "code",
   "execution_count": 80,
   "metadata": {},
   "outputs": [
    {
     "name": "stdout",
     "output_type": "stream",
     "text": [
      "<class 'pandas.core.frame.DataFrame'>\n",
      "RangeIndex: 269 entries, 0 to 268\n",
      "Data columns (total 3 columns):\n",
      " #   Column                  Non-Null Count  Dtype \n",
      "---  ------                  --------------  ----- \n",
      " 0   School Name             269 non-null    object\n",
      " 1   School Type             269 non-null    object\n",
      " 2   Starting Median Salary  269 non-null    object\n",
      "dtypes: object(3)\n",
      "memory usage: 6.4+ KB\n"
     ]
    }
   ],
   "source": [
    "df.info()"
   ]
  },
  {
   "cell_type": "code",
   "execution_count": 81,
   "metadata": {},
   "outputs": [],
   "source": [
    "df['Starting Median Salary']=(df['Starting Median Salary'].replace( '[\\$,)]','', regex=True )\n",
    "                   .replace( '[(]','-',   regex=True ).astype(float))"
   ]
  },
  {
   "cell_type": "code",
   "execution_count": 82,
   "metadata": {},
   "outputs": [
    {
     "name": "stdout",
     "output_type": "stream",
     "text": [
      "<class 'pandas.core.frame.DataFrame'>\n",
      "RangeIndex: 269 entries, 0 to 268\n",
      "Data columns (total 3 columns):\n",
      " #   Column                  Non-Null Count  Dtype  \n",
      "---  ------                  --------------  -----  \n",
      " 0   School Name             269 non-null    object \n",
      " 1   School Type             269 non-null    object \n",
      " 2   Starting Median Salary  269 non-null    float64\n",
      "dtypes: float64(1), object(2)\n",
      "memory usage: 6.4+ KB\n"
     ]
    }
   ],
   "source": [
    "\n",
    "df.info()"
   ]
  },
  {
   "cell_type": "code",
   "execution_count": 83,
   "metadata": {},
   "outputs": [],
   "source": [
    "#Remove the fields from the data set that we don't want to include in our model\n",
    "\n",
    "del region_df['Mid-Career Median Salary']\n",
    "del region_df['Mid-Career 10th Percentile Salary']\n",
    "del region_df['Mid-Career 25th Percentile Salary']\n",
    "del region_df['Mid-Career 75th Percentile Salary']\n",
    "del region_df['Mid-Career 90th Percentile Salary']"
   ]
  },
  {
   "cell_type": "code",
   "execution_count": 84,
   "metadata": {},
   "outputs": [
    {
     "data": {
      "text/html": [
       "<div>\n",
       "<style scoped>\n",
       "    .dataframe tbody tr th:only-of-type {\n",
       "        vertical-align: middle;\n",
       "    }\n",
       "\n",
       "    .dataframe tbody tr th {\n",
       "        vertical-align: top;\n",
       "    }\n",
       "\n",
       "    .dataframe thead th {\n",
       "        text-align: right;\n",
       "    }\n",
       "</style>\n",
       "<table border=\"1\" class=\"dataframe\">\n",
       "  <thead>\n",
       "    <tr style=\"text-align: right;\">\n",
       "      <th></th>\n",
       "      <th>School Name</th>\n",
       "      <th>Region</th>\n",
       "      <th>Starting Median Salary</th>\n",
       "    </tr>\n",
       "  </thead>\n",
       "  <tbody>\n",
       "    <tr>\n",
       "      <th>0</th>\n",
       "      <td>Stanford University</td>\n",
       "      <td>California</td>\n",
       "      <td>$70,400.00</td>\n",
       "    </tr>\n",
       "    <tr>\n",
       "      <th>1</th>\n",
       "      <td>California Institute of Technology (CIT)</td>\n",
       "      <td>California</td>\n",
       "      <td>$75,500.00</td>\n",
       "    </tr>\n",
       "    <tr>\n",
       "      <th>2</th>\n",
       "      <td>Harvey Mudd College</td>\n",
       "      <td>California</td>\n",
       "      <td>$71,800.00</td>\n",
       "    </tr>\n",
       "    <tr>\n",
       "      <th>3</th>\n",
       "      <td>University of California, Berkeley</td>\n",
       "      <td>California</td>\n",
       "      <td>$59,900.00</td>\n",
       "    </tr>\n",
       "    <tr>\n",
       "      <th>4</th>\n",
       "      <td>Occidental College</td>\n",
       "      <td>California</td>\n",
       "      <td>$51,900.00</td>\n",
       "    </tr>\n",
       "  </tbody>\n",
       "</table>\n",
       "</div>"
      ],
      "text/plain": [
       "                                School Name      Region Starting Median Salary\n",
       "0                       Stanford University  California             $70,400.00\n",
       "1  California Institute of Technology (CIT)  California             $75,500.00\n",
       "2                       Harvey Mudd College  California             $71,800.00\n",
       "3        University of California, Berkeley  California             $59,900.00\n",
       "4                        Occidental College  California             $51,900.00"
      ]
     },
     "execution_count": 84,
     "metadata": {},
     "output_type": "execute_result"
    }
   ],
   "source": [
    "region_df.head()"
   ]
  },
  {
   "cell_type": "code",
   "execution_count": 85,
   "metadata": {},
   "outputs": [
    {
     "name": "stdout",
     "output_type": "stream",
     "text": [
      "<class 'pandas.core.frame.DataFrame'>\n",
      "RangeIndex: 320 entries, 0 to 319\n",
      "Data columns (total 3 columns):\n",
      " #   Column                  Non-Null Count  Dtype \n",
      "---  ------                  --------------  ----- \n",
      " 0   School Name             320 non-null    object\n",
      " 1   Region                  320 non-null    object\n",
      " 2   Starting Median Salary  320 non-null    object\n",
      "dtypes: object(3)\n",
      "memory usage: 7.6+ KB\n"
     ]
    }
   ],
   "source": [
    "region_df.info()"
   ]
  },
  {
   "cell_type": "code",
   "execution_count": 86,
   "metadata": {},
   "outputs": [],
   "source": [
    "region_df['Starting Median Salary']=(region_df['Starting Median Salary'].replace( '[\\$,)]','', regex=True )\n",
    "                   .replace( '[(]','-',   regex=True ).astype(float))"
   ]
  },
  {
   "cell_type": "code",
   "execution_count": 87,
   "metadata": {},
   "outputs": [
    {
     "name": "stdout",
     "output_type": "stream",
     "text": [
      "<class 'pandas.core.frame.DataFrame'>\n",
      "RangeIndex: 320 entries, 0 to 319\n",
      "Data columns (total 3 columns):\n",
      " #   Column                  Non-Null Count  Dtype  \n",
      "---  ------                  --------------  -----  \n",
      " 0   School Name             320 non-null    object \n",
      " 1   Region                  320 non-null    object \n",
      " 2   Starting Median Salary  320 non-null    float64\n",
      "dtypes: float64(1), object(2)\n",
      "memory usage: 7.6+ KB\n"
     ]
    }
   ],
   "source": [
    "region_df.info()"
   ]
  },
  {
   "cell_type": "markdown",
   "metadata": {},
   "source": [
    "# Join tables"
   ]
  },
  {
   "cell_type": "code",
   "execution_count": 88,
   "metadata": {},
   "outputs": [
    {
     "data": {
      "text/html": [
       "<div>\n",
       "<style scoped>\n",
       "    .dataframe tbody tr th:only-of-type {\n",
       "        vertical-align: middle;\n",
       "    }\n",
       "\n",
       "    .dataframe tbody tr th {\n",
       "        vertical-align: top;\n",
       "    }\n",
       "\n",
       "    .dataframe thead th {\n",
       "        text-align: right;\n",
       "    }\n",
       "</style>\n",
       "<table border=\"1\" class=\"dataframe\">\n",
       "  <thead>\n",
       "    <tr style=\"text-align: right;\">\n",
       "      <th></th>\n",
       "      <th>School Name</th>\n",
       "      <th>School Type</th>\n",
       "      <th>Starting Median Salary_x</th>\n",
       "      <th>Region</th>\n",
       "      <th>Starting Median Salary_y</th>\n",
       "    </tr>\n",
       "  </thead>\n",
       "  <tbody>\n",
       "    <tr>\n",
       "      <th>0</th>\n",
       "      <td>Massachusetts Institute of Technology (MIT)</td>\n",
       "      <td>Engineering</td>\n",
       "      <td>72200.0</td>\n",
       "      <td>Northeastern</td>\n",
       "      <td>72200.0</td>\n",
       "    </tr>\n",
       "    <tr>\n",
       "      <th>1</th>\n",
       "      <td>California Institute of Technology (CIT)</td>\n",
       "      <td>Engineering</td>\n",
       "      <td>75500.0</td>\n",
       "      <td>California</td>\n",
       "      <td>75500.0</td>\n",
       "    </tr>\n",
       "    <tr>\n",
       "      <th>2</th>\n",
       "      <td>Harvey Mudd College</td>\n",
       "      <td>Engineering</td>\n",
       "      <td>71800.0</td>\n",
       "      <td>California</td>\n",
       "      <td>71800.0</td>\n",
       "    </tr>\n",
       "    <tr>\n",
       "      <th>3</th>\n",
       "      <td>Polytechnic University of New York, Brooklyn</td>\n",
       "      <td>Engineering</td>\n",
       "      <td>62400.0</td>\n",
       "      <td>Northeastern</td>\n",
       "      <td>62400.0</td>\n",
       "    </tr>\n",
       "    <tr>\n",
       "      <th>4</th>\n",
       "      <td>Cooper Union</td>\n",
       "      <td>Engineering</td>\n",
       "      <td>62200.0</td>\n",
       "      <td>Northeastern</td>\n",
       "      <td>62200.0</td>\n",
       "    </tr>\n",
       "    <tr>\n",
       "      <th>...</th>\n",
       "      <td>...</td>\n",
       "      <td>...</td>\n",
       "      <td>...</td>\n",
       "      <td>...</td>\n",
       "      <td>...</td>\n",
       "    </tr>\n",
       "    <tr>\n",
       "      <th>263</th>\n",
       "      <td>Austin Peay State University</td>\n",
       "      <td>State</td>\n",
       "      <td>37700.0</td>\n",
       "      <td>Southern</td>\n",
       "      <td>37700.0</td>\n",
       "    </tr>\n",
       "    <tr>\n",
       "      <th>264</th>\n",
       "      <td>Pittsburg State University</td>\n",
       "      <td>State</td>\n",
       "      <td>40400.0</td>\n",
       "      <td>Midwestern</td>\n",
       "      <td>40400.0</td>\n",
       "    </tr>\n",
       "    <tr>\n",
       "      <th>265</th>\n",
       "      <td>Southern Utah University</td>\n",
       "      <td>State</td>\n",
       "      <td>41900.0</td>\n",
       "      <td>Western</td>\n",
       "      <td>41900.0</td>\n",
       "    </tr>\n",
       "    <tr>\n",
       "      <th>266</th>\n",
       "      <td>Montana State University - Billings</td>\n",
       "      <td>State</td>\n",
       "      <td>37900.0</td>\n",
       "      <td>Western</td>\n",
       "      <td>37900.0</td>\n",
       "    </tr>\n",
       "    <tr>\n",
       "      <th>267</th>\n",
       "      <td>Black Hills State University</td>\n",
       "      <td>State</td>\n",
       "      <td>35300.0</td>\n",
       "      <td>Midwestern</td>\n",
       "      <td>35300.0</td>\n",
       "    </tr>\n",
       "  </tbody>\n",
       "</table>\n",
       "<p>268 rows × 5 columns</p>\n",
       "</div>"
      ],
      "text/plain": [
       "                                      School Name  School Type  \\\n",
       "0     Massachusetts Institute of Technology (MIT)  Engineering   \n",
       "1        California Institute of Technology (CIT)  Engineering   \n",
       "2                             Harvey Mudd College  Engineering   \n",
       "3    Polytechnic University of New York, Brooklyn  Engineering   \n",
       "4                                    Cooper Union  Engineering   \n",
       "..                                            ...          ...   \n",
       "263                  Austin Peay State University        State   \n",
       "264                    Pittsburg State University        State   \n",
       "265                      Southern Utah University        State   \n",
       "266           Montana State University - Billings        State   \n",
       "267                  Black Hills State University        State   \n",
       "\n",
       "     Starting Median Salary_x        Region  Starting Median Salary_y  \n",
       "0                     72200.0  Northeastern                   72200.0  \n",
       "1                     75500.0    California                   75500.0  \n",
       "2                     71800.0    California                   71800.0  \n",
       "3                     62400.0  Northeastern                   62400.0  \n",
       "4                     62200.0  Northeastern                   62200.0  \n",
       "..                        ...           ...                       ...  \n",
       "263                   37700.0      Southern                   37700.0  \n",
       "264                   40400.0    Midwestern                   40400.0  \n",
       "265                   41900.0       Western                   41900.0  \n",
       "266                   37900.0       Western                   37900.0  \n",
       "267                   35300.0    Midwestern                   35300.0  \n",
       "\n",
       "[268 rows x 5 columns]"
      ]
     },
     "execution_count": 88,
     "metadata": {},
     "output_type": "execute_result"
    }
   ],
   "source": [
    "joined_df = pd.merge(df, region_df, on=[\"School Name\", \"School Name\"])\n",
    "joined_df"
   ]
  },
  {
   "cell_type": "code",
   "execution_count": 89,
   "metadata": {},
   "outputs": [
    {
     "data": {
      "text/html": [
       "<div>\n",
       "<style scoped>\n",
       "    .dataframe tbody tr th:only-of-type {\n",
       "        vertical-align: middle;\n",
       "    }\n",
       "\n",
       "    .dataframe tbody tr th {\n",
       "        vertical-align: top;\n",
       "    }\n",
       "\n",
       "    .dataframe thead th {\n",
       "        text-align: right;\n",
       "    }\n",
       "</style>\n",
       "<table border=\"1\" class=\"dataframe\">\n",
       "  <thead>\n",
       "    <tr style=\"text-align: right;\">\n",
       "      <th></th>\n",
       "      <th>Starting Median Salary_x</th>\n",
       "      <th>Starting Median Salary_y</th>\n",
       "    </tr>\n",
       "  </thead>\n",
       "  <tbody>\n",
       "    <tr>\n",
       "      <th>count</th>\n",
       "      <td>268.000000</td>\n",
       "      <td>268.000000</td>\n",
       "    </tr>\n",
       "    <tr>\n",
       "      <th>mean</th>\n",
       "      <td>46043.656716</td>\n",
       "      <td>46043.656716</td>\n",
       "    </tr>\n",
       "    <tr>\n",
       "      <th>std</th>\n",
       "      <td>6411.734098</td>\n",
       "      <td>6411.734098</td>\n",
       "    </tr>\n",
       "    <tr>\n",
       "      <th>min</th>\n",
       "      <td>34800.000000</td>\n",
       "      <td>34800.000000</td>\n",
       "    </tr>\n",
       "    <tr>\n",
       "      <th>25%</th>\n",
       "      <td>42000.000000</td>\n",
       "      <td>42000.000000</td>\n",
       "    </tr>\n",
       "    <tr>\n",
       "      <th>50%</th>\n",
       "      <td>44700.000000</td>\n",
       "      <td>44700.000000</td>\n",
       "    </tr>\n",
       "    <tr>\n",
       "      <th>75%</th>\n",
       "      <td>48150.000000</td>\n",
       "      <td>48150.000000</td>\n",
       "    </tr>\n",
       "    <tr>\n",
       "      <th>max</th>\n",
       "      <td>75500.000000</td>\n",
       "      <td>75500.000000</td>\n",
       "    </tr>\n",
       "  </tbody>\n",
       "</table>\n",
       "</div>"
      ],
      "text/plain": [
       "       Starting Median Salary_x  Starting Median Salary_y\n",
       "count                268.000000                268.000000\n",
       "mean               46043.656716              46043.656716\n",
       "std                 6411.734098               6411.734098\n",
       "min                34800.000000              34800.000000\n",
       "25%                42000.000000              42000.000000\n",
       "50%                44700.000000              44700.000000\n",
       "75%                48150.000000              48150.000000\n",
       "max                75500.000000              75500.000000"
      ]
     },
     "execution_count": 89,
     "metadata": {},
     "output_type": "execute_result"
    }
   ],
   "source": [
    "joined_df.describe()"
   ]
  },
  {
   "cell_type": "code",
   "execution_count": 90,
   "metadata": {},
   "outputs": [
    {
     "data": {
      "text/html": [
       "<div>\n",
       "<style scoped>\n",
       "    .dataframe tbody tr th:only-of-type {\n",
       "        vertical-align: middle;\n",
       "    }\n",
       "\n",
       "    .dataframe tbody tr th {\n",
       "        vertical-align: top;\n",
       "    }\n",
       "\n",
       "    .dataframe thead th {\n",
       "        text-align: right;\n",
       "    }\n",
       "</style>\n",
       "<table border=\"1\" class=\"dataframe\">\n",
       "  <thead>\n",
       "    <tr style=\"text-align: right;\">\n",
       "      <th></th>\n",
       "      <th>School Name</th>\n",
       "      <th>School Type</th>\n",
       "      <th>Starting Median Salary_x</th>\n",
       "      <th>Region</th>\n",
       "      <th>Starting Median Salary_y</th>\n",
       "    </tr>\n",
       "  </thead>\n",
       "  <tbody>\n",
       "    <tr>\n",
       "      <th>0</th>\n",
       "      <td>Massachusetts Institute of Technology (MIT)</td>\n",
       "      <td>Engineering</td>\n",
       "      <td>72200.0</td>\n",
       "      <td>Northeastern</td>\n",
       "      <td>72200.0</td>\n",
       "    </tr>\n",
       "    <tr>\n",
       "      <th>1</th>\n",
       "      <td>California Institute of Technology (CIT)</td>\n",
       "      <td>Engineering</td>\n",
       "      <td>75500.0</td>\n",
       "      <td>California</td>\n",
       "      <td>75500.0</td>\n",
       "    </tr>\n",
       "    <tr>\n",
       "      <th>2</th>\n",
       "      <td>Harvey Mudd College</td>\n",
       "      <td>Engineering</td>\n",
       "      <td>71800.0</td>\n",
       "      <td>California</td>\n",
       "      <td>71800.0</td>\n",
       "    </tr>\n",
       "    <tr>\n",
       "      <th>3</th>\n",
       "      <td>Polytechnic University of New York, Brooklyn</td>\n",
       "      <td>Engineering</td>\n",
       "      <td>62400.0</td>\n",
       "      <td>Northeastern</td>\n",
       "      <td>62400.0</td>\n",
       "    </tr>\n",
       "    <tr>\n",
       "      <th>4</th>\n",
       "      <td>Cooper Union</td>\n",
       "      <td>Engineering</td>\n",
       "      <td>62200.0</td>\n",
       "      <td>Northeastern</td>\n",
       "      <td>62200.0</td>\n",
       "    </tr>\n",
       "    <tr>\n",
       "      <th>...</th>\n",
       "      <td>...</td>\n",
       "      <td>...</td>\n",
       "      <td>...</td>\n",
       "      <td>...</td>\n",
       "      <td>...</td>\n",
       "    </tr>\n",
       "    <tr>\n",
       "      <th>263</th>\n",
       "      <td>Austin Peay State University</td>\n",
       "      <td>State</td>\n",
       "      <td>37700.0</td>\n",
       "      <td>Southern</td>\n",
       "      <td>37700.0</td>\n",
       "    </tr>\n",
       "    <tr>\n",
       "      <th>264</th>\n",
       "      <td>Pittsburg State University</td>\n",
       "      <td>State</td>\n",
       "      <td>40400.0</td>\n",
       "      <td>Midwestern</td>\n",
       "      <td>40400.0</td>\n",
       "    </tr>\n",
       "    <tr>\n",
       "      <th>265</th>\n",
       "      <td>Southern Utah University</td>\n",
       "      <td>State</td>\n",
       "      <td>41900.0</td>\n",
       "      <td>Western</td>\n",
       "      <td>41900.0</td>\n",
       "    </tr>\n",
       "    <tr>\n",
       "      <th>266</th>\n",
       "      <td>Montana State University - Billings</td>\n",
       "      <td>State</td>\n",
       "      <td>37900.0</td>\n",
       "      <td>Western</td>\n",
       "      <td>37900.0</td>\n",
       "    </tr>\n",
       "    <tr>\n",
       "      <th>267</th>\n",
       "      <td>Black Hills State University</td>\n",
       "      <td>State</td>\n",
       "      <td>35300.0</td>\n",
       "      <td>Midwestern</td>\n",
       "      <td>35300.0</td>\n",
       "    </tr>\n",
       "  </tbody>\n",
       "</table>\n",
       "<p>268 rows × 5 columns</p>\n",
       "</div>"
      ],
      "text/plain": [
       "                                      School Name  School Type  \\\n",
       "0     Massachusetts Institute of Technology (MIT)  Engineering   \n",
       "1        California Institute of Technology (CIT)  Engineering   \n",
       "2                             Harvey Mudd College  Engineering   \n",
       "3    Polytechnic University of New York, Brooklyn  Engineering   \n",
       "4                                    Cooper Union  Engineering   \n",
       "..                                            ...          ...   \n",
       "263                  Austin Peay State University        State   \n",
       "264                    Pittsburg State University        State   \n",
       "265                      Southern Utah University        State   \n",
       "266           Montana State University - Billings        State   \n",
       "267                  Black Hills State University        State   \n",
       "\n",
       "     Starting Median Salary_x        Region  Starting Median Salary_y  \n",
       "0                     72200.0  Northeastern                   72200.0  \n",
       "1                     75500.0    California                   75500.0  \n",
       "2                     71800.0    California                   71800.0  \n",
       "3                     62400.0  Northeastern                   62400.0  \n",
       "4                     62200.0  Northeastern                   62200.0  \n",
       "..                        ...           ...                       ...  \n",
       "263                   37700.0      Southern                   37700.0  \n",
       "264                   40400.0    Midwestern                   40400.0  \n",
       "265                   41900.0       Western                   41900.0  \n",
       "266                   37900.0       Western                   37900.0  \n",
       "267                   35300.0    Midwestern                   35300.0  \n",
       "\n",
       "[268 rows x 5 columns]"
      ]
     },
     "execution_count": 90,
     "metadata": {},
     "output_type": "execute_result"
    }
   ],
   "source": [
    "joined_copy_df=joined_df.copy()\n",
    "joined_copy_df"
   ]
  },
  {
   "cell_type": "code",
   "execution_count": 93,
   "metadata": {},
   "outputs": [],
   "source": [
    "#Remove the fields from the data set that we don't want to include in our model\n",
    "del joined_copy_df['School Name']\n",
    "del joined_copy_df['Starting Median Salary_x']"
   ]
  },
  {
   "cell_type": "code",
   "execution_count": 94,
   "metadata": {},
   "outputs": [
    {
     "data": {
      "text/html": [
       "<div>\n",
       "<style scoped>\n",
       "    .dataframe tbody tr th:only-of-type {\n",
       "        vertical-align: middle;\n",
       "    }\n",
       "\n",
       "    .dataframe tbody tr th {\n",
       "        vertical-align: top;\n",
       "    }\n",
       "\n",
       "    .dataframe thead th {\n",
       "        text-align: right;\n",
       "    }\n",
       "</style>\n",
       "<table border=\"1\" class=\"dataframe\">\n",
       "  <thead>\n",
       "    <tr style=\"text-align: right;\">\n",
       "      <th></th>\n",
       "      <th>School Type</th>\n",
       "      <th>Region</th>\n",
       "      <th>Starting Median Salary_y</th>\n",
       "    </tr>\n",
       "  </thead>\n",
       "  <tbody>\n",
       "    <tr>\n",
       "      <th>0</th>\n",
       "      <td>Engineering</td>\n",
       "      <td>Northeastern</td>\n",
       "      <td>72200.0</td>\n",
       "    </tr>\n",
       "    <tr>\n",
       "      <th>1</th>\n",
       "      <td>Engineering</td>\n",
       "      <td>California</td>\n",
       "      <td>75500.0</td>\n",
       "    </tr>\n",
       "    <tr>\n",
       "      <th>2</th>\n",
       "      <td>Engineering</td>\n",
       "      <td>California</td>\n",
       "      <td>71800.0</td>\n",
       "    </tr>\n",
       "    <tr>\n",
       "      <th>3</th>\n",
       "      <td>Engineering</td>\n",
       "      <td>Northeastern</td>\n",
       "      <td>62400.0</td>\n",
       "    </tr>\n",
       "    <tr>\n",
       "      <th>4</th>\n",
       "      <td>Engineering</td>\n",
       "      <td>Northeastern</td>\n",
       "      <td>62200.0</td>\n",
       "    </tr>\n",
       "    <tr>\n",
       "      <th>...</th>\n",
       "      <td>...</td>\n",
       "      <td>...</td>\n",
       "      <td>...</td>\n",
       "    </tr>\n",
       "    <tr>\n",
       "      <th>263</th>\n",
       "      <td>State</td>\n",
       "      <td>Southern</td>\n",
       "      <td>37700.0</td>\n",
       "    </tr>\n",
       "    <tr>\n",
       "      <th>264</th>\n",
       "      <td>State</td>\n",
       "      <td>Midwestern</td>\n",
       "      <td>40400.0</td>\n",
       "    </tr>\n",
       "    <tr>\n",
       "      <th>265</th>\n",
       "      <td>State</td>\n",
       "      <td>Western</td>\n",
       "      <td>41900.0</td>\n",
       "    </tr>\n",
       "    <tr>\n",
       "      <th>266</th>\n",
       "      <td>State</td>\n",
       "      <td>Western</td>\n",
       "      <td>37900.0</td>\n",
       "    </tr>\n",
       "    <tr>\n",
       "      <th>267</th>\n",
       "      <td>State</td>\n",
       "      <td>Midwestern</td>\n",
       "      <td>35300.0</td>\n",
       "    </tr>\n",
       "  </tbody>\n",
       "</table>\n",
       "<p>268 rows × 3 columns</p>\n",
       "</div>"
      ],
      "text/plain": [
       "     School Type        Region  Starting Median Salary_y\n",
       "0    Engineering  Northeastern                   72200.0\n",
       "1    Engineering    California                   75500.0\n",
       "2    Engineering    California                   71800.0\n",
       "3    Engineering  Northeastern                   62400.0\n",
       "4    Engineering  Northeastern                   62200.0\n",
       "..           ...           ...                       ...\n",
       "263        State      Southern                   37700.0\n",
       "264        State    Midwestern                   40400.0\n",
       "265        State       Western                   41900.0\n",
       "266        State       Western                   37900.0\n",
       "267        State    Midwestern                   35300.0\n",
       "\n",
       "[268 rows x 3 columns]"
      ]
     },
     "execution_count": 94,
     "metadata": {},
     "output_type": "execute_result"
    }
   ],
   "source": [
    "joined_copy_df"
   ]
  },
  {
   "cell_type": "code",
   "execution_count": 107,
   "metadata": {},
   "outputs": [],
   "source": [
    "joined_copy_df.rename(columns = {'Starting Median Salary_y':'Salary'}, inplace=True)\n",
    "joined_copy_df.rename(columns = {'School Type':'Type'}, inplace=True)"
   ]
  },
  {
   "cell_type": "code",
   "execution_count": 108,
   "metadata": {},
   "outputs": [
    {
     "data": {
      "text/html": [
       "<div>\n",
       "<style scoped>\n",
       "    .dataframe tbody tr th:only-of-type {\n",
       "        vertical-align: middle;\n",
       "    }\n",
       "\n",
       "    .dataframe tbody tr th {\n",
       "        vertical-align: top;\n",
       "    }\n",
       "\n",
       "    .dataframe thead th {\n",
       "        text-align: right;\n",
       "    }\n",
       "</style>\n",
       "<table border=\"1\" class=\"dataframe\">\n",
       "  <thead>\n",
       "    <tr style=\"text-align: right;\">\n",
       "      <th></th>\n",
       "      <th>Type</th>\n",
       "      <th>Region</th>\n",
       "      <th>Salary</th>\n",
       "    </tr>\n",
       "  </thead>\n",
       "  <tbody>\n",
       "    <tr>\n",
       "      <th>0</th>\n",
       "      <td>Engineering</td>\n",
       "      <td>Northeastern</td>\n",
       "      <td>72200.0</td>\n",
       "    </tr>\n",
       "    <tr>\n",
       "      <th>1</th>\n",
       "      <td>Engineering</td>\n",
       "      <td>California</td>\n",
       "      <td>75500.0</td>\n",
       "    </tr>\n",
       "    <tr>\n",
       "      <th>2</th>\n",
       "      <td>Engineering</td>\n",
       "      <td>California</td>\n",
       "      <td>71800.0</td>\n",
       "    </tr>\n",
       "    <tr>\n",
       "      <th>3</th>\n",
       "      <td>Engineering</td>\n",
       "      <td>Northeastern</td>\n",
       "      <td>62400.0</td>\n",
       "    </tr>\n",
       "    <tr>\n",
       "      <th>4</th>\n",
       "      <td>Engineering</td>\n",
       "      <td>Northeastern</td>\n",
       "      <td>62200.0</td>\n",
       "    </tr>\n",
       "    <tr>\n",
       "      <th>...</th>\n",
       "      <td>...</td>\n",
       "      <td>...</td>\n",
       "      <td>...</td>\n",
       "    </tr>\n",
       "    <tr>\n",
       "      <th>263</th>\n",
       "      <td>State</td>\n",
       "      <td>Southern</td>\n",
       "      <td>37700.0</td>\n",
       "    </tr>\n",
       "    <tr>\n",
       "      <th>264</th>\n",
       "      <td>State</td>\n",
       "      <td>Midwestern</td>\n",
       "      <td>40400.0</td>\n",
       "    </tr>\n",
       "    <tr>\n",
       "      <th>265</th>\n",
       "      <td>State</td>\n",
       "      <td>Western</td>\n",
       "      <td>41900.0</td>\n",
       "    </tr>\n",
       "    <tr>\n",
       "      <th>266</th>\n",
       "      <td>State</td>\n",
       "      <td>Western</td>\n",
       "      <td>37900.0</td>\n",
       "    </tr>\n",
       "    <tr>\n",
       "      <th>267</th>\n",
       "      <td>State</td>\n",
       "      <td>Midwestern</td>\n",
       "      <td>35300.0</td>\n",
       "    </tr>\n",
       "  </tbody>\n",
       "</table>\n",
       "<p>268 rows × 3 columns</p>\n",
       "</div>"
      ],
      "text/plain": [
       "            Type        Region   Salary\n",
       "0    Engineering  Northeastern  72200.0\n",
       "1    Engineering    California  75500.0\n",
       "2    Engineering    California  71800.0\n",
       "3    Engineering  Northeastern  62400.0\n",
       "4    Engineering  Northeastern  62200.0\n",
       "..           ...           ...      ...\n",
       "263        State      Southern  37700.0\n",
       "264        State    Midwestern  40400.0\n",
       "265        State       Western  41900.0\n",
       "266        State       Western  37900.0\n",
       "267        State    Midwestern  35300.0\n",
       "\n",
       "[268 rows x 3 columns]"
      ]
     },
     "execution_count": 108,
     "metadata": {},
     "output_type": "execute_result"
    }
   ],
   "source": [
    "joined_copy_df"
   ]
  },
  {
   "cell_type": "markdown",
   "metadata": {},
   "source": [
    "### Next we visualize each categorical feature to see which features could be good predictors of salary. We use the violin plot here to see the shape of the distribution curve along with mean and interquartile ranges."
   ]
  },
  {
   "cell_type": "code",
   "execution_count": 111,
   "metadata": {},
   "outputs": [
    {
     "data": {
      "image/png": "[encoded data removed]",
      "text/plain": [
       "<Figure size 432x288 with 1 Axes>"
      ]
     },
     "metadata": {
      "needs_background": "light"
     },
     "output_type": "display_data"
    }
   ],
   "source": [
    "sns.violinplot(x = joined_copy_df.Region, y = joined_copy_df['Salary'], data = joined_copy_df, scale = 'count', inner = 'quartile')\n",
    "plt.xticks(rotation = 70)\n",
    "plt.ylabel('Salaries in $')\n",
    "plt.gca().yaxis.set_major_formatter(plt.matplotlib.ticker.StrMethodFormatter('{x:,.0f}'))\n",
    "plt.show()"
   ]
  },
  {
   "cell_type": "markdown",
   "metadata": {},
   "source": [
    "#### We can see that the California region had the highest salary, followed closely by the Northeastern region. Distributions appear normal."
   ]
  },
  {
   "cell_type": "code",
   "execution_count": 112,
   "metadata": {},
   "outputs": [
    {
     "data": {
      "image/png": "[encoded data removed]",
      "text/plain": [
       "<Figure size 432x288 with 1 Axes>"
      ]
     },
     "metadata": {
      "needs_background": "light"
     },
     "output_type": "display_data"
    }
   ],
   "source": [
    "sns.violinplot(x = joined_copy_df.Type, y = joined_copy_df['Salary'], data = joined_copy_df, scale = 'count', inner = 'quartile')\n",
    "plt.xticks(rotation = 70)\n",
    "plt.ylabel('Salaries in $')\n",
    "plt.gca().yaxis.set_major_formatter(plt.matplotlib.ticker.StrMethodFormatter('{x:,.0f}'))\n",
    "plt.show()"
   ]
  },
  {
   "cell_type": "markdown",
   "metadata": {},
   "source": [
    "#### We can see that Ivy League and Engineering are the highest starting salary school types.  Distribution seems normal."
   ]
  },
  {
   "cell_type": "code",
   "execution_count": 113,
   "metadata": {},
   "outputs": [],
   "source": [
    "## One-hot encode categorical data in clean_train_df dataset\n",
    "joined_copy_df = pd.get_dummies(joined_copy_df)"
   ]
  },
  {
   "cell_type": "code",
   "execution_count": 114,
   "metadata": {},
   "outputs": [
    {
     "data": {
      "text/html": [
       "<div>\n",
       "<style scoped>\n",
       "    .dataframe tbody tr th:only-of-type {\n",
       "        vertical-align: middle;\n",
       "    }\n",
       "\n",
       "    .dataframe tbody tr th {\n",
       "        vertical-align: top;\n",
       "    }\n",
       "\n",
       "    .dataframe thead th {\n",
       "        text-align: right;\n",
       "    }\n",
       "</style>\n",
       "<table border=\"1\" class=\"dataframe\">\n",
       "  <thead>\n",
       "    <tr style=\"text-align: right;\">\n",
       "      <th></th>\n",
       "      <th>Salary</th>\n",
       "      <th>Type_Engineering</th>\n",
       "      <th>Type_Ivy League</th>\n",
       "      <th>Type_Liberal Arts</th>\n",
       "      <th>Type_Party</th>\n",
       "      <th>Type_State</th>\n",
       "      <th>Region_California</th>\n",
       "      <th>Region_Midwestern</th>\n",
       "      <th>Region_Northeastern</th>\n",
       "      <th>Region_Southern</th>\n",
       "      <th>Region_Western</th>\n",
       "    </tr>\n",
       "  </thead>\n",
       "  <tbody>\n",
       "    <tr>\n",
       "      <th>0</th>\n",
       "      <td>72200.0</td>\n",
       "      <td>1</td>\n",
       "      <td>0</td>\n",
       "      <td>0</td>\n",
       "      <td>0</td>\n",
       "      <td>0</td>\n",
       "      <td>0</td>\n",
       "      <td>0</td>\n",
       "      <td>1</td>\n",
       "      <td>0</td>\n",
       "      <td>0</td>\n",
       "    </tr>\n",
       "    <tr>\n",
       "      <th>1</th>\n",
       "      <td>75500.0</td>\n",
       "      <td>1</td>\n",
       "      <td>0</td>\n",
       "      <td>0</td>\n",
       "      <td>0</td>\n",
       "      <td>0</td>\n",
       "      <td>1</td>\n",
       "      <td>0</td>\n",
       "      <td>0</td>\n",
       "      <td>0</td>\n",
       "      <td>0</td>\n",
       "    </tr>\n",
       "    <tr>\n",
       "      <th>2</th>\n",
       "      <td>71800.0</td>\n",
       "      <td>1</td>\n",
       "      <td>0</td>\n",
       "      <td>0</td>\n",
       "      <td>0</td>\n",
       "      <td>0</td>\n",
       "      <td>1</td>\n",
       "      <td>0</td>\n",
       "      <td>0</td>\n",
       "      <td>0</td>\n",
       "      <td>0</td>\n",
       "    </tr>\n",
       "    <tr>\n",
       "      <th>3</th>\n",
       "      <td>62400.0</td>\n",
       "      <td>1</td>\n",
       "      <td>0</td>\n",
       "      <td>0</td>\n",
       "      <td>0</td>\n",
       "      <td>0</td>\n",
       "      <td>0</td>\n",
       "      <td>0</td>\n",
       "      <td>1</td>\n",
       "      <td>0</td>\n",
       "      <td>0</td>\n",
       "    </tr>\n",
       "    <tr>\n",
       "      <th>4</th>\n",
       "      <td>62200.0</td>\n",
       "      <td>1</td>\n",
       "      <td>0</td>\n",
       "      <td>0</td>\n",
       "      <td>0</td>\n",
       "      <td>0</td>\n",
       "      <td>0</td>\n",
       "      <td>0</td>\n",
       "      <td>1</td>\n",
       "      <td>0</td>\n",
       "      <td>0</td>\n",
       "    </tr>\n",
       "    <tr>\n",
       "      <th>...</th>\n",
       "      <td>...</td>\n",
       "      <td>...</td>\n",
       "      <td>...</td>\n",
       "      <td>...</td>\n",
       "      <td>...</td>\n",
       "      <td>...</td>\n",
       "      <td>...</td>\n",
       "      <td>...</td>\n",
       "      <td>...</td>\n",
       "      <td>...</td>\n",
       "      <td>...</td>\n",
       "    </tr>\n",
       "    <tr>\n",
       "      <th>263</th>\n",
       "      <td>37700.0</td>\n",
       "      <td>0</td>\n",
       "      <td>0</td>\n",
       "      <td>0</td>\n",
       "      <td>0</td>\n",
       "      <td>1</td>\n",
       "      <td>0</td>\n",
       "      <td>0</td>\n",
       "      <td>0</td>\n",
       "      <td>1</td>\n",
       "      <td>0</td>\n",
       "    </tr>\n",
       "    <tr>\n",
       "      <th>264</th>\n",
       "      <td>40400.0</td>\n",
       "      <td>0</td>\n",
       "      <td>0</td>\n",
       "      <td>0</td>\n",
       "      <td>0</td>\n",
       "      <td>1</td>\n",
       "      <td>0</td>\n",
       "      <td>1</td>\n",
       "      <td>0</td>\n",
       "      <td>0</td>\n",
       "      <td>0</td>\n",
       "    </tr>\n",
       "    <tr>\n",
       "      <th>265</th>\n",
       "      <td>41900.0</td>\n",
       "      <td>0</td>\n",
       "      <td>0</td>\n",
       "      <td>0</td>\n",
       "      <td>0</td>\n",
       "      <td>1</td>\n",
       "      <td>0</td>\n",
       "      <td>0</td>\n",
       "      <td>0</td>\n",
       "      <td>0</td>\n",
       "      <td>1</td>\n",
       "    </tr>\n",
       "    <tr>\n",
       "      <th>266</th>\n",
       "      <td>37900.0</td>\n",
       "      <td>0</td>\n",
       "      <td>0</td>\n",
       "      <td>0</td>\n",
       "      <td>0</td>\n",
       "      <td>1</td>\n",
       "      <td>0</td>\n",
       "      <td>0</td>\n",
       "      <td>0</td>\n",
       "      <td>0</td>\n",
       "      <td>1</td>\n",
       "    </tr>\n",
       "    <tr>\n",
       "      <th>267</th>\n",
       "      <td>35300.0</td>\n",
       "      <td>0</td>\n",
       "      <td>0</td>\n",
       "      <td>0</td>\n",
       "      <td>0</td>\n",
       "      <td>1</td>\n",
       "      <td>0</td>\n",
       "      <td>1</td>\n",
       "      <td>0</td>\n",
       "      <td>0</td>\n",
       "      <td>0</td>\n",
       "    </tr>\n",
       "  </tbody>\n",
       "</table>\n",
       "<p>268 rows × 11 columns</p>\n",
       "</div>"
      ],
      "text/plain": [
       "      Salary  Type_Engineering  Type_Ivy League  Type_Liberal Arts  \\\n",
       "0    72200.0                 1                0                  0   \n",
       "1    75500.0                 1                0                  0   \n",
       "2    71800.0                 1                0                  0   \n",
       "3    62400.0                 1                0                  0   \n",
       "4    62200.0                 1                0                  0   \n",
       "..       ...               ...              ...                ...   \n",
       "263  37700.0                 0                0                  0   \n",
       "264  40400.0                 0                0                  0   \n",
       "265  41900.0                 0                0                  0   \n",
       "266  37900.0                 0                0                  0   \n",
       "267  35300.0                 0                0                  0   \n",
       "\n",
       "     Type_Party  Type_State  Region_California  Region_Midwestern  \\\n",
       "0             0           0                  0                  0   \n",
       "1             0           0                  1                  0   \n",
       "2             0           0                  1                  0   \n",
       "3             0           0                  0                  0   \n",
       "4             0           0                  0                  0   \n",
       "..          ...         ...                ...                ...   \n",
       "263           0           1                  0                  0   \n",
       "264           0           1                  0                  1   \n",
       "265           0           1                  0                  0   \n",
       "266           0           1                  0                  0   \n",
       "267           0           1                  0                  1   \n",
       "\n",
       "     Region_Northeastern  Region_Southern  Region_Western  \n",
       "0                      1                0               0  \n",
       "1                      0                0               0  \n",
       "2                      0                0               0  \n",
       "3                      1                0               0  \n",
       "4                      1                0               0  \n",
       "..                   ...              ...             ...  \n",
       "263                    0                1               0  \n",
       "264                    0                0               0  \n",
       "265                    0                0               1  \n",
       "266                    0                0               1  \n",
       "267                    0                0               0  \n",
       "\n",
       "[268 rows x 11 columns]"
      ]
     },
     "execution_count": 114,
     "metadata": {},
     "output_type": "execute_result"
    }
   ],
   "source": [
    "joined_copy_df"
   ]
  },
  {
   "cell_type": "markdown",
   "metadata": {},
   "source": [
    "### Correlation between all the features"
   ]
  },
  {
   "cell_type": "markdown",
   "metadata": {},
   "source": [
    "#### Now that numerical values are assigned to all features we can see the correlation between all of them."
   ]
  },
  {
   "cell_type": "code",
   "execution_count": 115,
   "metadata": {},
   "outputs": [
    {
     "data": {
      "text/plain": [
       "<AxesSubplot:>"
      ]
     },
     "execution_count": 115,
     "metadata": {},
     "output_type": "execute_result"
    },
    {
     "data": {
      "image/png": "[encoded data removed]",
      "text/plain": [
       "<Figure size 2880x2160 with 2 Axes>"
      ]
     },
     "metadata": {
      "needs_background": "light"
     },
     "output_type": "display_data"
    }
   ],
   "source": [
    "# Plot heatmap of all data with correlation coefficients visible\n",
    "joined_copy_df_corr = joined_copy_df.corr()\n",
    "plt.subplots(figsize=(40,30))\n",
    "sns.heatmap(joined_copy_df_corr, cmap = 'BuGn', linewidth =.005, annot = True)"
   ]
  },
  {
   "cell_type": "markdown",
   "metadata": {},
   "source": [
    "#### INSERT CORRELATION INFORMATION\n",
    "\n",
    "#### To create a basic training model, two variables will be assigned for the model to use. Twenty percent of the training data will be split into testing data that we can use to test the model with data for which the salaries are already known."
   ]
  },
  {
   "cell_type": "code",
   "execution_count": 116,
   "metadata": {},
   "outputs": [],
   "source": [
    "#Split the data and assign 'salary' to 'sal_df' and the rest of the features to 'feat_df'. \n",
    "feat_df = joined_copy_df[joined_copy_df.loc[ :, joined_copy_df.columns != 'Salary'].columns]\n",
    "sal_df = joined_copy_df['Salary']\n",
    "feat_train, feat_test, sal_train, sal_test = train_test_split(feat_df, sal_df, test_size = 0.2, random_state = 1)"
   ]
  },
  {
   "cell_type": "code",
   "execution_count": 117,
   "metadata": {},
   "outputs": [
    {
     "data": {
      "text/html": [
       "<div>\n",
       "<style scoped>\n",
       "    .dataframe tbody tr th:only-of-type {\n",
       "        vertical-align: middle;\n",
       "    }\n",
       "\n",
       "    .dataframe tbody tr th {\n",
       "        vertical-align: top;\n",
       "    }\n",
       "\n",
       "    .dataframe thead th {\n",
       "        text-align: right;\n",
       "    }\n",
       "</style>\n",
       "<table border=\"1\" class=\"dataframe\">\n",
       "  <thead>\n",
       "    <tr style=\"text-align: right;\">\n",
       "      <th></th>\n",
       "      <th>Type_Engineering</th>\n",
       "      <th>Type_Ivy League</th>\n",
       "      <th>Type_Liberal Arts</th>\n",
       "      <th>Type_Party</th>\n",
       "      <th>Type_State</th>\n",
       "      <th>Region_California</th>\n",
       "      <th>Region_Midwestern</th>\n",
       "      <th>Region_Northeastern</th>\n",
       "      <th>Region_Southern</th>\n",
       "      <th>Region_Western</th>\n",
       "    </tr>\n",
       "  </thead>\n",
       "  <tbody>\n",
       "    <tr>\n",
       "      <th>18</th>\n",
       "      <td>0</td>\n",
       "      <td>0</td>\n",
       "      <td>0</td>\n",
       "      <td>1</td>\n",
       "      <td>0</td>\n",
       "      <td>0</td>\n",
       "      <td>1</td>\n",
       "      <td>0</td>\n",
       "      <td>0</td>\n",
       "      <td>0</td>\n",
       "    </tr>\n",
       "    <tr>\n",
       "      <th>73</th>\n",
       "      <td>0</td>\n",
       "      <td>0</td>\n",
       "      <td>1</td>\n",
       "      <td>0</td>\n",
       "      <td>0</td>\n",
       "      <td>0</td>\n",
       "      <td>0</td>\n",
       "      <td>1</td>\n",
       "      <td>0</td>\n",
       "      <td>0</td>\n",
       "    </tr>\n",
       "    <tr>\n",
       "      <th>180</th>\n",
       "      <td>0</td>\n",
       "      <td>0</td>\n",
       "      <td>0</td>\n",
       "      <td>0</td>\n",
       "      <td>1</td>\n",
       "      <td>0</td>\n",
       "      <td>0</td>\n",
       "      <td>0</td>\n",
       "      <td>1</td>\n",
       "      <td>0</td>\n",
       "    </tr>\n",
       "    <tr>\n",
       "      <th>252</th>\n",
       "      <td>0</td>\n",
       "      <td>0</td>\n",
       "      <td>0</td>\n",
       "      <td>0</td>\n",
       "      <td>1</td>\n",
       "      <td>0</td>\n",
       "      <td>1</td>\n",
       "      <td>0</td>\n",
       "      <td>0</td>\n",
       "      <td>0</td>\n",
       "    </tr>\n",
       "    <tr>\n",
       "      <th>140</th>\n",
       "      <td>0</td>\n",
       "      <td>0</td>\n",
       "      <td>0</td>\n",
       "      <td>0</td>\n",
       "      <td>1</td>\n",
       "      <td>0</td>\n",
       "      <td>0</td>\n",
       "      <td>1</td>\n",
       "      <td>0</td>\n",
       "      <td>0</td>\n",
       "    </tr>\n",
       "  </tbody>\n",
       "</table>\n",
       "</div>"
      ],
      "text/plain": [
       "     Type_Engineering  Type_Ivy League  Type_Liberal Arts  Type_Party  \\\n",
       "18                  0                0                  0           1   \n",
       "73                  0                0                  1           0   \n",
       "180                 0                0                  0           0   \n",
       "252                 0                0                  0           0   \n",
       "140                 0                0                  0           0   \n",
       "\n",
       "     Type_State  Region_California  Region_Midwestern  Region_Northeastern  \\\n",
       "18            0                  0                  1                    0   \n",
       "73            0                  0                  0                    1   \n",
       "180           1                  0                  0                    0   \n",
       "252           1                  0                  1                    0   \n",
       "140           1                  0                  0                    1   \n",
       "\n",
       "     Region_Southern  Region_Western  \n",
       "18                 0               0  \n",
       "73                 0               0  \n",
       "180                1               0  \n",
       "252                0               0  \n",
       "140                0               0  "
      ]
     },
     "execution_count": 117,
     "metadata": {},
     "output_type": "execute_result"
    }
   ],
   "source": [
    "#View inputs and outputs of training model\n",
    "feat_train.head()"
   ]
  },
  {
   "cell_type": "code",
   "execution_count": 118,
   "metadata": {},
   "outputs": [
    {
     "data": {
      "text/plain": [
       "18     52900.0\n",
       "73     47200.0\n",
       "180    44500.0\n",
       "252    38900.0\n",
       "140    43900.0\n",
       "Name: Salary, dtype: float64"
      ]
     },
     "execution_count": 118,
     "metadata": {},
     "output_type": "execute_result"
    }
   ],
   "source": [
    "sal_train.head()"
   ]
  },
  {
   "cell_type": "markdown",
   "metadata": {},
   "source": [
    "#### We will use linear regression here as salary is a continious variable. With all the data, we see that this is a case of Supervised Regression learning. We will establish the baseline model by appling Linear Regression to feat_train, sal_train"
   ]
  },
  {
   "cell_type": "code",
   "execution_count": 119,
   "metadata": {},
   "outputs": [
    {
     "data": {
      "text/plain": [
       "LinearRegression()"
      ]
     },
     "execution_count": 119,
     "metadata": {},
     "output_type": "execute_result"
    }
   ],
   "source": [
    "#Create Linear Regression Object and fit the model\n",
    "reg = LinearRegression()\n",
    "reg.fit(feat_train,sal_train)\n",
    "reg"
   ]
  },
  {
   "cell_type": "markdown",
   "metadata": {},
   "source": [
    "#### Next, we will view the coefficients of our model -"
   ]
  },
  {
   "cell_type": "code",
   "execution_count": 120,
   "metadata": {},
   "outputs": [
    {
     "name": "stdout",
     "output_type": "stream",
     "text": [
      "-7.991850944928823e+17\n",
      "[1.82224276e+17 1.82224276e+17 1.82224276e+17 1.82224276e+17\n",
      " 1.82224276e+17 6.16960818e+17 6.16960818e+17 6.16960818e+17\n",
      " 6.16960818e+17 6.16960818e+17]\n"
     ]
    }
   ],
   "source": [
    "#View coeff of Linear Regression object \n",
    "print(reg.intercept_)\n",
    "print(reg.coef_)"
   ]
  },
  {
   "cell_type": "code",
   "execution_count": 121,
   "metadata": {},
   "outputs": [
    {
     "name": "stdout",
     "output_type": "stream",
     "text": [
      "First five predictions: [45312. 46592. 43136. 43136. 44800.]\n"
     ]
    }
   ],
   "source": [
    "#predict salary using training data\n",
    "ypred = reg.predict(feat_train)\n",
    "\n",
    "#View first five predictions -\n",
    "print ('First five predictions:' , ypred[0:5])"
   ]
  },
  {
   "cell_type": "code",
   "execution_count": 122,
   "metadata": {},
   "outputs": [
    {
     "name": "stdout",
     "output_type": "stream",
     "text": [
      "Mean Squared Error of our prediction model 18556839.028037384\n"
     ]
    }
   ],
   "source": [
    "#print MSE - \n",
    "print ('Mean Squared Error of our prediction model', mean_squared_error(sal_train, ypred))"
   ]
  },
  {
   "cell_type": "code",
   "execution_count": 15,
   "metadata": {},
   "outputs": [],
   "source": [
    "#Remove the target from features data\n",
    "X = df.drop(columns=[\"Starting_Median_Salary\"]).values\n",
    "y = df.Starting_Median_Salary.values"
   ]
  },
  {
   "cell_type": "code",
   "execution_count": 125,
   "metadata": {},
   "outputs": [
    {
     "name": "stdout",
     "output_type": "stream",
     "text": [
      "5-Cross Validation accuracy 0.49880374275058453 0.13815231446486412\n"
     ]
    }
   ],
   "source": [
    "# accurace of the baseline model using 5-cross validation method -\n",
    "score = cross_val_score(reg, feat_train, sal_train, cv = 5)\n",
    "print ('5-Cross Validation accuracy', (np.mean(score)), (np.std(score)))"
   ]
  },
  {
   "cell_type": "code",
   "execution_count": 131,
   "metadata": {},
   "outputs": [],
   "source": [
    "#distribution plots \n",
    "def dis_data(Rfunction, Bfunction, Rname, Bname, title):\n",
    "    plt.figure(figsize=(10,6))\n",
    "    ax1 = sns.distplot(Rfunction, hist = False, color = 'r', label = Rname)\n",
    "    ax1 = sns.distplot(Bfunction, hist = False, color = 'b', label = Bname)\n",
    "    plt.title(title)\n",
    "    plt.show()\n",
    "    plt.close()"
   ]
  },
  {
   "cell_type": "code",
   "execution_count": 133,
   "metadata": {},
   "outputs": [
    {
     "data": {
      "image/png": "[encoded data removed]",
      "text/plain": [
       "<Figure size 720x432 with 1 Axes>"
      ]
     },
     "metadata": {
      "needs_background": "light"
     },
     "output_type": "display_data"
    }
   ],
   "source": [
    "#distribution plot \n",
    "#Calling the function\n",
    "Title = 'Distribution Plot of Actual Values vs Predicted Values'\n",
    "dis_data(sal_train, ypred, 'Actual Values(train data)', 'Predicted Values(train data)', Title)"
   ]
  },
  {
   "cell_type": "code",
   "execution_count": 134,
   "metadata": {},
   "outputs": [
    {
     "name": "stdout",
     "output_type": "stream",
     "text": [
      "First five predictions(test data) [60032. 45312. 42752. 42752. 43136.]\n"
     ]
    }
   ],
   "source": [
    "#store test set predictions in yhat_test \n",
    "ypred_test = reg.predict(feat_test)\n",
    "\n",
    "#view first five predictions - \n",
    "print ('First five predictions(test data)', ypred_test[0:5])"
   ]
  },
  {
   "cell_type": "code",
   "execution_count": 135,
   "metadata": {},
   "outputs": [
    {
     "name": "stdout",
     "output_type": "stream",
     "text": [
      "Mean Squared Error of test data  12961199.111111112\n"
     ]
    }
   ],
   "source": [
    "#MSE of test data - \n",
    "print ('Mean Squared Error of test data ', mean_squared_error(sal_test, ypred_test))"
   ]
  },
  {
   "cell_type": "code",
   "execution_count": 136,
   "metadata": {},
   "outputs": [
    {
     "name": "stdout",
     "output_type": "stream",
     "text": [
      "5-cross validation accuracy(test data) 0.29752240225822324 0.3637386305354092\n"
     ]
    }
   ],
   "source": [
    "#accuracy of test data using 5-cross validation method - \n",
    "score = cross_val_score(reg, feat_test, sal_test, cv = 5)\n",
    "print ('5-cross validation accuracy(test data)', (np.mean(score)), (np.std(score)))"
   ]
  },
  {
   "cell_type": "code",
   "execution_count": 137,
   "metadata": {},
   "outputs": [
    {
     "data": {
      "image/png": "[encoded data removed]",
      "text/plain": [
       "<Figure size 720x432 with 1 Axes>"
      ]
     },
     "metadata": {
      "needs_background": "light"
     },
     "output_type": "display_data"
    }
   ],
   "source": [
    "#Distribution plot \n",
    "Title = 'Distribution Plot of Predicted values of test data vs Actual values of test data'\n",
    "dis_data(sal_test, ypred_test, 'Actual Values(test)', 'Predicted Values(test)', title = Title)"
   ]
  },
  {
   "cell_type": "code",
   "execution_count": 16,
   "metadata": {},
   "outputs": [
    {
     "data": {
      "text/plain": [
       "dtype('float64')"
      ]
     },
     "execution_count": 16,
     "metadata": {},
     "output_type": "execute_result"
    }
   ],
   "source": [
    "df.Starting_Median_Salary.dtype"
   ]
  },
  {
   "cell_type": "code",
   "execution_count": 17,
   "metadata": {},
   "outputs": [],
   "source": [
    "#df.head().copy().assign(rand=lambda x: x.Starting_Median_Salary*2).drop(columns=[\"Starting_Median_Salary\"]).values"
   ]
  },
  {
   "cell_type": "code",
   "execution_count": 18,
   "metadata": {},
   "outputs": [
    {
     "data": {
      "text/plain": [
       "Index(['Starting_Median_Salary', 'School Type_Engineering',\n",
       "       'School Type_Ivy League', 'School Type_Liberal Arts',\n",
       "       'School Type_Party', 'School Type_State'],\n",
       "      dtype='object')"
      ]
     },
     "execution_count": 18,
     "metadata": {},
     "output_type": "execute_result"
    }
   ],
   "source": [
    "df.columns"
   ]
  },
  {
   "cell_type": "code",
   "execution_count": 19,
   "metadata": {},
   "outputs": [
    {
     "data": {
      "text/plain": [
       "array([72200., 75500., 71800., 62400., 62200., 61000., 61800., 61100.,\n",
       "       58300., 58100., 60600., 56000., 53000., 53500., 55800., 51000.,\n",
       "       48900., 52700., 46200., 52900., 52000., 50500., 49700., 44500.,\n",
       "       47100., 46900., 44100., 49900., 47400., 46300., 44700., 42600.,\n",
       "       41300., 41400., 41800., 43100., 43800., 42200., 42100., 54100.,\n",
       "       52800., 54500., 53900., 48100., 50200., 51900., 53600., 49700.,\n",
       "       46100., 47500., 51700., 48600., 46500., 47300., 47200., 48600.,\n",
       "       46000., 47700., 42400., 49100., 41400., 45300., 46400., 44700.,\n",
       "       45500., 44000., 49200., 42600., 42800., 42000., 43400., 46600.,\n",
       "       38500., 40500., 44500., 43500., 42100., 41800., 39200., 42600.,\n",
       "       41600., 42500., 38900., 42000., 41500., 39500., 58000., 66500.,\n",
       "       59100., 63400., 60900., 60300., 56200., 59400., 59900., 52700.,\n",
       "       57200., 52600., 51100., 52300., 47100., 48300., 52900., 49700.,\n",
       "       53600., 57100., 53500., 52000., 50500., 49700., 52700., 49500.,\n",
       "       44500., 50300., 51400., 48000., 46600., 47400., 47100., 48900.,\n",
       "       46900., 45700., 47800., 45400., 47300., 47500., 48400., 44100.,\n",
       "       49900., 48800., 46300., 43900., 46200., 45400., 45300., 45100.,\n",
       "       45400., 45900., 46100., 49200., 47300., 46200., 47400., 44700.,\n",
       "       46300., 44700., 44900., 47200., 45100., 45400., 46500., 44700.,\n",
       "       44100., 44800., 43100., 47800., 44900., 47500., 46200., 42400.,\n",
       "       41600., 42900., 41300., 46800., 42300., 41700., 45700., 45400.,\n",
       "       43600., 42800., 44000., 45500., 46000., 41400., 44300., 46500.,\n",
       "       44500., 44800., 43300., 44500., 43800., 45800., 42200., 42800.,\n",
       "       41800., 45600., 43100., 47000., 45100., 38000., 43200., 46600.,\n",
       "       37500., 41100., 40800., 42800., 43800., 43100., 43200., 40800.,\n",
       "       42700., 43300., 43800., 42300., 39200., 45700., 43100., 41800.,\n",
       "       42300., 41100., 44900., 42200., 42000., 43500., 42100., 45900.,\n",
       "       42400., 41500., 43000., 43400., 42700., 41200., 40300., 39800.,\n",
       "       37300., 42600., 40000., 45200., 41800., 40700., 38000., 42600.,\n",
       "       42600., 41100., 42600., 38600., 42500., 41100., 38000., 39200.,\n",
       "       41400., 40800., 36100., 42200., 40400., 42000., 43600., 40200.,\n",
       "       42400., 41400., 36900., 39300., 37800., 38900., 41400., 39100.,\n",
       "       37500., 39800., 39400., 38700., 38700., 40800., 35800., 34800.,\n",
       "       37700., 40400., 41900., 37900., 35300.])"
      ]
     },
     "execution_count": 19,
     "metadata": {},
     "output_type": "execute_result"
    }
   ],
   "source": [
    "df.Starting_Median_Salary.values"
   ]
  },
  {
   "cell_type": "code",
   "execution_count": 20,
   "metadata": {},
   "outputs": [],
   "source": [
    "#Split into a training set and a test set\n",
    "from sklearn.model_selection import train_test_split\n",
    "\n",
    "#training set will be the larger portion of the data, typically 70% or more\n",
    "#after the split will have four sets of data: x_train, x_test, y_train, y_test\n",
    "\n",
    "X_train, X_test, y_train, y_test = train_test_split(X, y, test_size=0.3, random_state=0)"
   ]
  },
  {
   "cell_type": "code",
   "execution_count": 21,
   "metadata": {},
   "outputs": [],
   "source": [
    "#Create a StandardScalar instance\n",
    "scaler = StandardScaler()"
   ]
  },
  {
   "cell_type": "code",
   "execution_count": 22,
   "metadata": {},
   "outputs": [],
   "source": [
    "#Fit the StandardScaler\n",
    "X_scaler= scaler.fit(X_train)"
   ]
  },
  {
   "cell_type": "code",
   "execution_count": 26,
   "metadata": {},
   "outputs": [],
   "source": [
    "#Scale the data\n",
    "X_train_scaled = X_scaler.transform(X_train)\n",
    "X_test_scaled = X_scaler.transform(X_test)"
   ]
  },
  {
   "cell_type": "code",
   "execution_count": 27,
   "metadata": {},
   "outputs": [],
   "source": [
    "reg = LinearRegression()"
   ]
  },
  {
   "cell_type": "code",
   "execution_count": 41,
   "metadata": {},
   "outputs": [
    {
     "data": {
      "text/plain": [
       "LinearRegression()"
      ]
     },
     "execution_count": 41,
     "metadata": {},
     "output_type": "execute_result"
    }
   ],
   "source": [
    "reg.fit(X_train_scaled,y_train)"
   ]
  },
  {
   "cell_type": "code",
   "execution_count": 44,
   "metadata": {},
   "outputs": [],
   "source": [
    "encodeDictionary = {\n",
    "    \"School Type_Party\": [[0,0,0,1,0]]\n",
    "}"
   ]
  },
  {
   "cell_type": "code",
   "execution_count": 62,
   "metadata": {},
   "outputs": [
    {
     "name": "stdout",
     "output_type": "stream",
     "text": [
      "enter school typeSchool Type_Party\n"
     ]
    }
   ],
   "source": [
    "value = input(\"enter school type\")"
   ]
  },
  {
   "cell_type": "code",
   "execution_count": 63,
   "metadata": {},
   "outputs": [],
   "source": [
    "userInput = encodeDictionary[value]"
   ]
  },
  {
   "cell_type": "code",
   "execution_count": 64,
   "metadata": {},
   "outputs": [],
   "source": [
    "userInputScaler = scaler.fit(userInput)"
   ]
  },
  {
   "cell_type": "code",
   "execution_count": 65,
   "metadata": {},
   "outputs": [],
   "source": [
    "userInputScaled = userInputScaler.transform(userInput)"
   ]
  },
  {
   "cell_type": "code",
   "execution_count": 66,
   "metadata": {},
   "outputs": [
    {
     "data": {
      "text/plain": [
       "array([46095.74468085])"
      ]
     },
     "execution_count": 66,
     "metadata": {},
     "output_type": "execute_result"
    }
   ],
   "source": [
    "reg.predict(userInputScaled)"
   ]
  },
  {
   "cell_type": "code",
   "execution_count": 67,
   "metadata": {},
   "outputs": [
    {
     "data": {
      "text/html": [
       "<div>\n",
       "<style scoped>\n",
       "    .dataframe tbody tr th:only-of-type {\n",
       "        vertical-align: middle;\n",
       "    }\n",
       "\n",
       "    .dataframe tbody tr th {\n",
       "        vertical-align: top;\n",
       "    }\n",
       "\n",
       "    .dataframe thead th {\n",
       "        text-align: right;\n",
       "    }\n",
       "</style>\n",
       "<table border=\"1\" class=\"dataframe\">\n",
       "  <thead>\n",
       "    <tr style=\"text-align: right;\">\n",
       "      <th></th>\n",
       "      <th>Starting_Median_Salary</th>\n",
       "      <th>School Type_Engineering</th>\n",
       "      <th>School Type_Ivy League</th>\n",
       "      <th>School Type_Liberal Arts</th>\n",
       "      <th>School Type_Party</th>\n",
       "      <th>School Type_State</th>\n",
       "    </tr>\n",
       "  </thead>\n",
       "  <tbody>\n",
       "    <tr>\n",
       "      <th>0</th>\n",
       "      <td>72200.0</td>\n",
       "      <td>1.0</td>\n",
       "      <td>0.0</td>\n",
       "      <td>0.0</td>\n",
       "      <td>0.0</td>\n",
       "      <td>0.0</td>\n",
       "    </tr>\n",
       "  </tbody>\n",
       "</table>\n",
       "</div>"
      ],
      "text/plain": [
       "   Starting_Median_Salary  School Type_Engineering  School Type_Ivy League  \\\n",
       "0                 72200.0                      1.0                     0.0   \n",
       "\n",
       "   School Type_Liberal Arts  School Type_Party  School Type_State  \n",
       "0                       0.0                0.0                0.0  "
      ]
     },
     "execution_count": 67,
     "metadata": {},
     "output_type": "execute_result"
    }
   ],
   "source": [
    "df.head(1)"
   ]
  },
  {
   "cell_type": "code",
   "execution_count": 68,
   "metadata": {},
   "outputs": [
    {
     "data": {
      "text/plain": [
       "'School Type_Party'"
      ]
     },
     "execution_count": 68,
     "metadata": {},
     "output_type": "execute_result"
    }
   ],
   "source": [
    "value"
   ]
  },
  {
   "cell_type": "code",
   "execution_count": 69,
   "metadata": {},
   "outputs": [
    {
     "data": {
      "text/plain": [
       "LinearRegression()"
      ]
     },
     "execution_count": 69,
     "metadata": {},
     "output_type": "execute_result"
    }
   ],
   "source": [
    "reg.fit(X_train_scaled,y_train)"
   ]
  },
  {
   "cell_type": "code",
   "execution_count": 70,
   "metadata": {},
   "outputs": [
    {
     "name": "stdout",
     "output_type": "stream",
     "text": [
      "(188,)\n"
     ]
    }
   ],
   "source": [
    "y_pred=reg.predict(X_train_scaled)\n",
    "print(y_pred.shape)"
   ]
  },
  {
   "cell_type": "code",
   "execution_count": 71,
   "metadata": {},
   "outputs": [
    {
     "name": "stdout",
     "output_type": "stream",
     "text": [
      "[44098.31932773 44098.31932773 45677.77777778 44098.31932773\n",
      " 44098.31932773 44098.31932773 44098.31932773 44098.31932773\n",
      " 60884.61538462 60884.61538462 44098.31932773 44098.31932773\n",
      " 44098.31932773 44098.31932773 44098.31932773 44098.31932773\n",
      " 44098.31932773 44098.31932773 60660.         45677.77777778\n",
      " 44098.31932773 44098.31932773 45677.77777778 45677.77777778\n",
      " 44098.31932773 45677.77777778 44098.31932773 45677.77777778\n",
      " 44098.31932773 44098.31932773 60884.61538462 44098.31932773\n",
      " 44098.31932773 44098.31932773 45677.77777778 44098.31932773\n",
      " 45677.77777778 44098.31932773 45273.33333333 44098.31932773\n",
      " 44098.31932773 44098.31932773 45273.33333333 44098.31932773\n",
      " 44098.31932773 45273.33333333 44098.31932773 44098.31932773\n",
      " 44098.31932773 44098.31932773 44098.31932773 60884.61538462\n",
      " 45273.33333333 44098.31932773 44098.31932773 60884.61538462\n",
      " 44098.31932773 44098.31932773 44098.31932773 60660.\n",
      " 44098.31932773 45677.77777778 44098.31932773 44098.31932773\n",
      " 45677.77777778 44098.31932773 44098.31932773 60660.\n",
      " 44098.31932773 44098.31932773 60884.61538462 44098.31932773\n",
      " 44098.31932773 44098.31932773 45677.77777778 44098.31932773\n",
      " 44098.31932773 44098.31932773 44098.31932773 45273.33333333\n",
      " 44098.31932773]\n"
     ]
    }
   ],
   "source": [
    "y_pred_test=reg.predict(X_test_scaled)\n",
    "print(y_pred_test)"
   ]
  },
  {
   "cell_type": "code",
   "execution_count": 54,
   "metadata": {},
   "outputs": [
    {
     "name": "stdout",
     "output_type": "stream",
     "text": [
      "[ 3411.27142318  2127.25616251  -692.96041494  -586.79367855\n",
      " -1610.14174396]\n"
     ]
    }
   ],
   "source": [
    "print(reg.coef_)"
   ]
  },
  {
   "cell_type": "code",
   "execution_count": 55,
   "metadata": {},
   "outputs": [
    {
     "name": "stdout",
     "output_type": "stream",
     "text": [
      "46095.744680851065\n"
     ]
    }
   ],
   "source": [
    "print(reg.intercept_)"
   ]
  },
  {
   "cell_type": "code",
   "execution_count": 56,
   "metadata": {},
   "outputs": [
    {
     "data": {
      "text/plain": [
       "4161.422924602541"
      ]
     },
     "execution_count": 56,
     "metadata": {},
     "output_type": "execute_result"
    }
   ],
   "source": [
    "#Find the error rate on the training set (mean absolute error is the measure of the average prediction error across the data set)\n",
    "mse = mean_absolute_error(y_train, reg.predict(X_train))\n",
    "mse"
   ]
  },
  {
   "cell_type": "code",
   "execution_count": 57,
   "metadata": {},
   "outputs": [
    {
     "data": {
      "text/plain": [
       "3900.4149325078483"
      ]
     },
     "execution_count": 57,
     "metadata": {},
     "output_type": "execute_result"
    }
   ],
   "source": [
    "#Find the error rate on the test set\n",
    "msetest = mean_absolute_error(y_test, reg.predict(X_test))\n",
    "msetest"
   ]
  },
  {
   "cell_type": "code",
   "execution_count": 58,
   "metadata": {},
   "outputs": [
    {
     "data": {
      "text/plain": [
       "4553.663560453057"
      ]
     },
     "execution_count": 58,
     "metadata": {},
     "output_type": "execute_result"
    }
   ],
   "source": [
    "from sklearn.metrics import mean_squared_error\n",
    "\n",
    "mean_squared_error(y_pred, y_train,squared=False)"
   ]
  },
  {
   "cell_type": "code",
   "execution_count": 59,
   "metadata": {},
   "outputs": [
    {
     "data": {
      "text/plain": [
       "array([44485.60293689, 44485.60293689, 45402.78426591, 44485.60293689,\n",
       "       44485.60293689, 44485.60293689, 44485.60293689, 44485.60293689,\n",
       "       49507.01610403, 49507.01610403, 44485.60293689, 44485.60293689,\n",
       "       44485.60293689, 44485.60293689, 44485.60293689, 44485.60293689,\n",
       "       44485.60293689, 44485.60293689, 48223.00084336, 45402.78426591,\n",
       "       44485.60293689, 44485.60293689, 45402.78426591, 45402.78426591,\n",
       "       44485.60293689, 45402.78426591, 44485.60293689, 45402.78426591,\n",
       "       44485.60293689, 44485.60293689, 49507.01610403, 44485.60293689,\n",
       "       44485.60293689, 44485.60293689, 45402.78426591, 44485.60293689,\n",
       "       45402.78426591, 44485.60293689, 45508.9510023 , 44485.60293689,\n",
       "       44485.60293689, 44485.60293689, 45508.9510023 , 44485.60293689,\n",
       "       44485.60293689, 45508.9510023 , 44485.60293689, 44485.60293689,\n",
       "       44485.60293689, 44485.60293689, 44485.60293689, 49507.01610403,\n",
       "       45508.9510023 , 44485.60293689, 44485.60293689, 49507.01610403,\n",
       "       44485.60293689, 44485.60293689, 44485.60293689, 48223.00084336,\n",
       "       44485.60293689, 45402.78426591, 44485.60293689, 44485.60293689,\n",
       "       45402.78426591, 44485.60293689, 44485.60293689, 48223.00084336,\n",
       "       44485.60293689, 44485.60293689, 49507.01610403, 44485.60293689,\n",
       "       44485.60293689, 44485.60293689, 45402.78426591, 44485.60293689,\n",
       "       44485.60293689, 44485.60293689, 44485.60293689, 45508.9510023 ,\n",
       "       44485.60293689])"
      ]
     },
     "execution_count": 59,
     "metadata": {},
     "output_type": "execute_result"
    }
   ],
   "source": [
    "#test model after training by calling the predict method and giving it the x test variable as an arguement\n",
    "reg.predict(X_test)\n"
   ]
  },
  {
   "cell_type": "code",
   "execution_count": null,
   "metadata": {},
   "outputs": [],
   "source": [
    "#Assess the performance of the model with results\n",
    "\n",
    "#from sklearn.metrics import accuracy_score\n",
    "#print(accuracy_score(y_test,y_pred))"
   ]
  },
  {
   "cell_type": "code",
   "execution_count": null,
   "metadata": {},
   "outputs": [],
   "source": []
  },
  {
   "cell_type": "code",
   "execution_count": null,
   "metadata": {},
   "outputs": [],
   "source": []
  },
  {
   "cell_type": "code",
   "execution_count": null,
   "metadata": {},
   "outputs": [],
   "source": []
  }
 ],
 "metadata": {
  "kernelspec": {
   "display_name": "mlenv",
   "language": "python",
   "name": "mlenv"
  },
  "language_info": {
   "codemirror_mode": {
    "name": "ipython",
    "version": 3
   },
   "file_extension": ".py",
   "mimetype": "text/x-python",
   "name": "python",
   "nbconvert_exporter": "python",
   "pygments_lexer": "ipython3",
   "version": "3.7.9"
  }
 },
 "nbformat": 4,
 "nbformat_minor": 4
}
