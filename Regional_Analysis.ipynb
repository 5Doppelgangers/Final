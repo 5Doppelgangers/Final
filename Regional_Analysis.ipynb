{
 "cells": [
  {
   "cell_type": "code",
   "execution_count": 1,
   "metadata": {},
   "outputs": [],
   "source": [
    "## Create visualizations that help see the correlation between U.S. regions and salary."
   ]
  },
  {
   "cell_type": "code",
   "execution_count": 2,
   "metadata": {},
   "outputs": [],
   "source": [
    "# Import dependancies.\n",
    "import pandas as pd \n",
    "import numpy as np \n",
    "import matplotlib.pyplot as plt\n",
    "from pathlib import Path\n",
    "\n",
    "# Add Matplotlib inline magic command.\n",
    "%matplotlib inline"
   ]
  },
  {
   "cell_type": "code",
   "execution_count": 5,
   "metadata": {},
   "outputs": [
    {
     "data": {
      "text/html": [
       "<div>\n",
       "<style scoped>\n",
       "    .dataframe tbody tr th:only-of-type {\n",
       "        vertical-align: middle;\n",
       "    }\n",
       "\n",
       "    .dataframe tbody tr th {\n",
       "        vertical-align: top;\n",
       "    }\n",
       "\n",
       "    .dataframe thead th {\n",
       "        text-align: right;\n",
       "    }\n",
       "</style>\n",
       "<table border=\"1\" class=\"dataframe\">\n",
       "  <thead>\n",
       "    <tr style=\"text-align: right;\">\n",
       "      <th></th>\n",
       "      <th>School Name</th>\n",
       "      <th>Region</th>\n",
       "      <th>Starting Median Salary</th>\n",
       "      <th>Mid-Career Median Salary</th>\n",
       "      <th>Mid-Career 10th Percentile Salary</th>\n",
       "      <th>Mid-Career 25th Percentile Salary</th>\n",
       "      <th>Mid-Career 75th Percentile Salary</th>\n",
       "      <th>Mid-Career 90th Percentile Salary</th>\n",
       "    </tr>\n",
       "  </thead>\n",
       "  <tbody>\n",
       "    <tr>\n",
       "      <th>0</th>\n",
       "      <td>Stanford University</td>\n",
       "      <td>California</td>\n",
       "      <td>$70,400.00</td>\n",
       "      <td>$129,000.00</td>\n",
       "      <td>$68,400.00</td>\n",
       "      <td>$93,100.00</td>\n",
       "      <td>$184,000.00</td>\n",
       "      <td>$257,000.00</td>\n",
       "    </tr>\n",
       "    <tr>\n",
       "      <th>1</th>\n",
       "      <td>California Institute of Technology (CIT)</td>\n",
       "      <td>California</td>\n",
       "      <td>$75,500.00</td>\n",
       "      <td>$123,000.00</td>\n",
       "      <td>NaN</td>\n",
       "      <td>$104,000.00</td>\n",
       "      <td>$161,000.00</td>\n",
       "      <td>NaN</td>\n",
       "    </tr>\n",
       "    <tr>\n",
       "      <th>2</th>\n",
       "      <td>Harvey Mudd College</td>\n",
       "      <td>California</td>\n",
       "      <td>$71,800.00</td>\n",
       "      <td>$122,000.00</td>\n",
       "      <td>NaN</td>\n",
       "      <td>$96,000.00</td>\n",
       "      <td>$180,000.00</td>\n",
       "      <td>NaN</td>\n",
       "    </tr>\n",
       "    <tr>\n",
       "      <th>3</th>\n",
       "      <td>University of California, Berkeley</td>\n",
       "      <td>California</td>\n",
       "      <td>$59,900.00</td>\n",
       "      <td>$112,000.00</td>\n",
       "      <td>$59,500.00</td>\n",
       "      <td>$81,000.00</td>\n",
       "      <td>$149,000.00</td>\n",
       "      <td>$201,000.00</td>\n",
       "    </tr>\n",
       "    <tr>\n",
       "      <th>4</th>\n",
       "      <td>Occidental College</td>\n",
       "      <td>California</td>\n",
       "      <td>$51,900.00</td>\n",
       "      <td>$105,000.00</td>\n",
       "      <td>NaN</td>\n",
       "      <td>$54,800.00</td>\n",
       "      <td>$157,000.00</td>\n",
       "      <td>NaN</td>\n",
       "    </tr>\n",
       "    <tr>\n",
       "      <th>5</th>\n",
       "      <td>Cal Poly San Luis Obispo</td>\n",
       "      <td>California</td>\n",
       "      <td>$57,200.00</td>\n",
       "      <td>$101,000.00</td>\n",
       "      <td>$55,000.00</td>\n",
       "      <td>$74,700.00</td>\n",
       "      <td>$133,000.00</td>\n",
       "      <td>$178,000.00</td>\n",
       "    </tr>\n",
       "    <tr>\n",
       "      <th>6</th>\n",
       "      <td>University of California at Los Angeles (UCLA)</td>\n",
       "      <td>California</td>\n",
       "      <td>$52,600.00</td>\n",
       "      <td>$101,000.00</td>\n",
       "      <td>$51,300.00</td>\n",
       "      <td>$72,500.00</td>\n",
       "      <td>$139,000.00</td>\n",
       "      <td>$193,000.00</td>\n",
       "    </tr>\n",
       "    <tr>\n",
       "      <th>7</th>\n",
       "      <td>University of California, San Diego (UCSD)</td>\n",
       "      <td>California</td>\n",
       "      <td>$51,100.00</td>\n",
       "      <td>$101,000.00</td>\n",
       "      <td>$51,700.00</td>\n",
       "      <td>$75,400.00</td>\n",
       "      <td>$131,000.00</td>\n",
       "      <td>$177,000.00</td>\n",
       "    </tr>\n",
       "    <tr>\n",
       "      <th>8</th>\n",
       "      <td>Pomona College</td>\n",
       "      <td>California</td>\n",
       "      <td>$48,600.00</td>\n",
       "      <td>$101,000.00</td>\n",
       "      <td>NaN</td>\n",
       "      <td>$63,300.00</td>\n",
       "      <td>$161,000.00</td>\n",
       "      <td>NaN</td>\n",
       "    </tr>\n",
       "    <tr>\n",
       "      <th>9</th>\n",
       "      <td>University of Southern California (USC)</td>\n",
       "      <td>California</td>\n",
       "      <td>$54,800.00</td>\n",
       "      <td>$99,600.00</td>\n",
       "      <td>$49,700.00</td>\n",
       "      <td>$73,800.00</td>\n",
       "      <td>$140,000.00</td>\n",
       "      <td>$201,000.00</td>\n",
       "    </tr>\n",
       "  </tbody>\n",
       "</table>\n",
       "</div>"
      ],
      "text/plain": [
       "                                      School Name      Region  \\\n",
       "0                             Stanford University  California   \n",
       "1        California Institute of Technology (CIT)  California   \n",
       "2                             Harvey Mudd College  California   \n",
       "3              University of California, Berkeley  California   \n",
       "4                              Occidental College  California   \n",
       "5                        Cal Poly San Luis Obispo  California   \n",
       "6  University of California at Los Angeles (UCLA)  California   \n",
       "7      University of California, San Diego (UCSD)  California   \n",
       "8                                  Pomona College  California   \n",
       "9         University of Southern California (USC)  California   \n",
       "\n",
       "  Starting Median Salary Mid-Career Median Salary  \\\n",
       "0             $70,400.00              $129,000.00   \n",
       "1             $75,500.00              $123,000.00   \n",
       "2             $71,800.00              $122,000.00   \n",
       "3             $59,900.00              $112,000.00   \n",
       "4             $51,900.00              $105,000.00   \n",
       "5             $57,200.00              $101,000.00   \n",
       "6             $52,600.00              $101,000.00   \n",
       "7             $51,100.00              $101,000.00   \n",
       "8             $48,600.00              $101,000.00   \n",
       "9             $54,800.00               $99,600.00   \n",
       "\n",
       "  Mid-Career 10th Percentile Salary Mid-Career 25th Percentile Salary  \\\n",
       "0                        $68,400.00                        $93,100.00   \n",
       "1                               NaN                       $104,000.00   \n",
       "2                               NaN                        $96,000.00   \n",
       "3                        $59,500.00                        $81,000.00   \n",
       "4                               NaN                        $54,800.00   \n",
       "5                        $55,000.00                        $74,700.00   \n",
       "6                        $51,300.00                        $72,500.00   \n",
       "7                        $51,700.00                        $75,400.00   \n",
       "8                               NaN                        $63,300.00   \n",
       "9                        $49,700.00                        $73,800.00   \n",
       "\n",
       "  Mid-Career 75th Percentile Salary Mid-Career 90th Percentile Salary  \n",
       "0                       $184,000.00                       $257,000.00  \n",
       "1                       $161,000.00                               NaN  \n",
       "2                       $180,000.00                               NaN  \n",
       "3                       $149,000.00                       $201,000.00  \n",
       "4                       $157,000.00                               NaN  \n",
       "5                       $133,000.00                       $178,000.00  \n",
       "6                       $139,000.00                       $193,000.00  \n",
       "7                       $131,000.00                       $177,000.00  \n",
       "8                       $161,000.00                               NaN  \n",
       "9                       $140,000.00                       $201,000.00  "
      ]
     },
     "execution_count": 5,
     "metadata": {},
     "output_type": "execute_result"
    }
   ],
   "source": [
    "# Load in csv file.\n",
    "salaries_by_region_to_load = \"Final_Project/salaries_by_region.csv\"\n",
    "# Read csv file into Pandas dataframe.\n",
    "region_df = pd.read_csv(salaries_by_region_to_load)\n",
    "\n",
    "region_df.head(10)"
   ]
  },
  {
   "cell_type": "code",
   "execution_count": 8,
   "metadata": {},
   "outputs": [
    {
     "data": {
      "text/html": [
       "<div>\n",
       "<style scoped>\n",
       "    .dataframe tbody tr th:only-of-type {\n",
       "        vertical-align: middle;\n",
       "    }\n",
       "\n",
       "    .dataframe tbody tr th {\n",
       "        vertical-align: top;\n",
       "    }\n",
       "\n",
       "    .dataframe thead th {\n",
       "        text-align: right;\n",
       "    }\n",
       "</style>\n",
       "<table border=\"1\" class=\"dataframe\">\n",
       "  <thead>\n",
       "    <tr style=\"text-align: right;\">\n",
       "      <th></th>\n",
       "      <th>Region</th>\n",
       "      <th>Starting Median Salary</th>\n",
       "    </tr>\n",
       "  </thead>\n",
       "  <tbody>\n",
       "    <tr>\n",
       "      <th>0</th>\n",
       "      <td>California</td>\n",
       "      <td>$70,400.00</td>\n",
       "    </tr>\n",
       "    <tr>\n",
       "      <th>1</th>\n",
       "      <td>California</td>\n",
       "      <td>$75,500.00</td>\n",
       "    </tr>\n",
       "    <tr>\n",
       "      <th>2</th>\n",
       "      <td>California</td>\n",
       "      <td>$71,800.00</td>\n",
       "    </tr>\n",
       "    <tr>\n",
       "      <th>3</th>\n",
       "      <td>California</td>\n",
       "      <td>$59,900.00</td>\n",
       "    </tr>\n",
       "    <tr>\n",
       "      <th>4</th>\n",
       "      <td>California</td>\n",
       "      <td>$51,900.00</td>\n",
       "    </tr>\n",
       "    <tr>\n",
       "      <th>...</th>\n",
       "      <td>...</td>\n",
       "      <td>...</td>\n",
       "    </tr>\n",
       "    <tr>\n",
       "      <th>315</th>\n",
       "      <td>Northeastern</td>\n",
       "      <td>$38,000.00</td>\n",
       "    </tr>\n",
       "    <tr>\n",
       "      <th>316</th>\n",
       "      <td>Northeastern</td>\n",
       "      <td>$36,900.00</td>\n",
       "    </tr>\n",
       "    <tr>\n",
       "      <th>317</th>\n",
       "      <td>Northeastern</td>\n",
       "      <td>$37,800.00</td>\n",
       "    </tr>\n",
       "    <tr>\n",
       "      <th>318</th>\n",
       "      <td>Northeastern</td>\n",
       "      <td>$39,400.00</td>\n",
       "    </tr>\n",
       "    <tr>\n",
       "      <th>319</th>\n",
       "      <td>Northeastern</td>\n",
       "      <td>$43,700.00</td>\n",
       "    </tr>\n",
       "  </tbody>\n",
       "</table>\n",
       "<p>320 rows × 2 columns</p>\n",
       "</div>"
      ],
      "text/plain": [
       "           Region Starting Median Salary\n",
       "0      California             $70,400.00\n",
       "1      California             $75,500.00\n",
       "2      California             $71,800.00\n",
       "3      California             $59,900.00\n",
       "4      California             $51,900.00\n",
       "..            ...                    ...\n",
       "315  Northeastern             $38,000.00\n",
       "316  Northeastern             $36,900.00\n",
       "317  Northeastern             $37,800.00\n",
       "318  Northeastern             $39,400.00\n",
       "319  Northeastern             $43,700.00\n",
       "\n",
       "[320 rows x 2 columns]"
      ]
     },
     "execution_count": 8,
     "metadata": {},
     "output_type": "execute_result"
    }
   ],
   "source": [
    "# Drop all other columns besides 'Region' and 'Starting Median Salary'.\n",
    "region_df.drop(columns=['School Name', 'Mid-Career Median Salary', 'Mid-Career 10th Percentile Salary', 'Mid-Career 25th Percentile Salary', 'Mid-Career 75th Percentile Salary', 'Mid-Career 90th Percentile Salary'])"
   ]
  },
  {
   "cell_type": "code",
   "execution_count": 13,
   "metadata": {},
   "outputs": [
    {
     "data": {
      "text/plain": [
       "Northeastern    100\n",
       "Southern         79\n",
       "Midwestern       71\n",
       "Western          42\n",
       "California       28\n",
       "Name: Region, dtype: int64"
      ]
     },
     "execution_count": 13,
     "metadata": {},
     "output_type": "execute_result"
    }
   ],
   "source": [
    "# Find the totals for each region.\n",
    "region_df['Region'].value_counts()"
   ]
  },
  {
   "cell_type": "code",
   "execution_count": 15,
   "metadata": {},
   "outputs": [
    {
     "data": {
      "text/plain": [
       "320"
      ]
     },
     "execution_count": 15,
     "metadata": {},
     "output_type": "execute_result"
    }
   ],
   "source": [
    "# Get the sum of all data for Region.\n",
    "total_region = region_df[\"Region\"].count()\n",
    "total_region"
   ]
  },
  {
   "cell_type": "code",
   "execution_count": 16,
   "metadata": {},
   "outputs": [
    {
     "data": {
      "text/plain": [
       "31.25"
      ]
     },
     "execution_count": 16,
     "metadata": {},
     "output_type": "execute_result"
    }
   ],
   "source": [
    "# Get Northeastern region percentage from total regional data.\n",
    "northeastern_percent = 100 * 100 / 320\n",
    "northeastern_percent"
   ]
  },
  {
   "cell_type": "code",
   "execution_count": 17,
   "metadata": {},
   "outputs": [
    {
     "data": {
      "text/plain": [
       "24.6875"
      ]
     },
     "execution_count": 17,
     "metadata": {},
     "output_type": "execute_result"
    }
   ],
   "source": [
    "# Get Southern region percentage from total regional data.\n",
    "southern_percent = 100 * 79 / 320\n",
    "southern_percent"
   ]
  },
  {
   "cell_type": "code",
   "execution_count": 18,
   "metadata": {},
   "outputs": [
    {
     "data": {
      "text/plain": [
       "22.1875"
      ]
     },
     "execution_count": 18,
     "metadata": {},
     "output_type": "execute_result"
    }
   ],
   "source": [
    "# Get Midwestern region percentage from total regional data.\n",
    "midwestern_percent = 100 * 71 / 320\n",
    "midwestern_percent"
   ]
  },
  {
   "cell_type": "code",
   "execution_count": 19,
   "metadata": {},
   "outputs": [
    {
     "data": {
      "text/plain": [
       "13.125"
      ]
     },
     "execution_count": 19,
     "metadata": {},
     "output_type": "execute_result"
    }
   ],
   "source": [
    "# Get Western region percentage from total regional data.\n",
    "western_percent = 100 * 42 / 320\n",
    "western_percent"
   ]
  },
  {
   "cell_type": "code",
   "execution_count": 20,
   "metadata": {},
   "outputs": [
    {
     "data": {
      "text/plain": [
       "8.75"
      ]
     },
     "execution_count": 20,
     "metadata": {},
     "output_type": "execute_result"
    }
   ],
   "source": [
    "# Get California region percentage from total regional data.\n",
    "california_percent = 100 * 28 / 320\n",
    "california_percent"
   ]
  },
  {
   "cell_type": "code",
   "execution_count": 22,
   "metadata": {},
   "outputs": [],
   "source": [
    "# Assign one value for all the percentages.\n",
    "all_percentages = northeastern_percent, southern_percent, midwestern_percent, western_percent, california_percent"
   ]
  },
  {
   "cell_type": "code",
   "execution_count": 23,
   "metadata": {},
   "outputs": [
    {
     "data": {
      "image/png": "[encoded data removed]",
      "text/plain": [
       "<Figure size 432x288 with 1 Axes>"
      ]
     },
     "metadata": {},
     "output_type": "display_data"
    }
   ],
   "source": [
    "# Create initial pie chart for regional percentages.\n",
    "plt.pie(all_percentages, labels=[\"Northeastern\", \"Southern\", \"Midwestern\", \"Western\", \"California\"])\n",
    "plt.show()"
   ]
  },
  {
   "cell_type": "code",
   "execution_count": 34,
   "metadata": {},
   "outputs": [
    {
     "data": {
      "image/png": "[encoded data removed]",
      "text/plain": [
       "<Figure size 720x432 with 1 Axes>"
      ]
     },
     "metadata": {},
     "output_type": "display_data"
    }
   ],
   "source": [
    "# Create pie chart for regional data.\n",
    "plt.subplots(figsize=(10, 6))\n",
    "plt.pie(all_percentages,\n",
    "    labels=[\"Northeastern\", \"Southern\", \"Midwestern\", \"Western\", \"California\"],\n",
    "    colors=[\"indianred\", \"sandybrown\", \"chartreuse\", \"mediumpurple\", \"tomato\"],\n",
    "    explode=[0.1, 0, 0, 0, 0],\n",
    "    autopct='%1.1f%%',\n",
    "    shadow=True, startangle=150)\n",
    "plt.title(\"% of Total Regions\")\n",
    "# Save Figure\n",
    "plt.savefig(\"Final_Project/regionalpiecount.png\")\n",
    "# Show Figure\n",
    "plt.show()"
   ]
  },
  {
   "cell_type": "code",
   "execution_count": null,
   "metadata": {},
   "outputs": [],
   "source": []
  }
 ],
 "metadata": {
  "kernelspec": {
   "display_name": "Python 3",
   "language": "python",
   "name": "python3"
  },
  "language_info": {
   "codemirror_mode": {
    "name": "ipython",
    "version": 3
   },
   "file_extension": ".py",
   "mimetype": "text/x-python",
   "name": "python",
   "nbconvert_exporter": "python",
   "pygments_lexer": "ipython3",
   "version": "3.7.7"
  }
 },
 "nbformat": 4,
 "nbformat_minor": 4
}
