{
 "cells": [
  {
   "cell_type": "code",
   "execution_count": 1,
   "metadata": {},
   "outputs": [],
   "source": [
    "## Explore dataset by regions and create visualizations that help see the correlation between U.S. regions and salary."
   ]
  },
  {
   "cell_type": "code",
   "execution_count": 2,
   "metadata": {},
   "outputs": [],
   "source": [
    "# Import dependancies.\n",
    "import pandas as pd \n",
    "import numpy as np \n",
    "import matplotlib.pyplot as plt\n",
    "import statistics\n",
    "from pathlib import Path\n",
    "\n",
    "# Add Matplotlib inline magic command.\n",
    "%matplotlib inline"
   ]
  },
  {
   "cell_type": "code",
   "execution_count": 3,
   "metadata": {},
   "outputs": [
    {
     "data": {
      "text/html": [
       "<div>\n",
       "<style scoped>\n",
       "    .dataframe tbody tr th:only-of-type {\n",
       "        vertical-align: middle;\n",
       "    }\n",
       "\n",
       "    .dataframe tbody tr th {\n",
       "        vertical-align: top;\n",
       "    }\n",
       "\n",
       "    .dataframe thead th {\n",
       "        text-align: right;\n",
       "    }\n",
       "</style>\n",
       "<table border=\"1\" class=\"dataframe\">\n",
       "  <thead>\n",
       "    <tr style=\"text-align: right;\">\n",
       "      <th></th>\n",
       "      <th>School Name</th>\n",
       "      <th>Region</th>\n",
       "      <th>Starting Median Salary</th>\n",
       "      <th>Mid-Career Median Salary</th>\n",
       "      <th>Mid-Career 10th Percentile Salary</th>\n",
       "      <th>Mid-Career 25th Percentile Salary</th>\n",
       "      <th>Mid-Career 75th Percentile Salary</th>\n",
       "      <th>Mid-Career 90th Percentile Salary</th>\n",
       "    </tr>\n",
       "  </thead>\n",
       "  <tbody>\n",
       "    <tr>\n",
       "      <th>0</th>\n",
       "      <td>Stanford University</td>\n",
       "      <td>California</td>\n",
       "      <td>$70,400.00</td>\n",
       "      <td>$129,000.00</td>\n",
       "      <td>$68,400.00</td>\n",
       "      <td>$93,100.00</td>\n",
       "      <td>$184,000.00</td>\n",
       "      <td>$257,000.00</td>\n",
       "    </tr>\n",
       "    <tr>\n",
       "      <th>1</th>\n",
       "      <td>California Institute of Technology (CIT)</td>\n",
       "      <td>California</td>\n",
       "      <td>$75,500.00</td>\n",
       "      <td>$123,000.00</td>\n",
       "      <td>NaN</td>\n",
       "      <td>$104,000.00</td>\n",
       "      <td>$161,000.00</td>\n",
       "      <td>NaN</td>\n",
       "    </tr>\n",
       "    <tr>\n",
       "      <th>2</th>\n",
       "      <td>Harvey Mudd College</td>\n",
       "      <td>California</td>\n",
       "      <td>$71,800.00</td>\n",
       "      <td>$122,000.00</td>\n",
       "      <td>NaN</td>\n",
       "      <td>$96,000.00</td>\n",
       "      <td>$180,000.00</td>\n",
       "      <td>NaN</td>\n",
       "    </tr>\n",
       "    <tr>\n",
       "      <th>3</th>\n",
       "      <td>University of California, Berkeley</td>\n",
       "      <td>California</td>\n",
       "      <td>$59,900.00</td>\n",
       "      <td>$112,000.00</td>\n",
       "      <td>$59,500.00</td>\n",
       "      <td>$81,000.00</td>\n",
       "      <td>$149,000.00</td>\n",
       "      <td>$201,000.00</td>\n",
       "    </tr>\n",
       "    <tr>\n",
       "      <th>4</th>\n",
       "      <td>Occidental College</td>\n",
       "      <td>California</td>\n",
       "      <td>$51,900.00</td>\n",
       "      <td>$105,000.00</td>\n",
       "      <td>NaN</td>\n",
       "      <td>$54,800.00</td>\n",
       "      <td>$157,000.00</td>\n",
       "      <td>NaN</td>\n",
       "    </tr>\n",
       "    <tr>\n",
       "      <th>...</th>\n",
       "      <td>...</td>\n",
       "      <td>...</td>\n",
       "      <td>...</td>\n",
       "      <td>...</td>\n",
       "      <td>...</td>\n",
       "      <td>...</td>\n",
       "      <td>...</td>\n",
       "      <td>...</td>\n",
       "    </tr>\n",
       "    <tr>\n",
       "      <th>315</th>\n",
       "      <td>State University of New York (SUNY) at Potsdam</td>\n",
       "      <td>Northeastern</td>\n",
       "      <td>$38,000.00</td>\n",
       "      <td>$70,300.00</td>\n",
       "      <td>$35,100.00</td>\n",
       "      <td>$51,200.00</td>\n",
       "      <td>$100,000.00</td>\n",
       "      <td>$179,000.00</td>\n",
       "    </tr>\n",
       "    <tr>\n",
       "      <th>316</th>\n",
       "      <td>Niagara University</td>\n",
       "      <td>Northeastern</td>\n",
       "      <td>$36,900.00</td>\n",
       "      <td>$69,700.00</td>\n",
       "      <td>$44,000.00</td>\n",
       "      <td>$57,000.00</td>\n",
       "      <td>$92,000.00</td>\n",
       "      <td>$128,000.00</td>\n",
       "    </tr>\n",
       "    <tr>\n",
       "      <th>317</th>\n",
       "      <td>State University of New York (SUNY) at Fredonia</td>\n",
       "      <td>Northeastern</td>\n",
       "      <td>$37,800.00</td>\n",
       "      <td>$66,200.00</td>\n",
       "      <td>$32,800.00</td>\n",
       "      <td>$44,200.00</td>\n",
       "      <td>$93,300.00</td>\n",
       "      <td>$181,000.00</td>\n",
       "    </tr>\n",
       "    <tr>\n",
       "      <th>318</th>\n",
       "      <td>University of Southern Maine</td>\n",
       "      <td>Northeastern</td>\n",
       "      <td>$39,400.00</td>\n",
       "      <td>$63,600.00</td>\n",
       "      <td>$40,400.00</td>\n",
       "      <td>$47,900.00</td>\n",
       "      <td>$85,700.00</td>\n",
       "      <td>$117,000.00</td>\n",
       "    </tr>\n",
       "    <tr>\n",
       "      <th>319</th>\n",
       "      <td>Mercy College</td>\n",
       "      <td>Northeastern</td>\n",
       "      <td>$43,700.00</td>\n",
       "      <td>$62,600.00</td>\n",
       "      <td>$35,600.00</td>\n",
       "      <td>$47,300.00</td>\n",
       "      <td>$99,000.00</td>\n",
       "      <td>$134,000.00</td>\n",
       "    </tr>\n",
       "  </tbody>\n",
       "</table>\n",
       "<p>320 rows × 8 columns</p>\n",
       "</div>"
      ],
      "text/plain": [
       "                                         School Name        Region  \\\n",
       "0                                Stanford University    California   \n",
       "1           California Institute of Technology (CIT)    California   \n",
       "2                                Harvey Mudd College    California   \n",
       "3                 University of California, Berkeley    California   \n",
       "4                                 Occidental College    California   \n",
       "..                                               ...           ...   \n",
       "315   State University of New York (SUNY) at Potsdam  Northeastern   \n",
       "316                               Niagara University  Northeastern   \n",
       "317  State University of New York (SUNY) at Fredonia  Northeastern   \n",
       "318                     University of Southern Maine  Northeastern   \n",
       "319                                    Mercy College  Northeastern   \n",
       "\n",
       "    Starting Median Salary Mid-Career Median Salary  \\\n",
       "0               $70,400.00              $129,000.00   \n",
       "1               $75,500.00              $123,000.00   \n",
       "2               $71,800.00              $122,000.00   \n",
       "3               $59,900.00              $112,000.00   \n",
       "4               $51,900.00              $105,000.00   \n",
       "..                     ...                      ...   \n",
       "315             $38,000.00               $70,300.00   \n",
       "316             $36,900.00               $69,700.00   \n",
       "317             $37,800.00               $66,200.00   \n",
       "318             $39,400.00               $63,600.00   \n",
       "319             $43,700.00               $62,600.00   \n",
       "\n",
       "    Mid-Career 10th Percentile Salary Mid-Career 25th Percentile Salary  \\\n",
       "0                          $68,400.00                        $93,100.00   \n",
       "1                                 NaN                       $104,000.00   \n",
       "2                                 NaN                        $96,000.00   \n",
       "3                          $59,500.00                        $81,000.00   \n",
       "4                                 NaN                        $54,800.00   \n",
       "..                                ...                               ...   \n",
       "315                        $35,100.00                        $51,200.00   \n",
       "316                        $44,000.00                        $57,000.00   \n",
       "317                        $32,800.00                        $44,200.00   \n",
       "318                        $40,400.00                        $47,900.00   \n",
       "319                        $35,600.00                        $47,300.00   \n",
       "\n",
       "    Mid-Career 75th Percentile Salary Mid-Career 90th Percentile Salary  \n",
       "0                         $184,000.00                       $257,000.00  \n",
       "1                         $161,000.00                               NaN  \n",
       "2                         $180,000.00                               NaN  \n",
       "3                         $149,000.00                       $201,000.00  \n",
       "4                         $157,000.00                               NaN  \n",
       "..                                ...                               ...  \n",
       "315                       $100,000.00                       $179,000.00  \n",
       "316                        $92,000.00                       $128,000.00  \n",
       "317                        $93,300.00                       $181,000.00  \n",
       "318                        $85,700.00                       $117,000.00  \n",
       "319                        $99,000.00                       $134,000.00  \n",
       "\n",
       "[320 rows x 8 columns]"
      ]
     },
     "execution_count": 3,
     "metadata": {},
     "output_type": "execute_result"
    }
   ],
   "source": [
    "pd.read_csv('salaries_by_region.csv') \n",
    "region_df = pd.read_csv('salaries_by_region.csv')\n",
    "region_df"
   ]
  },
  {
   "cell_type": "code",
   "execution_count": 4,
   "metadata": {},
   "outputs": [],
   "source": [
    "del region_df['School Name']\n",
    "del region_df['Mid-Career Median Salary']\n",
    "del region_df['Mid-Career 10th Percentile Salary']\n",
    "del region_df['Mid-Career 25th Percentile Salary']\n",
    "del region_df['Mid-Career 75th Percentile Salary']\n",
    "del region_df['Mid-Career 90th Percentile Salary']"
   ]
  },
  {
   "cell_type": "code",
   "execution_count": 5,
   "metadata": {},
   "outputs": [
    {
     "data": {
      "text/plain": [
       "Northeastern    100\n",
       "Southern         79\n",
       "Midwestern       71\n",
       "Western          42\n",
       "California       28\n",
       "Name: Region, dtype: int64"
      ]
     },
     "execution_count": 5,
     "metadata": {},
     "output_type": "execute_result"
    }
   ],
   "source": [
    "# Find the totals for each region.\n",
    "region_df['Region'].value_counts()"
   ]
  },
  {
   "cell_type": "code",
   "execution_count": 6,
   "metadata": {},
   "outputs": [
    {
     "data": {
      "text/plain": [
       "320"
      ]
     },
     "execution_count": 6,
     "metadata": {},
     "output_type": "execute_result"
    }
   ],
   "source": [
    "# Get the sum of all data for Region.\n",
    "total_region = region_df[\"Region\"].count()\n",
    "total_region"
   ]
  },
  {
   "cell_type": "code",
   "execution_count": 7,
   "metadata": {},
   "outputs": [
    {
     "data": {
      "text/plain": [
       "31.25"
      ]
     },
     "execution_count": 7,
     "metadata": {},
     "output_type": "execute_result"
    }
   ],
   "source": [
    "# Get Northeastern region percentage from total regional data.\n",
    "northeastern_percent = 100 * 100 / 320\n",
    "northeastern_percent"
   ]
  },
  {
   "cell_type": "code",
   "execution_count": 8,
   "metadata": {},
   "outputs": [
    {
     "data": {
      "text/plain": [
       "24.6875"
      ]
     },
     "execution_count": 8,
     "metadata": {},
     "output_type": "execute_result"
    }
   ],
   "source": [
    "# Get Southern region percentage from total regional data.\n",
    "southern_percent = 100 * 79 / 320\n",
    "southern_percent"
   ]
  },
  {
   "cell_type": "code",
   "execution_count": 9,
   "metadata": {},
   "outputs": [
    {
     "data": {
      "text/plain": [
       "22.1875"
      ]
     },
     "execution_count": 9,
     "metadata": {},
     "output_type": "execute_result"
    }
   ],
   "source": [
    "# Get Midwestern region percentage from total regional data.\n",
    "midwestern_percent = 100 * 71 / 320\n",
    "midwestern_percent"
   ]
  },
  {
   "cell_type": "code",
   "execution_count": 10,
   "metadata": {},
   "outputs": [
    {
     "data": {
      "text/plain": [
       "13.125"
      ]
     },
     "execution_count": 10,
     "metadata": {},
     "output_type": "execute_result"
    }
   ],
   "source": [
    "# Get Western region percentage from total regional data.\n",
    "western_percent = 100 * 42 / 320\n",
    "western_percent"
   ]
  },
  {
   "cell_type": "code",
   "execution_count": 11,
   "metadata": {},
   "outputs": [
    {
     "data": {
      "text/plain": [
       "8.75"
      ]
     },
     "execution_count": 11,
     "metadata": {},
     "output_type": "execute_result"
    }
   ],
   "source": [
    "# Get California region percentage from total regional data.\n",
    "california_percent = 100 * 28 / 320\n",
    "california_percent"
   ]
  },
  {
   "cell_type": "code",
   "execution_count": 12,
   "metadata": {},
   "outputs": [],
   "source": [
    "# Assign one value for all the percentages.\n",
    "all_percentages = northeastern_percent, southern_percent, midwestern_percent, western_percent, california_percent"
   ]
  },
  {
   "cell_type": "code",
   "execution_count": 13,
   "metadata": {},
   "outputs": [
    {
     "data": {
      "image/png": "[encoded data removed]",
      "text/plain": [
       "<Figure size 432x288 with 1 Axes>"
      ]
     },
     "metadata": {},
     "output_type": "display_data"
    }
   ],
   "source": [
    "# Create initial pie chart for regional percentages.\n",
    "plt.pie(all_percentages, labels=[\"Northeastern\", \"Southern\", \"Midwestern\", \"Western\", \"California\"])\n",
    "plt.show()"
   ]
  },
  {
   "cell_type": "code",
   "execution_count": 14,
   "metadata": {},
   "outputs": [
    {
     "data": {
      "image/png": "[encoded data removed]",
      "text/plain": [
       "<Figure size 720x432 with 1 Axes>"
      ]
     },
     "metadata": {},
     "output_type": "display_data"
    }
   ],
   "source": [
    "# Create pie chart for regional data.\n",
    "plt.subplots(figsize=(10, 6))\n",
    "plt.pie(all_percentages,\n",
    "    labels=[\"Northeastern\", \"Southern\", \"Midwestern\", \"Western\", \"California\"],\n",
    "    colors=[\"indianred\", \"sandybrown\", \"chartreuse\", \"mediumpurple\", \"tomato\"],\n",
    "    explode=[0.1, 0, 0, 0, 0],\n",
    "    autopct='%1.1f%%',\n",
    "    shadow=True, startangle=150)\n",
    "plt.title(\"% of Total Regions\")\n",
    "# Save Figure\n",
    "plt.savefig(\"regional_analysis_graphs/regionalpiecount.png\")\n",
    "# Show Figure\n",
    "plt.show()"
   ]
  },
  {
   "cell_type": "code",
   "execution_count": 15,
   "metadata": {},
   "outputs": [
    {
     "data": {
      "text/plain": [
       "Region\n",
       "California      $70,400.00\n",
       "California      $75,500.00\n",
       "California      $71,800.00\n",
       "California      $59,900.00\n",
       "California      $51,900.00\n",
       "                   ...    \n",
       "Northeastern    $38,000.00\n",
       "Northeastern    $36,900.00\n",
       "Northeastern    $37,800.00\n",
       "Northeastern    $39,400.00\n",
       "Northeastern    $43,700.00\n",
       "Name: Starting Median Salary, Length: 320, dtype: object"
      ]
     },
     "execution_count": 15,
     "metadata": {},
     "output_type": "execute_result"
    }
   ],
   "source": [
    "# Create index for columns.\n",
    "region_data = region_df.set_index([\"Region\"])[\"Starting Median Salary\"]\n",
    "region_data"
   ]
  },
  {
   "cell_type": "code",
   "execution_count": 16,
   "metadata": {},
   "outputs": [
    {
     "data": {
      "text/html": [
       "<div>\n",
       "<style scoped>\n",
       "    .dataframe tbody tr th:only-of-type {\n",
       "        vertical-align: middle;\n",
       "    }\n",
       "\n",
       "    .dataframe tbody tr th {\n",
       "        vertical-align: top;\n",
       "    }\n",
       "\n",
       "    .dataframe thead th {\n",
       "        text-align: right;\n",
       "    }\n",
       "</style>\n",
       "<table border=\"1\" class=\"dataframe\">\n",
       "  <thead>\n",
       "    <tr style=\"text-align: right;\">\n",
       "      <th></th>\n",
       "      <th>Starting Median Salary</th>\n",
       "    </tr>\n",
       "    <tr>\n",
       "      <th>Region</th>\n",
       "      <th></th>\n",
       "    </tr>\n",
       "  </thead>\n",
       "  <tbody>\n",
       "    <tr>\n",
       "      <th>California</th>\n",
       "      <td>$70,400.00</td>\n",
       "    </tr>\n",
       "    <tr>\n",
       "      <th>California</th>\n",
       "      <td>$75,500.00</td>\n",
       "    </tr>\n",
       "    <tr>\n",
       "      <th>California</th>\n",
       "      <td>$71,800.00</td>\n",
       "    </tr>\n",
       "    <tr>\n",
       "      <th>California</th>\n",
       "      <td>$59,900.00</td>\n",
       "    </tr>\n",
       "    <tr>\n",
       "      <th>California</th>\n",
       "      <td>$51,900.00</td>\n",
       "    </tr>\n",
       "    <tr>\n",
       "      <th>...</th>\n",
       "      <td>...</td>\n",
       "    </tr>\n",
       "    <tr>\n",
       "      <th>Northeastern</th>\n",
       "      <td>$38,000.00</td>\n",
       "    </tr>\n",
       "    <tr>\n",
       "      <th>Northeastern</th>\n",
       "      <td>$36,900.00</td>\n",
       "    </tr>\n",
       "    <tr>\n",
       "      <th>Northeastern</th>\n",
       "      <td>$37,800.00</td>\n",
       "    </tr>\n",
       "    <tr>\n",
       "      <th>Northeastern</th>\n",
       "      <td>$39,400.00</td>\n",
       "    </tr>\n",
       "    <tr>\n",
       "      <th>Northeastern</th>\n",
       "      <td>$43,700.00</td>\n",
       "    </tr>\n",
       "  </tbody>\n",
       "</table>\n",
       "<p>320 rows × 1 columns</p>\n",
       "</div>"
      ],
      "text/plain": [
       "             Starting Median Salary\n",
       "Region                             \n",
       "California               $70,400.00\n",
       "California               $75,500.00\n",
       "California               $71,800.00\n",
       "California               $59,900.00\n",
       "California               $51,900.00\n",
       "...                             ...\n",
       "Northeastern             $38,000.00\n",
       "Northeastern             $36,900.00\n",
       "Northeastern             $37,800.00\n",
       "Northeastern             $39,400.00\n",
       "Northeastern             $43,700.00\n",
       "\n",
       "[320 rows x 1 columns]"
      ]
     },
     "execution_count": 16,
     "metadata": {},
     "output_type": "execute_result"
    }
   ],
   "source": [
    "# Make new dataframe with region as index.\n",
    "region_df = pd.DataFrame(region_data)\n",
    "region_df"
   ]
  },
  {
   "cell_type": "code",
   "execution_count": 17,
   "metadata": {},
   "outputs": [
    {
     "data": {
      "text/plain": [
       "Region\n",
       "California      70400.00\n",
       "California      75500.00\n",
       "California      71800.00\n",
       "California      59900.00\n",
       "California      51900.00\n",
       "                  ...   \n",
       "Northeastern    38000.00\n",
       "Northeastern    36900.00\n",
       "Northeastern    37800.00\n",
       "Northeastern    39400.00\n",
       "Northeastern    43700.00\n",
       "Name: Starting Median Salary, Length: 320, dtype: object"
      ]
     },
     "execution_count": 17,
     "metadata": {},
     "output_type": "execute_result"
    }
   ],
   "source": [
    "# Reformat column to numeric.\n",
    "region_df['Starting Median Salary'] = region_df['Starting Median Salary'].str.replace(',', '')\n",
    "region_df['Starting Median Salary'] = region_df['Starting Median Salary'].str.replace('$', '')\n",
    "region_df['Starting Median Salary']"
   ]
  },
  {
   "cell_type": "code",
   "execution_count": 18,
   "metadata": {},
   "outputs": [],
   "source": [
    "# Reformat column from object to float.\n",
    "region_df[\"Starting Median Salary\"] = region_df.astype(float)"
   ]
  },
  {
   "cell_type": "code",
   "execution_count": 19,
   "metadata": {},
   "outputs": [
    {
     "data": {
      "text/html": [
       "<div>\n",
       "<style scoped>\n",
       "    .dataframe tbody tr th:only-of-type {\n",
       "        vertical-align: middle;\n",
       "    }\n",
       "\n",
       "    .dataframe tbody tr th {\n",
       "        vertical-align: top;\n",
       "    }\n",
       "\n",
       "    .dataframe thead th {\n",
       "        text-align: right;\n",
       "    }\n",
       "</style>\n",
       "<table border=\"1\" class=\"dataframe\">\n",
       "  <thead>\n",
       "    <tr style=\"text-align: right;\">\n",
       "      <th></th>\n",
       "      <th>Starting Median Salary</th>\n",
       "    </tr>\n",
       "    <tr>\n",
       "      <th>Region</th>\n",
       "      <th></th>\n",
       "    </tr>\n",
       "  </thead>\n",
       "  <tbody>\n",
       "    <tr>\n",
       "      <th>California</th>\n",
       "      <td>70400.0</td>\n",
       "    </tr>\n",
       "    <tr>\n",
       "      <th>California</th>\n",
       "      <td>75500.0</td>\n",
       "    </tr>\n",
       "    <tr>\n",
       "      <th>California</th>\n",
       "      <td>71800.0</td>\n",
       "    </tr>\n",
       "    <tr>\n",
       "      <th>California</th>\n",
       "      <td>59900.0</td>\n",
       "    </tr>\n",
       "    <tr>\n",
       "      <th>California</th>\n",
       "      <td>51900.0</td>\n",
       "    </tr>\n",
       "  </tbody>\n",
       "</table>\n",
       "</div>"
      ],
      "text/plain": [
       "            Starting Median Salary\n",
       "Region                            \n",
       "California                 70400.0\n",
       "California                 75500.0\n",
       "California                 71800.0\n",
       "California                 59900.0\n",
       "California                 51900.0"
      ]
     },
     "execution_count": 19,
     "metadata": {},
     "output_type": "execute_result"
    }
   ],
   "source": [
    "region_df.head()"
   ]
  },
  {
   "cell_type": "code",
   "execution_count": 20,
   "metadata": {},
   "outputs": [
    {
     "data": {
      "text/plain": [
       "<bound method NDFrame.head of 0        California\n",
       "1        California\n",
       "2        California\n",
       "3        California\n",
       "4        California\n",
       "           ...     \n",
       "315    Northeastern\n",
       "316    Northeastern\n",
       "317    Northeastern\n",
       "318    Northeastern\n",
       "319    Northeastern\n",
       "Name: Region, Length: 320, dtype: object>"
      ]
     },
     "execution_count": 20,
     "metadata": {},
     "output_type": "execute_result"
    }
   ],
   "source": [
    "# Use loc method to locate all of the different regions.\n",
    "region_df = region_df.reset_index()\n",
    "region_df.loc[:,\"Region\"].head"
   ]
  },
  {
   "cell_type": "code",
   "execution_count": 21,
   "metadata": {},
   "outputs": [
    {
     "data": {
      "text/plain": [
       "<bound method NDFrame.head of 0        California\n",
       "1        California\n",
       "2        California\n",
       "3        California\n",
       "4        California\n",
       "           ...     \n",
       "315    Northeastern\n",
       "316    Northeastern\n",
       "317    Northeastern\n",
       "318    Northeastern\n",
       "319    Northeastern\n",
       "Name: Region, Length: 320, dtype: object>"
      ]
     },
     "execution_count": 21,
     "metadata": {},
     "output_type": "execute_result"
    }
   ],
   "source": [
    "region_df.loc[:,\"Region\"].head"
   ]
  },
  {
   "cell_type": "code",
   "execution_count": 32,
   "metadata": {},
   "outputs": [
    {
     "data": {
      "image/png": "[encoded data removed]",
      "text/plain": [
       "<Figure size 1080x648 with 1 Axes>"
      ]
     },
     "metadata": {
      "needs_background": "light"
     },
     "output_type": "display_data"
    }
   ],
   "source": [
    "# Create Line Chart.\n",
    "plt.figure(figsize=(15, 9))\n",
    "plt.plot(region_df.loc[:,\"Region\"], region_df.loc[:,\"Starting Median Salary\"], label=\"Salary by Regions\", color=\"goldenrod\")\n",
    "\n",
    "plt.suptitle('Starting Median Salary by Region', fontsize=24)\n",
    "plt.xlabel('Regions', fontsize=20)\n",
    "plt.ylabel('Starting Median Salaries ($)', fontsize=20)\n",
    "plt.grid()\n",
    "# Save Figure\n",
    "plt.savefig(\"regional_analysis_graphs/StartingSalariesbyRegions.png\")"
   ]
  },
  {
   "cell_type": "code",
   "execution_count": null,
   "metadata": {},
   "outputs": [],
   "source": []
  }
 ],
 "metadata": {
  "kernelspec": {
   "display_name": "Python 3",
   "language": "python",
   "name": "python3"
  },
  "language_info": {
   "codemirror_mode": {
    "name": "ipython",
    "version": 3
   },
   "file_extension": ".py",
   "mimetype": "text/x-python",
   "name": "python",
   "nbconvert_exporter": "python",
   "pygments_lexer": "ipython3",
   "version": "3.7.7"
  }
 },
 "nbformat": 4,
 "nbformat_minor": 4
}
